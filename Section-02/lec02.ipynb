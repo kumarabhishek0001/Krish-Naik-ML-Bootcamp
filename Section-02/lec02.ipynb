{
 "cells": [
  {
   "cell_type": "markdown",
   "id": "ac49183f",
   "metadata": {},
   "source": [
    "## Inroduction to Variable\n",
    "- fundamental elements in programming\n",
    "- used to store data\n",
    "- in python we do not need explicit declaration\n",
    "- declaration happens automatically when we assign value to them"
   ]
  },
  {
   "cell_type": "code",
   "execution_count": 1,
   "id": "3477408d",
   "metadata": {},
   "outputs": [
    {
     "name": "stdout",
     "output_type": "stream",
     "text": [
      "100\n"
     ]
    }
   ],
   "source": [
    "a = 100\n",
    "print(a)"
   ]
  },
  {
   "cell_type": "code",
   "execution_count": 1,
   "id": "df510ab4",
   "metadata": {},
   "outputs": [
    {
     "name": "stdout",
     "output_type": "stream",
     "text": [
      "age:  23\n",
      "height:  6.1\n",
      "name:  Abhishek\n"
     ]
    }
   ],
   "source": [
    "## declaring and assigning variables\n",
    "age = 23\n",
    "height = 6.1\n",
    "name = \"Abhishek\"\n",
    "is_student = True\n",
    "\n",
    "print(\"age: \", age)\n",
    "print(\"height: \", height)\n",
    "print(\"name: \", name)"
   ]
  },
  {
   "cell_type": "code",
   "execution_count": null,
   "id": "5b398376",
   "metadata": {},
   "outputs": [],
   "source": [
    "## naming convention\n",
    "## varible names should be descriptive\n",
    "## must start with a letter or an '_' and contains letter, number and underscore\n",
    "\n",
    "## valid variable name\n",
    "first_name = \"Abhishek\"\n",
    "last_name = \"Jha\"\n",
    "\n",
    "## invaid variable name\n",
    "1name = \"abhishek\"\n",
    "first-name = \"abhishek\"\n",
    "@name = \"abhishek\""
   ]
  },
  {
   "cell_type": "code",
   "execution_count": 3,
   "id": "170fb425",
   "metadata": {},
   "outputs": [
    {
     "data": {
      "text/plain": [
       "False"
      ]
     },
     "execution_count": 3,
     "metadata": {},
     "output_type": "execute_result"
    }
   ],
   "source": [
    "## case sensitivity of variables\n",
    "name = 'abhishek'\n",
    "Name = 'jha'\n",
    "\n",
    "name == Name"
   ]
  },
  {
   "cell_type": "code",
   "execution_count": 4,
   "id": "87752161",
   "metadata": {},
   "outputs": [
    {
     "name": "stdout",
     "output_type": "stream",
     "text": [
      "<class 'bool'>\n"
     ]
    }
   ],
   "source": [
    "## understanding variable types\n",
    "## python is dynamically typed - type of variable is determined at runtime\n",
    "\n",
    "age = 25 ## integer\n",
    "height = 6.1 ## float\n",
    "name = \"Krish\" ## string\n",
    "is_Student = True ## bool\n",
    "\n",
    "print(type(is_Student))"
   ]
  },
  {
   "cell_type": "code",
   "execution_count": 6,
   "id": "fd3c52a7",
   "metadata": {},
   "outputs": [
    {
     "name": "stdout",
     "output_type": "stream",
     "text": [
      "<class 'int'>\n",
      "25\n",
      "<class 'str'>\n"
     ]
    }
   ],
   "source": [
    "## typechecking \n",
    "print(type(age))\n",
    "\n",
    "## typeconverions\n",
    "age_str = str(age)\n",
    "print(age_str)\n",
    "print(type(age_str))"
   ]
  },
  {
   "cell_type": "markdown",
   "id": "9ba902f2",
   "metadata": {},
   "source": [
    "### Typechecking examples"
   ]
  },
  {
   "cell_type": "code",
   "execution_count": 7,
   "id": "5cb38c19",
   "metadata": {},
   "outputs": [
    {
     "name": "stdout",
     "output_type": "stream",
     "text": [
      "<class 'str'>\n",
      "<class 'int'>\n"
     ]
    }
   ],
   "source": [
    "age = '23'\n",
    "print(type(age))\n",
    "\n",
    "print(type(int(age)))"
   ]
  },
  {
   "cell_type": "code",
   "execution_count": 8,
   "id": "2cd62be9",
   "metadata": {},
   "outputs": [
    {
     "ename": "ValueError",
     "evalue": "invalid literal for int() with base 10: 'abhishek'",
     "output_type": "error",
     "traceback": [
      "\u001b[1;31m---------------------------------------------------------------------------\u001b[0m",
      "\u001b[1;31mValueError\u001b[0m                                Traceback (most recent call last)",
      "Cell \u001b[1;32mIn[8], line 3\u001b[0m\n\u001b[0;32m      1\u001b[0m \u001b[38;5;66;03m## Example-2\u001b[39;00m\n\u001b[0;32m      2\u001b[0m name \u001b[38;5;241m=\u001b[39m \u001b[38;5;124m'\u001b[39m\u001b[38;5;124mabhishek\u001b[39m\u001b[38;5;124m'\u001b[39m\n\u001b[1;32m----> 3\u001b[0m \u001b[38;5;28;43mint\u001b[39;49m\u001b[43m(\u001b[49m\u001b[43mname\u001b[49m\u001b[43m)\u001b[49m\n",
      "\u001b[1;31mValueError\u001b[0m: invalid literal for int() with base 10: 'abhishek'"
     ]
    }
   ],
   "source": [
    "## Example-2\n",
    "name = 'abhishek'\n",
    "int(name)"
   ]
  },
  {
   "cell_type": "code",
   "execution_count": 10,
   "id": "b442fc0d",
   "metadata": {},
   "outputs": [
    {
     "name": "stdout",
     "output_type": "stream",
     "text": [
      "previous height:  5.11\n",
      "<class 'float'>\n",
      "---------------------------------------\n",
      "5\n",
      "<class 'int'>\n"
     ]
    }
   ],
   "source": [
    "height = 5.11\n",
    "print('previous height: ', height)\n",
    "print(type(height))\n",
    "\n",
    "print('---------------------------------------')\n",
    "\n",
    "height = int(height)\n",
    "print(height)\n",
    "print(type(height))"
   ]
  },
  {
   "cell_type": "code",
   "execution_count": 11,
   "id": "a569f1cf",
   "metadata": {},
   "outputs": [
    {
     "name": "stdout",
     "output_type": "stream",
     "text": [
      "10 <class 'int'>\n",
      "hello <class 'str'>\n"
     ]
    }
   ],
   "source": [
    "## dynamic typing - python allows type of vaiable to change as the program executes\n",
    "\n",
    "var = 10 ## int\n",
    "print(var, type(var))\n",
    "\n",
    "var = 'hello' ## string\n",
    "print(var, type(var))\n"
   ]
  },
  {
   "cell_type": "code",
   "execution_count": 12,
   "id": "9666d439",
   "metadata": {},
   "outputs": [
    {
     "name": "stdout",
     "output_type": "stream",
     "text": [
      "12\n"
     ]
    }
   ],
   "source": [
    "## input\n",
    "age = input('what is you age')\n",
    "print(age)"
   ]
  },
  {
   "cell_type": "code",
   "execution_count": 13,
   "id": "3710101b",
   "metadata": {},
   "outputs": [
    {
     "name": "stdout",
     "output_type": "stream",
     "text": [
      "12 <class 'str'>\n"
     ]
    }
   ],
   "source": [
    "print(age, type(age))"
   ]
  },
  {
   "cell_type": "code",
   "execution_count": 14,
   "id": "d1a676f0",
   "metadata": {},
   "outputs": [
    {
     "name": "stdout",
     "output_type": "stream",
     "text": [
      "12 <class 'int'>\n"
     ]
    }
   ],
   "source": [
    "## typecasting inputs\n",
    "age = int(input('what is your age: '))\n",
    "print(age, type(age))"
   ]
  },
  {
   "cell_type": "code",
   "execution_count": 15,
   "id": "2e6447b3",
   "metadata": {},
   "outputs": [
    {
     "name": "stdout",
     "output_type": "stream",
     "text": [
      "Sum:  30.0\n",
      "Difference:  10.0\n",
      "Product:  200.0\n",
      "Quotient:  2.0\n"
     ]
    }
   ],
   "source": [
    "## Simple calculator\n",
    "\n",
    "num1 = float(input('Enter fisrt number'))\n",
    "num2 = float(input('Enter fisrt number'))\n",
    "\n",
    "## operations\n",
    "addition = num1+num2\n",
    "subtraction = num1 - num2\n",
    "multiplication  = num1*num2\n",
    "division = num1/num2\n",
    "\n",
    "## printing result\n",
    "print(\"Sum: \", addition)\n",
    "print(\"Difference: \", subtraction)\n",
    "print(\"Product: \", multiplication)\n",
    "print(\"Quotient: \", division)\n",
    "\n"
   ]
  },
  {
   "cell_type": "code",
   "execution_count": null,
   "id": "af0f5071",
   "metadata": {},
   "outputs": [],
   "source": []
  }
 ],
 "metadata": {
  "kernelspec": {
   "display_name": "Python 3",
   "language": "python",
   "name": "python3"
  },
  "language_info": {
   "codemirror_mode": {
    "name": "ipython",
    "version": 3
   },
   "file_extension": ".py",
   "mimetype": "text/x-python",
   "name": "python",
   "nbconvert_exporter": "python",
   "pygments_lexer": "ipython3",
   "version": "3.10.18"
  }
 },
 "nbformat": 4,
 "nbformat_minor": 5
}

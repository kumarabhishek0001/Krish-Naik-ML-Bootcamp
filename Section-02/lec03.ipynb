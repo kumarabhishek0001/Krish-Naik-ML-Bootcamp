{
 "cells": [
  {
   "cell_type": "markdown",
   "id": "6ed6c134",
   "metadata": {},
   "source": [
    "## DataTypes\n",
    "\n",
    "- datatypes are classification of data which tells the compiler or interpreter how the programmer intends to use the data\n",
    "- detemine the type of operation that can be performed on the data, the values that the data can take, and the amount of memory need to store data.\n",
    "\n",
    "### importance of DataTypes\n",
    "\n",
    "- ensure data is stored in efficient way\n",
    "- help in performing correct operation on data\n",
    "- proper use of data types can prevent errors and bugs in the program\n"
   ]
  },
  {
   "cell_type": "code",
   "execution_count": 1,
   "id": "80ec200d",
   "metadata": {},
   "outputs": [
    {
     "data": {
      "text/plain": [
       "int"
      ]
     },
     "execution_count": 1,
     "metadata": {},
     "output_type": "execute_result"
    }
   ],
   "source": [
    "## integers\n",
    "age = 35\n",
    "type(age)"
   ]
  },
  {
   "cell_type": "code",
   "execution_count": 2,
   "id": "e444029a",
   "metadata": {},
   "outputs": [
    {
     "name": "stdout",
     "output_type": "stream",
     "text": [
      "5.11 <class 'float'>\n"
     ]
    }
   ],
   "source": [
    "## floating point datatype\n",
    "height = 5.11\n",
    "print(height, type(height))"
   ]
  },
  {
   "cell_type": "code",
   "execution_count": 3,
   "id": "4247bd26",
   "metadata": {},
   "outputs": [
    {
     "name": "stdout",
     "output_type": "stream",
     "text": [
      "Abhishek <class 'str'>\n"
     ]
    }
   ],
   "source": [
    "## string datatype\n",
    "name = 'Abhishek'\n",
    "print(name, type(name))"
   ]
  },
  {
   "cell_type": "code",
   "execution_count": 5,
   "id": "4c7029a1",
   "metadata": {},
   "outputs": [
    {
     "name": "stdout",
     "output_type": "stream",
     "text": [
      "False <class 'bool'>\n"
     ]
    }
   ],
   "source": [
    "## boolean datatype\n",
    "is_true = False\n",
    "print(is_true, type(is_true))"
   ]
  },
  {
   "cell_type": "code",
   "execution_count": 6,
   "id": "1bf8ba79",
   "metadata": {},
   "outputs": [
    {
     "data": {
      "text/plain": [
       "False"
      ]
     },
     "execution_count": 6,
     "metadata": {},
     "output_type": "execute_result"
    }
   ],
   "source": [
    "bool()"
   ]
  },
  {
   "cell_type": "code",
   "execution_count": 8,
   "id": "a719819d",
   "metadata": {},
   "outputs": [
    {
     "name": "stdout",
     "output_type": "stream",
     "text": [
      "True <class 'bool'>\n"
     ]
    }
   ],
   "source": [
    "a = 10\n",
    "b = 10\n",
    "\n",
    "print(a==b, type(a==b))"
   ]
  },
  {
   "cell_type": "code",
   "execution_count": 9,
   "id": "ceed8ae2",
   "metadata": {},
   "outputs": [
    {
     "ename": "TypeError",
     "evalue": "can only concatenate str (not \"int\") to str",
     "output_type": "error",
     "traceback": [
      "\u001b[1;31m---------------------------------------------------------------------------\u001b[0m",
      "\u001b[1;31mTypeError\u001b[0m                                 Traceback (most recent call last)",
      "Cell \u001b[1;32mIn[9], line 2\u001b[0m\n\u001b[0;32m      1\u001b[0m \u001b[38;5;66;03m## common errors\u001b[39;00m\n\u001b[1;32m----> 2\u001b[0m result \u001b[38;5;241m=\u001b[39m \u001b[38;5;124;43m\"\u001b[39;49m\u001b[38;5;124;43mHello\u001b[39;49m\u001b[38;5;124;43m\"\u001b[39;49m\u001b[43m \u001b[49m\u001b[38;5;241;43m+\u001b[39;49m\u001b[43m \u001b[49m\u001b[38;5;241;43m5\u001b[39;49m\n",
      "\u001b[1;31mTypeError\u001b[0m: can only concatenate str (not \"int\") to str"
     ]
    }
   ],
   "source": [
    "## common errors\n",
    "result = \"Hello\" + 5"
   ]
  },
  {
   "cell_type": "code",
   "execution_count": 11,
   "id": "a5b4a566",
   "metadata": {},
   "outputs": [
    {
     "name": "stdout",
     "output_type": "stream",
     "text": [
      "hello5\n"
     ]
    }
   ],
   "source": [
    "## fix\n",
    "result = \"hello\" + str(5)\n",
    "print(result)"
   ]
  }
 ],
 "metadata": {
  "kernelspec": {
   "display_name": "Python 3",
   "language": "python",
   "name": "python3"
  },
  "language_info": {
   "codemirror_mode": {
    "name": "ipython",
    "version": 3
   },
   "file_extension": ".py",
   "mimetype": "text/x-python",
   "name": "python",
   "nbconvert_exporter": "python",
   "pygments_lexer": "ipython3",
   "version": "3.10.18"
  }
 },
 "nbformat": 4,
 "nbformat_minor": 5
}

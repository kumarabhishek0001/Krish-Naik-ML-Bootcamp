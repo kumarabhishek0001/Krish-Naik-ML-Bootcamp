{
 "cells": [
  {
   "cell_type": "markdown",
   "id": "711141c7",
   "metadata": {},
   "source": [
    "## Operators\n"
   ]
  },
  {
   "cell_type": "code",
   "execution_count": null,
   "id": "ca822394",
   "metadata": {},
   "outputs": [
    {
     "name": "stdout",
     "output_type": "stream",
     "text": [
      "add:  15\n",
      "sub:  5\n",
      "mul:  50\n",
      "div:  2.0\n",
      "floor:  2\n",
      "mod:  0\n",
      "exp:  100000\n"
     ]
    }
   ],
   "source": [
    "a = 10\n",
    "b = 5\n",
    "\n",
    "add_result = a+b\n",
    "sub_result = a-b\n",
    "mul_result = a*b\n",
    "div_result = a/b\n",
    "\n",
    "floor_div_result = a//b\n",
    "mod_result = a%b\n",
    "exp_result = a**b\n",
    "\n",
    "print(\"add: \", add_result)\n",
    "print(\"sub: \",sub_result)\n",
    "print(\"mul: \",mul_result)\n",
    "print(\"div: \",div_result)\n",
    "\n",
    "print(\"floor: \",floor_div_result) ## approximates the result if in decimal\n",
    "print(\"mod: \",mod_result)\n",
    "print(\"exp: \",exp_result)"
   ]
  },
  {
   "cell_type": "markdown",
   "id": "65e2f1d6",
   "metadata": {},
   "source": [
    "### Comparison operator"
   ]
  },
  {
   "cell_type": "code",
   "execution_count": null,
   "id": "2ee9f4c5",
   "metadata": {},
   "outputs": [
    {
     "data": {
      "text/plain": [
       "True"
      ]
     },
     "execution_count": 5,
     "metadata": {},
     "output_type": "execute_result"
    }
   ],
   "source": [
    "## Comparison Operator\n",
    "\n",
    "## equal to (==)\n",
    "a = 10\n",
    "b = 10\n",
    "\n",
    "a == b"
   ]
  },
  {
   "cell_type": "code",
   "execution_count": 6,
   "id": "33af1fa0",
   "metadata": {},
   "outputs": [
    {
     "data": {
      "text/plain": [
       "False"
      ]
     },
     "execution_count": 6,
     "metadata": {},
     "output_type": "execute_result"
    }
   ],
   "source": [
    "str1 = 'abhishek'\n",
    "str2 = 'Abhishek'\n",
    "\n",
    "str1 == str2"
   ]
  },
  {
   "cell_type": "code",
   "execution_count": 7,
   "id": "d71b7be7",
   "metadata": {},
   "outputs": [
    {
     "data": {
      "text/plain": [
       "True"
      ]
     },
     "execution_count": 7,
     "metadata": {},
     "output_type": "execute_result"
    }
   ],
   "source": [
    "str1 != str2"
   ]
  },
  {
   "cell_type": "code",
   "execution_count": 8,
   "id": "37195378",
   "metadata": {},
   "outputs": [
    {
     "data": {
      "text/plain": [
       "False"
      ]
     },
     "execution_count": 8,
     "metadata": {},
     "output_type": "execute_result"
    }
   ],
   "source": [
    "## greater than\n",
    "num1 = 45\n",
    "num2 = 55\n",
    "\n",
    "num1>num2"
   ]
  },
  {
   "cell_type": "code",
   "execution_count": 9,
   "id": "80be1a12",
   "metadata": {},
   "outputs": [
    {
     "data": {
      "text/plain": [
       "True"
      ]
     },
     "execution_count": 9,
     "metadata": {},
     "output_type": "execute_result"
    }
   ],
   "source": [
    "## less than\n",
    "num1<num2"
   ]
  },
  {
   "cell_type": "markdown",
   "id": "16a37a4a",
   "metadata": {},
   "source": [
    "### Logical operators"
   ]
  },
  {
   "cell_type": "code",
   "execution_count": 11,
   "id": "a8cb2d68",
   "metadata": {},
   "outputs": [
    {
     "name": "stdout",
     "output_type": "stream",
     "text": [
      "False\n"
     ]
    }
   ],
   "source": [
    "## AND\n",
    "\n",
    "X = True\n",
    "Y = False\n",
    "\n",
    "result = X and Y\n",
    "print(result)"
   ]
  },
  {
   "cell_type": "code",
   "execution_count": 12,
   "id": "0be40ab6",
   "metadata": {},
   "outputs": [
    {
     "name": "stdout",
     "output_type": "stream",
     "text": [
      "True\n"
     ]
    }
   ],
   "source": [
    "## OR\n",
    "result = X or Y\n",
    "print(result)"
   ]
  },
  {
   "cell_type": "code",
   "execution_count": 13,
   "id": "2fe88944",
   "metadata": {},
   "outputs": [
    {
     "name": "stdout",
     "output_type": "stream",
     "text": [
      "False\n"
     ]
    }
   ],
   "source": [
    "## NOT\n",
    "result = not X\n",
    "print(result)"
   ]
  }
 ],
 "metadata": {
  "kernelspec": {
   "display_name": "Python 3",
   "language": "python",
   "name": "python3"
  },
  "language_info": {
   "codemirror_mode": {
    "name": "ipython",
    "version": 3
   },
   "file_extension": ".py",
   "mimetype": "text/x-python",
   "name": "python",
   "nbconvert_exporter": "python",
   "pygments_lexer": "ipython3",
   "version": "3.10.18"
  }
 },
 "nbformat": 4,
 "nbformat_minor": 5
}

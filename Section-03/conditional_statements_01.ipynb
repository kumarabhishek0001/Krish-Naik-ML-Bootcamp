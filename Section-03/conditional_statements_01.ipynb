{
 "cells": [
  {
   "cell_type": "markdown",
   "id": "171a9a87",
   "metadata": {},
   "source": [
    "## Conditional Statements"
   ]
  },
  {
   "cell_type": "code",
   "execution_count": null,
   "id": "2bac5350",
   "metadata": {},
   "outputs": [
    {
     "name": "stdout",
     "output_type": "stream",
     "text": [
      "You are eligible for tickets\n"
     ]
    }
   ],
   "source": [
    "## If statement\n",
    "age = 20\n",
    "\n",
    "if age>=18:\n",
    "    print('You are eligible for tickets')\n",
    "else:\n",
    "    print(\"You're not eligible\")"
   ]
  },
  {
   "cell_type": "code",
   "execution_count": 3,
   "id": "b543f0a5",
   "metadata": {},
   "outputs": [
    {
     "name": "stdout",
     "output_type": "stream",
     "text": [
      "Your are adult\n"
     ]
    }
   ],
   "source": [
    "## elif statement -> lets you check for multiple statement. It stands for else if\n",
    "\n",
    "age = 90\n",
    "if age<13:\n",
    "    print(\"You are a child\")\n",
    "elif age<18:\n",
    "    print(\"You are teenager\")\n",
    "else: print(\"Your are adult\")"
   ]
  },
  {
   "cell_type": "code",
   "execution_count": 4,
   "id": "d65604c6",
   "metadata": {},
   "outputs": [
    {
     "name": "stdout",
     "output_type": "stream",
     "text": [
      "number is Negative\n"
     ]
    }
   ],
   "source": [
    "## Nested conditional statement\n",
    "\n",
    "num = int(input(\"Enter the number\"))\n",
    "\n",
    "if num>=0:\n",
    "    print(\"Number is positive\")\n",
    "    if num%2==0:\n",
    "        print(\"Number is Even\")\n",
    "    else:\n",
    "        print(\"number is Odd\")      \n",
    "else: print(\"number is Negative\")"
   ]
  },
  {
   "cell_type": "code",
   "execution_count": 5,
   "id": "947ba02c",
   "metadata": {},
   "outputs": [
    {
     "name": "stdout",
     "output_type": "stream",
     "text": [
      "2024 year is a leap year\n"
     ]
    }
   ],
   "source": [
    "## Usecases\n",
    "\n",
    "## detemine if year is leap year using nested conditional statement\n",
    "\n",
    "year = int(input(\"Enter the year: \"))\n",
    "\n",
    "if year%4 == 0:\n",
    "    if year%100 == 0:\n",
    "        if year%400 == 0:\n",
    "            print(year, \"is a leap year\")\n",
    "        else:\n",
    "            print(year, \"is  not a leap year\")\n",
    "    else:\n",
    "        print(year, \"year is a leap year\")\n",
    "else:\n",
    "    print('year is not a leap year')"
   ]
  },
  {
   "cell_type": "code",
   "execution_count": 7,
   "id": "ceb0414f",
   "metadata": {},
   "outputs": [
    {
     "name": "stdout",
     "output_type": "stream",
     "text": [
      "1.0\n"
     ]
    }
   ],
   "source": [
    "## simple calculator with operator also as input\n",
    "\n",
    "num1 = int(input(\"Enter first number: \"))\n",
    "num2 = int(input(\"Enter second number: \"))\n",
    "\n",
    "operator = input(\"Enter Operator: \")\n",
    "\n",
    "if operator == '+':\n",
    "    print(num1+num2)\n",
    "elif operator == '-':\n",
    "    print(num1-num2)\n",
    "elif operator == '*':\n",
    "    print(num1*num2)\n",
    "else:\n",
    "    print(num1/num2)"
   ]
  },
  {
   "cell_type": "code",
   "execution_count": null,
   "id": "e1e3eabf",
   "metadata": {},
   "outputs": [],
   "source": []
  }
 ],
 "metadata": {
  "kernelspec": {
   "display_name": "Python 3",
   "language": "python",
   "name": "python3"
  },
  "language_info": {
   "codemirror_mode": {
    "name": "ipython",
    "version": 3
   },
   "file_extension": ".py",
   "mimetype": "text/x-python",
   "name": "python",
   "nbconvert_exporter": "python",
   "pygments_lexer": "ipython3",
   "version": "3.10.18"
  }
 },
 "nbformat": 4,
 "nbformat_minor": 5
}

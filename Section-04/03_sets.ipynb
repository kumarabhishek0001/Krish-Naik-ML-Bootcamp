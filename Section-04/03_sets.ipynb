{
 "cells": [
  {
   "cell_type": "markdown",
   "id": "4ea2f019",
   "metadata": {},
   "source": [
    "## Sets\n",
    "\n",
    "- it is a built-in data type in python used to store collection of unique items. They are unordred meaning that the elements do not follow a specific order  and they do not allow duplicate elements.\n",
    "\n",
    "- sets are usefull for memebership tests eliminating duplicate enteries and performing mathematical set operation like union interesection, difference and symmetric differnce\n"
   ]
  },
  {
   "cell_type": "code",
   "execution_count": 1,
   "id": "ad2dcac9",
   "metadata": {},
   "outputs": [
    {
     "name": "stdout",
     "output_type": "stream",
     "text": [
      "{1, 2, 3, 4, 5}\n",
      "<class 'set'>\n"
     ]
    }
   ],
   "source": [
    "# creating set\n",
    "my_Set = {1,2,3,4,5}\n",
    "print(my_Set)\n",
    "print(type(my_Set))"
   ]
  },
  {
   "cell_type": "code",
   "execution_count": 2,
   "id": "2ac1d887",
   "metadata": {},
   "outputs": [
    {
     "name": "stdout",
     "output_type": "stream",
     "text": [
      "set()\n"
     ]
    }
   ],
   "source": [
    "my_empty_set = set()\n",
    "print(my_empty_set)"
   ]
  },
  {
   "cell_type": "code",
   "execution_count": 1,
   "id": "ccb18e25",
   "metadata": {},
   "outputs": [
    {
     "name": "stdout",
     "output_type": "stream",
     "text": [
      "{1, 2, 3, 4, 5, 6}\n"
     ]
    }
   ],
   "source": [
    "my_set = set([1,2,3,4,5,6])\n",
    "print(my_set)"
   ]
  },
  {
   "cell_type": "code",
   "execution_count": 2,
   "id": "a6a717c8",
   "metadata": {},
   "outputs": [
    {
     "name": "stdout",
     "output_type": "stream",
     "text": [
      "{1, 2, 3, 4, 5, 6}\n"
     ]
    }
   ],
   "source": [
    "## set does not have duplicates\n",
    "my_set = set([1,1,2,2,3,4,5,6])\n",
    "print(my_set)\n"
   ]
  },
  {
   "cell_type": "code",
   "execution_count": null,
   "id": "437fa685",
   "metadata": {},
   "outputs": [
    {
     "name": "stdout",
     "output_type": "stream",
     "text": [
      "{1, 2, 3, 4, 5, 6, 7}\n"
     ]
    }
   ],
   "source": [
    "# adding and removing elements\n",
    "\n",
    "my_set.add(7)\n",
    "my_set.add(7) # since duplicate will not be added\n",
    "\n",
    "\n",
    "print(my_set)"
   ]
  },
  {
   "cell_type": "code",
   "execution_count": 4,
   "id": "b2454603",
   "metadata": {},
   "outputs": [],
   "source": [
    "# remove elements from set\n",
    "my_set.remove(6)\n"
   ]
  },
  {
   "cell_type": "code",
   "execution_count": 5,
   "id": "1d776d1c",
   "metadata": {},
   "outputs": [
    {
     "name": "stdout",
     "output_type": "stream",
     "text": [
      "{1, 2, 3, 4, 5, 7}\n"
     ]
    }
   ],
   "source": [
    "## if elements is not in set remove gives error so use\n",
    "\n",
    "my_set .discard(11)\n",
    "print(my_set)"
   ]
  },
  {
   "cell_type": "code",
   "execution_count": 6,
   "id": "d3279956",
   "metadata": {},
   "outputs": [
    {
     "name": "stdout",
     "output_type": "stream",
     "text": [
      "1\n",
      "{2, 3, 4, 5, 7}\n"
     ]
    }
   ],
   "source": [
    "# pop method\n",
    "\n",
    "removed_element = my_set.pop()\n",
    "print(removed_element)\n",
    "print(my_set)"
   ]
  },
  {
   "cell_type": "code",
   "execution_count": 7,
   "id": "7cc39862",
   "metadata": {},
   "outputs": [
    {
     "name": "stdout",
     "output_type": "stream",
     "text": [
      "set()\n"
     ]
    }
   ],
   "source": [
    "# clear all the element\n",
    "my_set.clear()\n",
    "print(my_set)"
   ]
  },
  {
   "cell_type": "code",
   "execution_count": 8,
   "id": "9570b363",
   "metadata": {},
   "outputs": [
    {
     "name": "stdout",
     "output_type": "stream",
     "text": [
      "True\n",
      "False\n"
     ]
    }
   ],
   "source": [
    "# set membership test\n",
    "\n",
    "my_set = {1,2,3,4,5}\n",
    "print(3 in my_set)\n",
    "print(11 in my_set)"
   ]
  },
  {
   "cell_type": "code",
   "execution_count": null,
   "id": "17a03668",
   "metadata": {},
   "outputs": [
    {
     "name": "stdout",
     "output_type": "stream",
     "text": [
      "{1, 2, 3, 4, 5, 6, 7}\n"
     ]
    }
   ],
   "source": [
    "## Mathematical Operations on set\n",
    "\n",
    "set1 = {1,2,3,4,5,6}\n",
    "set2 = {4,5,6,7}\n",
    "\n",
    "## union\n",
    "union_set = set1.union(set2)\n",
    "print(union_set)"
   ]
  },
  {
   "cell_type": "code",
   "execution_count": 10,
   "id": "93c499ce",
   "metadata": {},
   "outputs": [
    {
     "name": "stdout",
     "output_type": "stream",
     "text": [
      "{4, 5, 6}\n"
     ]
    }
   ],
   "source": [
    "## intersection\n",
    "\n",
    "intersection_set = set1.intersection(set2)\n",
    "print(intersection_set)"
   ]
  },
  {
   "cell_type": "code",
   "execution_count": null,
   "id": "4caebc22",
   "metadata": {},
   "outputs": [
    {
     "name": "stdout",
     "output_type": "stream",
     "text": [
      "{4, 5, 6}\n"
     ]
    }
   ],
   "source": [
    "## intersection update -> updates the set with intersection of itself and another\n",
    "set1.intersection_update(set2)\n",
    "print(set1)"
   ]
  },
  {
   "cell_type": "code",
   "execution_count": 14,
   "id": "c1f5f0c5",
   "metadata": {},
   "outputs": [
    {
     "name": "stdout",
     "output_type": "stream",
     "text": [
      "{1, 2, 3}\n",
      "{1, 2, 3}\n"
     ]
    }
   ],
   "source": [
    "set1 = {1,2,3,4,5,6}\n",
    "set2 = {4,5,6,7,8,9}\n",
    "\n",
    "# difference\n",
    "print(set1.difference(set2))\n",
    "\n",
    "# set-difference-update\n",
    "set1.difference_update(set2)\n",
    "print(set1)"
   ]
  },
  {
   "cell_type": "code",
   "execution_count": 15,
   "id": "cb0448d2",
   "metadata": {},
   "outputs": [
    {
     "name": "stdout",
     "output_type": "stream",
     "text": [
      "{1, 2, 3, 7, 8, 9}\n",
      "{1, 2, 3, 7, 8, 9}\n"
     ]
    }
   ],
   "source": [
    "## symmetric-differce -> gives the unique elements from both the sets\n",
    "\n",
    "set1 = {1,2,3,4,5,6}\n",
    "set2 = {4,5,6,7,8,9}\n",
    "\n",
    "sym_difference = set1.symmetric_difference(set2)\n",
    "print(sym_difference)\n",
    "\n",
    "set1.symmetric_difference_update(set2)\n",
    "print(set1)"
   ]
  },
  {
   "cell_type": "code",
   "execution_count": 20,
   "id": "7e4e73cf",
   "metadata": {},
   "outputs": [
    {
     "name": "stdout",
     "output_type": "stream",
     "text": [
      "True\n",
      "True\n"
     ]
    }
   ],
   "source": [
    "# set-methods\n",
    "\n",
    "set1 = {1,2,3,4,5}\n",
    "set2 = {3,4,5}\n",
    "\n",
    "## is subset\n",
    "\n",
    "print(set2.issubset(set1))\n",
    "print(set1.issuperset(set2))"
   ]
  },
  {
   "cell_type": "code",
   "execution_count": null,
   "id": "da580ea4",
   "metadata": {},
   "outputs": [
    {
     "data": {
      "text/plain": [
       "{1, 2, 3, 4, 5}"
      ]
     },
     "execution_count": 22,
     "metadata": {},
     "output_type": "execute_result"
    }
   ],
   "source": [
    "lst = [1,2,2,3,4,5,5]\n",
    "\n",
    "## remove duplicates\n",
    "set(lst) ## not stored just printed"
   ]
  },
  {
   "cell_type": "code",
   "execution_count": 27,
   "id": "83cb6c84",
   "metadata": {},
   "outputs": [
    {
     "name": "stdout",
     "output_type": "stream",
     "text": [
      "<class 'list'>\n",
      "Unique words:  {'we', 'are', 'sets', 'In', 'this', 'discussing', 'about', 'tutorial'}\n",
      "number of unique words is:  8\n"
     ]
    }
   ],
   "source": [
    "# counting unique words in text\n",
    "\n",
    "text = \"In this tutorial we are discussing about sets\"\n",
    "words = text.split()\n",
    "\n",
    "print(type(words))\n",
    "\n",
    "## converting list into sets\n",
    "\n",
    "unique_words = set(words)\n",
    "print(\"Unique words: \" ,unique_words)\n",
    "print(\"number of unique words is: \", len(unique_words))"
   ]
  },
  {
   "cell_type": "code",
   "execution_count": null,
   "id": "32913a84",
   "metadata": {},
   "outputs": [],
   "source": []
  }
 ],
 "metadata": {
  "kernelspec": {
   "display_name": "Python 3",
   "language": "python",
   "name": "python3"
  },
  "language_info": {
   "codemirror_mode": {
    "name": "ipython",
    "version": 3
   },
   "file_extension": ".py",
   "mimetype": "text/x-python",
   "name": "python",
   "nbconvert_exporter": "python",
   "pygments_lexer": "ipython3",
   "version": "3.10.18"
  }
 },
 "nbformat": 4,
 "nbformat_minor": 5
}

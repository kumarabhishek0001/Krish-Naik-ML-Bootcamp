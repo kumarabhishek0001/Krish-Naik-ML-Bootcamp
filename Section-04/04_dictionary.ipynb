{
 "cells": [
  {
   "cell_type": "markdown",
   "id": "a64f9a99",
   "metadata": {},
   "source": [
    "## Dictionary"
   ]
  },
  {
   "cell_type": "markdown",
   "id": "c2a0d4d8",
   "metadata": {
    "vscode": {
     "languageId": "plaintext"
    }
   },
   "source": [
    "Unordered collection of items.\n",
    "- It stores data in key-value pairs. \n",
    "- Key must be unique and Immutable (eg- string, numbers, or tuples), while the value can of any type."
   ]
  },
  {
   "cell_type": "code",
   "execution_count": 1,
   "id": "39eaf333",
   "metadata": {},
   "outputs": [
    {
     "name": "stdout",
     "output_type": "stream",
     "text": [
      "<class 'dict'>\n"
     ]
    }
   ],
   "source": [
    "## Creating Dictionaries\n",
    "empty_dict = {\n",
    "\n",
    "}\n",
    "print(type(empty_dict))"
   ]
  },
  {
   "cell_type": "code",
   "execution_count": 2,
   "id": "6e88ba4c",
   "metadata": {},
   "outputs": [
    {
     "data": {
      "text/plain": [
       "{}"
      ]
     },
     "execution_count": 2,
     "metadata": {},
     "output_type": "execute_result"
    }
   ],
   "source": [
    "empty_dict = dict()\n",
    "empty_dict"
   ]
  },
  {
   "cell_type": "code",
   "execution_count": 3,
   "id": "977bc20e",
   "metadata": {},
   "outputs": [
    {
     "name": "stdout",
     "output_type": "stream",
     "text": [
      "{'name': 'Krish', 'age': 32, 'grade': 'B'}\n"
     ]
    }
   ],
   "source": [
    "# Key value pair\n",
    "\n",
    "student = {\n",
    "    \"name\" : \"Krish\",\n",
    "    \"age\" : 32,\n",
    "    \"grade\": \"B\"\n",
    "}\n",
    "\n",
    "print(student)"
   ]
  },
  {
   "cell_type": "markdown",
   "id": "c5de2a60",
   "metadata": {},
   "source": [
    "**Not having unique key:**\n",
    "if we redeclare a key (name key in the example below) the key will contain the last value."
   ]
  },
  {
   "cell_type": "code",
   "execution_count": 5,
   "id": "cf7c0cb4",
   "metadata": {},
   "outputs": [
    {
     "name": "stdout",
     "output_type": "stream",
     "text": [
      "{'name': 24, 'age': 32}\n"
     ]
    }
   ],
   "source": [
    "# Error\n",
    "student = {\n",
    "    \"name\" : \"Krish\",\n",
    "    \"age\" : 32,\n",
    "    \"name\" : 24,\n",
    "}\n",
    "\n",
    "print(student)"
   ]
  },
  {
   "cell_type": "code",
   "execution_count": 6,
   "id": "7ca2aba9",
   "metadata": {},
   "outputs": [
    {
     "name": "stdout",
     "output_type": "stream",
     "text": [
      "A\n",
      "32\n"
     ]
    }
   ],
   "source": [
    "# Accessing dictionary elements\n",
    "\n",
    "student = {\n",
    "    \"name\" : \"Krish\",\n",
    "    \"age\" : 32,\n",
    "    \"grade\" : 'A',\n",
    "}\n",
    "\n",
    "print(student['grade'])\n",
    "print(student['age'])"
   ]
  },
  {
   "cell_type": "code",
   "execution_count": null,
   "id": "13b9b683",
   "metadata": {},
   "outputs": [
    {
     "name": "stdout",
     "output_type": "stream",
     "text": [
      "A\n",
      "None\n"
     ]
    }
   ],
   "source": [
    "# acessing using get() method\n",
    "\n",
    "print(student.get('grade'))\n",
    "print(student.get('last_name')) # if the value does not exist -> none"
   ]
  },
  {
   "cell_type": "code",
   "execution_count": 9,
   "id": "7df7112e",
   "metadata": {},
   "outputs": [
    {
     "name": "stdout",
     "output_type": "stream",
     "text": [
      "INVALID KEY\n"
     ]
    }
   ],
   "source": [
    "# default value if key is not in the dictionary\n",
    "\n",
    "print(student.get('last_name', \"INVALID KEY\"))"
   ]
  },
  {
   "cell_type": "code",
   "execution_count": 10,
   "id": "ab1ac55d",
   "metadata": {},
   "outputs": [
    {
     "name": "stdout",
     "output_type": "stream",
     "text": [
      "{'name': 'Krish', 'age': 32, 'grade': 'A'}\n"
     ]
    }
   ],
   "source": [
    "# Modifying dictionary elements\n",
    "# dictionaries are mutable, so you can add, update or delete elemetns\n",
    "\n",
    "print(student)"
   ]
  },
  {
   "cell_type": "code",
   "execution_count": 11,
   "id": "126eb675",
   "metadata": {},
   "outputs": [
    {
     "name": "stdout",
     "output_type": "stream",
     "text": [
      "{'name': 'Krish', 'age': 22, 'grade': 'A', 'address': 'India'}\n"
     ]
    }
   ],
   "source": [
    "# Updating key\n",
    "student['age'] = 22\n",
    "\n",
    "# adding new key\n",
    "student[\"address\"] = \"India\"\n",
    "\n",
    "print(student)"
   ]
  },
  {
   "cell_type": "code",
   "execution_count": 12,
   "id": "f7cb4c8e",
   "metadata": {},
   "outputs": [
    {
     "name": "stdout",
     "output_type": "stream",
     "text": [
      "{'name': 'Krish', 'age': 22, 'address': 'India'}\n"
     ]
    }
   ],
   "source": [
    "# deleting key\n",
    "del student['grade']\n",
    "print(student)"
   ]
  },
  {
   "cell_type": "markdown",
   "id": "cd4519a7",
   "metadata": {},
   "source": [
    "### Common Dictionary methods"
   ]
  },
  {
   "cell_type": "code",
   "execution_count": null,
   "id": "a4a67481",
   "metadata": {},
   "outputs": [
    {
     "name": "stdout",
     "output_type": "stream",
     "text": [
      "dict_keys(['name', 'age', 'address'])\n",
      "dict_values(['Krish', 22, 'India'])\n",
      "<class 'dict_keys'>\n",
      "<class 'dict_values'>\n",
      "dict_items([('name', 'Krish'), ('age', 22), ('address', 'India')])\n",
      "<class 'dict_items'>\n"
     ]
    }
   ],
   "source": [
    "# Dictionary methods\n",
    "keys = student.keys() # list\n",
    "print(keys)\n",
    "\n",
    "values = student.values() # list\n",
    "print(values)\n",
    "\n",
    "print(type(keys))\n",
    "print(type(values))\n",
    "\n",
    "items = student.items() # list of tuples\n",
    "print(items)\n",
    "print(type(items))"
   ]
  },
  {
   "cell_type": "markdown",
   "id": "ae4bb793",
   "metadata": {},
   "source": [
    "### Shallow copy Vs Deep Copy\n",
    "\n",
    "**Deep Copy:**\n",
    "key value pairs of differnt dictionaries are connected. Changing the original changes in the copy as value.\n",
    "\n",
    "**Shallow Copy:** \n",
    "provides a different memory location"
   ]
  },
  {
   "cell_type": "code",
   "execution_count": 15,
   "id": "4a4b14b1",
   "metadata": {},
   "outputs": [
    {
     "name": "stdout",
     "output_type": "stream",
     "text": [
      "{'name': 'Krish', 'age': 22, 'address': 'India'}\n",
      "{'name': 'Krish', 'age': 22, 'address': 'India'}\n"
     ]
    }
   ],
   "source": [
    "# shallow copy\n",
    "\n",
    "student_copy = student\n",
    "print(student)\n",
    "print(student_copy)"
   ]
  },
  {
   "cell_type": "code",
   "execution_count": 16,
   "id": "62dae45a",
   "metadata": {},
   "outputs": [
    {
     "name": "stdout",
     "output_type": "stream",
     "text": [
      "{'name': 'abbhishek', 'age': 22, 'address': 'India'}\n",
      "{'name': 'abbhishek', 'age': 22, 'address': 'India'}\n"
     ]
    }
   ],
   "source": [
    "student['name'] = \"abbhishek\"\n",
    "print(student)\n",
    "print(student_copy)"
   ]
  },
  {
   "cell_type": "code",
   "execution_count": 17,
   "id": "00a95a52",
   "metadata": {},
   "outputs": [
    {
     "name": "stdout",
     "output_type": "stream",
     "text": [
      "{'name': 'abbhishek', 'age': 22, 'address': 'India'}\n",
      "{'name': 'abbhishek', 'age': 22, 'address': 'India'}\n"
     ]
    }
   ],
   "source": [
    "student_copy1 = student.copy() # shallow copy\n",
    "print(student)\n",
    "print(student_copy1)"
   ]
  },
  {
   "cell_type": "code",
   "execution_count": 18,
   "id": "670b70e1",
   "metadata": {},
   "outputs": [
    {
     "name": "stdout",
     "output_type": "stream",
     "text": [
      "{'name': 'Abhishek Kumar Jha', 'age': 22, 'address': 'India'}\n",
      "{'name': 'Abhishek Kumar Jha', 'age': 22, 'address': 'India'}\n",
      "{'name': 'abbhishek', 'age': 22, 'address': 'India'}\n"
     ]
    }
   ],
   "source": [
    "student[\"name\"] = \"Abhishek Kumar Jha\"\n",
    "print(student)\n",
    "print(student_copy)\n",
    "print(student_copy1)"
   ]
  },
  {
   "cell_type": "markdown",
   "id": "cb9af23c",
   "metadata": {},
   "source": [
    "### Iterating over dictionaries"
   ]
  },
  {
   "cell_type": "code",
   "execution_count": 23,
   "id": "8ede09db",
   "metadata": {},
   "outputs": [
    {
     "name": "stdout",
     "output_type": "stream",
     "text": [
      "name\n",
      "age\n",
      "address\n",
      "------------********------------------\n",
      "Abhishek Kumar Jha\n",
      "22\n",
      "India\n",
      "------------********------------------\n",
      "name:Abhishek Kumar Jha\n",
      "age:22\n",
      "address:India\n"
     ]
    }
   ],
   "source": [
    "# Loops to iterate over dictionaries, key, value, item(key+value)\n",
    "\n",
    "# iterating over key\n",
    "for keys in student.keys():\n",
    "    print(keys)\n",
    "\n",
    "print(\"------------********------------------\")\n",
    "# iterating over value\n",
    "for values in student.values():\n",
    "    print(values)\n",
    "print(\"------------********------------------\")\n",
    "for key, value in student.items():\n",
    "    print(f\"{key}:{value}\")    "
   ]
  },
  {
   "cell_type": "markdown",
   "id": "064947d9",
   "metadata": {},
   "source": [
    "### Nested Dictionaries"
   ]
  },
  {
   "cell_type": "code",
   "execution_count": 25,
   "id": "fae35bb1",
   "metadata": {},
   "outputs": [
    {
     "name": "stdout",
     "output_type": "stream",
     "text": [
      "{'student1': {'name': 'Abhishek', 'age': 22}, 'student2': {'name': 'Peter Parker', 'age': 25}}\n"
     ]
    }
   ],
   "source": [
    "students = {\n",
    "    \n",
    "    \"student1\" : {\n",
    "        \"name\" : \"Abhishek\",\n",
    "        \"age\" : 22,\n",
    "    },\n",
    "\n",
    "    \"student2\" : {\n",
    "        \"name\" : \"Peter Parker\",\n",
    "        \"age\" : 25,\n",
    "    },\n",
    "}\n",
    "\n",
    "print(students)"
   ]
  },
  {
   "cell_type": "code",
   "execution_count": 26,
   "id": "a05a89e8",
   "metadata": {},
   "outputs": [
    {
     "name": "stdout",
     "output_type": "stream",
     "text": [
      "Peter Parker\n",
      "25\n"
     ]
    }
   ],
   "source": [
    "# Accessing nested dictionaries\n",
    "print(students[\"student2\"][\"name\"])\n",
    "print(students[\"student2\"][\"age\"])\n"
   ]
  },
  {
   "cell_type": "code",
   "execution_count": 28,
   "id": "05848c59",
   "metadata": {},
   "outputs": [
    {
     "data": {
      "text/plain": [
       "dict_items([('student1', {'name': 'Abhishek', 'age': 22}), ('student2', {'name': 'Peter Parker', 'age': 25})])"
      ]
     },
     "execution_count": 28,
     "metadata": {},
     "output_type": "execute_result"
    }
   ],
   "source": [
    "students.items()"
   ]
  },
  {
   "cell_type": "code",
   "execution_count": 27,
   "id": "ae956472",
   "metadata": {},
   "outputs": [
    {
     "name": "stdout",
     "output_type": "stream",
     "text": [
      "student1: {'name': 'Abhishek', 'age': 22}\n",
      "student2: {'name': 'Peter Parker', 'age': 25}\n"
     ]
    }
   ],
   "source": [
    "# Iterating over nested dictionary\n",
    "\n",
    "for studentID, studentInfo in students.items():\n",
    "    print(f\"{studentID}: {studentInfo}\")"
   ]
  },
  {
   "cell_type": "code",
   "execution_count": 29,
   "id": "4af85a91",
   "metadata": {},
   "outputs": [
    {
     "name": "stdout",
     "output_type": "stream",
     "text": [
      "student1\n",
      "('name', 'Abhishek')\n",
      "('age', 22)\n",
      "student2\n",
      "('name', 'Peter Parker')\n",
      "('age', 25)\n"
     ]
    }
   ],
   "source": [
    "# iterating over each item inside a nested dictionary\n",
    "for studentID, studentInfo in students.items():\n",
    "    print(studentID)\n",
    "    for items in studentInfo.items():\n",
    "        print(items)"
   ]
  },
  {
   "cell_type": "markdown",
   "id": "21f630ff",
   "metadata": {},
   "source": [
    "### Dictionary comprehension"
   ]
  },
  {
   "cell_type": "code",
   "execution_count": 30,
   "id": "561a7065",
   "metadata": {},
   "outputs": [
    {
     "name": "stdout",
     "output_type": "stream",
     "text": [
      "{0: 0, 1: 1, 2: 4, 3: 9, 4: 16, 5: 25}\n"
     ]
    }
   ],
   "source": [
    "squares = {x : x**2 for x in range(6)}\n",
    "print(squares)"
   ]
  },
  {
   "cell_type": "code",
   "execution_count": 31,
   "id": "f6241f0b",
   "metadata": {},
   "outputs": [
    {
     "name": "stdout",
     "output_type": "stream",
     "text": [
      "{0: 0, 2: 4, 4: 16, 6: 36, 8: 64}\n"
     ]
    }
   ],
   "source": [
    "# conditional dictionary comprehension\n",
    "\n",
    "even_squares = {x:x**2 for x in range(10) if x%2==0}\n",
    "print(even_squares)"
   ]
  },
  {
   "cell_type": "markdown",
   "id": "4490fd13",
   "metadata": {},
   "source": [
    "### Practical Examples"
   ]
  },
  {
   "cell_type": "code",
   "execution_count": 40,
   "id": "0da6cada",
   "metadata": {},
   "outputs": [],
   "source": [
    "# use a dictionary to count frequency of elemnts in list\n",
    "numbers = [1,2,2,3,3,3,4,4,4,4]\n",
    "numbers_record = {}\n",
    "keys = numbers_record.keys()\n",
    "\n",
    "for i in numbers:\n",
    "    if i in keys:\n",
    "        numbers_record[i] = numbers_record[i] + 1\n",
    "    else:\n",
    "        numbers_record[i] = 1"
   ]
  },
  {
   "cell_type": "code",
   "execution_count": 41,
   "id": "73ac3a10",
   "metadata": {},
   "outputs": [
    {
     "name": "stdout",
     "output_type": "stream",
     "text": [
      "{1: 1, 2: 2, 3: 3, 4: 4}\n"
     ]
    }
   ],
   "source": [
    "print(numbers_record)"
   ]
  },
  {
   "cell_type": "markdown",
   "id": "8d9f8443",
   "metadata": {},
   "source": [
    "### Merge two dictionaries\n"
   ]
  },
  {
   "cell_type": "code",
   "execution_count": 43,
   "id": "086aa9bc",
   "metadata": {},
   "outputs": [
    {
     "name": "stdout",
     "output_type": "stream",
     "text": [
      "{'a': 1, 'b': 1, 'c': 2}\n"
     ]
    }
   ],
   "source": [
    "dict1 = {\"a\":1, \"b\":2}\n",
    "dict2 = {\"b\":1, \"c\":2}\n",
    "\n",
    "merge_dict = {**dict1, **dict2}\n",
    "print(merge_dict)"
   ]
  },
  {
   "cell_type": "code",
   "execution_count": null,
   "id": "feb2e8c7",
   "metadata": {},
   "outputs": [],
   "source": []
  }
 ],
 "metadata": {
  "kernelspec": {
   "display_name": "Python 3",
   "language": "python",
   "name": "python3"
  },
  "language_info": {
   "codemirror_mode": {
    "name": "ipython",
    "version": 3
   },
   "file_extension": ".py",
   "mimetype": "text/x-python",
   "name": "python",
   "nbconvert_exporter": "python",
   "pygments_lexer": "ipython3",
   "version": "3.10.18"
  }
 },
 "nbformat": 4,
 "nbformat_minor": 5
}

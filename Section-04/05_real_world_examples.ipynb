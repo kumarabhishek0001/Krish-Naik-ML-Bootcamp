{
 "cells": [
  {
   "cell_type": "markdown",
   "id": "7500fec2",
   "metadata": {},
   "source": [
    "## Example1:\n",
    "- Manage a To Do List to keep track of task\n"
   ]
  },
  {
   "cell_type": "code",
   "execution_count": 2,
   "id": "d8abdaff",
   "metadata": {},
   "outputs": [
    {
     "name": "stdout",
     "output_type": "stream",
     "text": [
      "Don't forget to pay the Bills\n",
      "To Do list remaining: \n",
      "- Buy groceries\n",
      "- Pay the bills\n",
      "- Schedule Meeting\n",
      "- Go for a run\n"
     ]
    }
   ],
   "source": [
    "to_do_list = [\"Buy groceries\", \"Clean the house\", \"Pay the bills\"]\n",
    "\n",
    "## Adding to task\n",
    "to_do_list.append(\"Schedule Meeting\")\n",
    "to_do_list.append(\"Go for a run\")\n",
    "\n",
    "# removing comleted task\n",
    "to_do_list.remove(\"Clean the house\")\n",
    "\n",
    "# checking if task is in the last\n",
    "\n",
    "if \"Pay the bills\" in to_do_list:\n",
    "    print(\"Don't forget to pay the Bills\")\n",
    "\n",
    "print(\"To Do list remaining: \")\n",
    "for task in to_do_list:\n",
    "    print(f\"- {task}\")"
   ]
  },
  {
   "cell_type": "markdown",
   "id": "313c7446",
   "metadata": {},
   "source": [
    "## Example-2\n",
    "- Organizing student grades"
   ]
  },
  {
   "cell_type": "code",
   "execution_count": 4,
   "id": "f7838fc7",
   "metadata": {},
   "outputs": [
    {
     "name": "stdout",
     "output_type": "stream",
     "text": [
      "Average Marks: 86.6\n",
      "Highest Marks: 92\n",
      "Lowest Marks: 78\n"
     ]
    }
   ],
   "source": [
    "# Organizing student grades\n",
    "\n",
    "# organizing student grades\n",
    "grades = [85, 92, 78, 90, 88]\n",
    "\n",
    "# calculating the average grade\n",
    "avg_grade = sum(grades)/len(grades)\n",
    "\n",
    "# finding the highest and lowest grades\n",
    "highest_grades = max(grades)\n",
    "lowest_grades = min(grades)\n",
    "print(f\"Average Marks: {avg_grade}\")\n",
    "print(f\"Highest Marks: {highest_grades}\")\n",
    "print(f\"Lowest Marks: {lowest_grades}\")"
   ]
  }
 ],
 "metadata": {
  "kernelspec": {
   "display_name": "Python 3",
   "language": "python",
   "name": "python3"
  },
  "language_info": {
   "codemirror_mode": {
    "name": "ipython",
    "version": 3
   },
   "file_extension": ".py",
   "mimetype": "text/x-python",
   "name": "python",
   "nbconvert_exporter": "python",
   "pygments_lexer": "ipython3",
   "version": "3.10.18"
  }
 },
 "nbformat": 4,
 "nbformat_minor": 5
}

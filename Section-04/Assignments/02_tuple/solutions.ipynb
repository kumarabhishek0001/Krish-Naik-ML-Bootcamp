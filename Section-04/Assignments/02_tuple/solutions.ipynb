{
 "cells": [
  {
   "cell_type": "code",
   "execution_count": null,
   "id": "58c3a328",
   "metadata": {},
   "outputs": [
    {
     "name": "stdout",
     "output_type": "stream",
     "text": [
      "(1, 2, 3, 4, 5, 6, 7, 8, 9, 10)\n"
     ]
    }
   ],
   "source": [
    "# Assignment-1\n",
    "\n",
    "tupe1 = tuple(range(1,11))\n",
    "print(tupe1)"
   ]
  },
  {
   "cell_type": "code",
   "execution_count": null,
   "id": "f2d0323b",
   "metadata": {},
   "outputs": [
    {
     "name": "stdout",
     "output_type": "stream",
     "text": [
      "1\n",
      "10\n",
      "5\n",
      "6\n"
     ]
    }
   ],
   "source": [
    "# Assignment-2\n",
    "\n",
    "first = tupe1[0]\n",
    "print(first)\n",
    "\n",
    "last = tupe1[-1]\n",
    "print(last)\n",
    "\n",
    "n = len(tupe1)\n",
    "\n",
    "if n%2 ==0:\n",
    "    middle1 = n//2\n",
    "    print(middle1)\n",
    "\n",
    "    middle2 = middle1+1\n",
    "    print(middle2)\n",
    "else :\n",
    "    middle = n//2\n",
    "    print(middle)\n"
   ]
  },
  {
   "cell_type": "code",
   "execution_count": 8,
   "id": "5be1adc5",
   "metadata": {},
   "outputs": [
    {
     "name": "stdout",
     "output_type": "stream",
     "text": [
      "(1, 2, 3)\n",
      "(8, 9, 10)\n"
     ]
    }
   ],
   "source": [
    "# Assignement-3\n",
    "first3 = tupe1[:3]\n",
    "last3 = tupe1[-3:]\n",
    "\n",
    "print(first3)\n",
    "print(last3)"
   ]
  },
  {
   "cell_type": "code",
   "execution_count": 10,
   "id": "791cf3a3",
   "metadata": {},
   "outputs": [
    {
     "name": "stdout",
     "output_type": "stream",
     "text": [
      "6\n"
     ]
    }
   ],
   "source": [
    "matrix = (\n",
    "    (1,2,3),\n",
    "    (4,5,6),\n",
    "    (7,8,9)\n",
    ")\n",
    "\n",
    "print(matrix[1][2])"
   ]
  },
  {
   "cell_type": "code",
   "execution_count": 11,
   "id": "ca55f241",
   "metadata": {},
   "outputs": [
    {
     "name": "stdout",
     "output_type": "stream",
     "text": [
      "(1, 2, 3, 4, 5, 6)\n"
     ]
    }
   ],
   "source": [
    "# Assignment-5\n",
    "\n",
    "tupe2 = (1,2,3)\n",
    "tupe3 = (4,5,6)\n",
    "\n",
    "concat_tupe = tupe2 + tupe3\n",
    "print(concat_tupe)"
   ]
  },
  {
   "cell_type": "code",
   "execution_count": 12,
   "id": "3c9ecf92",
   "metadata": {},
   "outputs": [
    {
     "name": "stdout",
     "output_type": "stream",
     "text": [
      "3\n",
      "0\n"
     ]
    }
   ],
   "source": [
    "# Assignment-6\n",
    "\n",
    "tupe6 = (1,1,1,2,3,4,5)\n",
    "\n",
    "occurence = tupe6.count(1)\n",
    "index = tupe6.index(1)\n",
    "\n",
    "print(occurence)\n",
    "print(index)"
   ]
  },
  {
   "cell_type": "code",
   "execution_count": 13,
   "id": "4ab62fba",
   "metadata": {},
   "outputs": [
    {
     "name": "stdout",
     "output_type": "stream",
     "text": [
      "1\n",
      "2\n",
      "3\n",
      "4\n",
      "5\n"
     ]
    }
   ],
   "source": [
    "# assignment-7\n",
    "\n",
    "tupe7 = 1,2,3,4,5\n",
    "\n",
    "a,b,c,d,e = tupe7\n",
    "print(a)\n",
    "print(b)\n",
    "print(c)\n",
    "print(d)\n",
    "print(e)"
   ]
  },
  {
   "cell_type": "code",
   "execution_count": 14,
   "id": "683226a7",
   "metadata": {},
   "outputs": [
    {
     "name": "stdout",
     "output_type": "stream",
     "text": [
      "<class 'tuple'>\n"
     ]
    }
   ],
   "source": [
    "# Assignment-8\n",
    "\n",
    "lst = [2,4,6]\n",
    "\n",
    "tupe8 = tuple(lst)\n",
    "\n",
    "print(type(tupe8))"
   ]
  },
  {
   "cell_type": "code",
   "execution_count": 15,
   "id": "772d6b02",
   "metadata": {},
   "outputs": [
    {
     "name": "stdout",
     "output_type": "stream",
     "text": [
      "(1, 2, 3)\n",
      "(4, 5, 6)\n",
      "(7, 8, 9)\n"
     ]
    }
   ],
   "source": [
    "# Assignment-9\n",
    "\n",
    "matrix = (\n",
    "    (1,2,3),\n",
    "    (4,5,6),\n",
    "    (7,8,9)\n",
    ")\n",
    "\n",
    "for subtupe in matrix:\n",
    "    print(subtupe)"
   ]
  },
  {
   "cell_type": "code",
   "execution_count": 1,
   "id": "ec56f2f7",
   "metadata": {},
   "outputs": [
    {
     "name": "stdout",
     "output_type": "stream",
     "text": [
      "(1, 2, 3, 4, 5, 6)\n",
      "<class 'tuple'>\n"
     ]
    }
   ],
   "source": [
    "# Assignment-10\n",
    "\n",
    "tupe10 = tuple(range(1,6))\n",
    "\n",
    "lst10 = list(tupe10)\n",
    "\n",
    "lst10.append(6)\n",
    "\n",
    "tupe10 = tuple(lst10)\n",
    "\n",
    "print(tupe10)\n",
    "print(type(tupe10))\n"
   ]
  },
  {
   "cell_type": "code",
   "execution_count": 2,
   "id": "8812f2d0",
   "metadata": {},
   "outputs": [],
   "source": [
    "## Assignemnt-11\n",
    "\n",
    "tupe11 = ('a', 'b', 'h', 'i')\n",
    "s_name = \"\"\n",
    "for s in tupe11:\n",
    "    s_name = s_name + s"
   ]
  },
  {
   "cell_type": "code",
   "execution_count": 3,
   "id": "104411c6",
   "metadata": {},
   "outputs": [
    {
     "name": "stdout",
     "output_type": "stream",
     "text": [
      "abhi\n"
     ]
    }
   ],
   "source": [
    "print(s_name)"
   ]
  },
  {
   "cell_type": "code",
   "execution_count": 4,
   "id": "6a77fa0f",
   "metadata": {},
   "outputs": [
    {
     "name": "stdout",
     "output_type": "stream",
     "text": [
      "{(1, 2): 10, (3, 4): 20, (5, 6): 30}\n"
     ]
    }
   ],
   "source": [
    "# Assignment-12\n",
    "\n",
    "dict = {\n",
    "    (1,2) : 10,\n",
    "    (3,4) : 20,\n",
    "    (5,6) : 30\n",
    "}\n",
    "\n",
    "print(dict)"
   ]
  },
  {
   "cell_type": "code",
   "execution_count": null,
   "id": "111ee9a1",
   "metadata": {},
   "outputs": [
    {
     "name": "stdout",
     "output_type": "stream",
     "text": [
      "1 2 3 4 5 6 7 8 9 "
     ]
    }
   ],
   "source": [
    "# Assignment-13\n",
    "\n",
    "matrix = (\n",
    "    (1,2,3),\n",
    "    (4,5,6),\n",
    "    (7,8,9)\n",
    ")\n",
    "\n",
    "for subtuple in matrix: \n",
    "    for element in subtuple:\n",
    "        print(element, end=\" \")\n",
    "    "
   ]
  },
  {
   "cell_type": "code",
   "execution_count": 8,
   "id": "4b09fb9b",
   "metadata": {},
   "outputs": [
    {
     "name": "stdout",
     "output_type": "stream",
     "text": [
      "{1, 2, 3, 4, 5, 6}\n",
      "<class 'set'>\n"
     ]
    }
   ],
   "source": [
    "# Assignment-14\n",
    "\n",
    "dupe = (1,1,2,3,4,4,5,6,6)\n",
    "set_of_dupe = set(dupe)\n",
    "\n",
    "print(set_of_dupe)\n",
    "print(type(set_of_dupe))"
   ]
  },
  {
   "cell_type": "code",
   "execution_count": 11,
   "id": "17f61f11",
   "metadata": {},
   "outputs": [
    {
     "name": "stdout",
     "output_type": "stream",
     "text": [
      "highest element: 45\n",
      "Lowest element: -2\n",
      "sum of element: 54\n"
     ]
    }
   ],
   "source": [
    "# Assignment-15\n",
    "\n",
    "def min_max_sum(tupes):\n",
    "    n = len(tupes)\n",
    "\n",
    "    # finding max\n",
    "    max = tupes[0]\n",
    "    for i in range(0,n):\n",
    "        if tupes[i]>max:\n",
    "            max = tupes[i]\n",
    "    print(\"highest element:\", max)\n",
    "\n",
    "    # finding min\n",
    "    min = tupes[0]\n",
    "    for i in range(0,n):\n",
    "        if tupes[i]<min:\n",
    "            min = tupes[i]\n",
    "    print(\"Lowest element:\",min)\n",
    "\n",
    "    # finding sum\n",
    "    sum = 0\n",
    "    for i in range(0,n):\n",
    "        sum = sum + tupes[i]\n",
    "    print(\"sum of element:\",sum)\n",
    "\n",
    "tupe_check = (1,2,3,-1,0,-2,45,6)\n",
    "min_max_sum(tupe_check)"
   ]
  },
  {
   "cell_type": "code",
   "execution_count": null,
   "id": "34601f6b",
   "metadata": {},
   "outputs": [],
   "source": []
  }
 ],
 "metadata": {
  "kernelspec": {
   "display_name": "Python 3",
   "language": "python",
   "name": "python3"
  },
  "language_info": {
   "codemirror_mode": {
    "name": "ipython",
    "version": 3
   },
   "file_extension": ".py",
   "mimetype": "text/x-python",
   "name": "python",
   "nbconvert_exporter": "python",
   "pygments_lexer": "ipython3",
   "version": "3.10.18"
  }
 },
 "nbformat": 4,
 "nbformat_minor": 5
}

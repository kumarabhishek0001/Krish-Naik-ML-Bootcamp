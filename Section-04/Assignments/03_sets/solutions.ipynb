{
 "cells": [
  {
   "cell_type": "code",
   "execution_count": 3,
   "id": "c895f389",
   "metadata": {},
   "outputs": [
    {
     "name": "stdout",
     "output_type": "stream",
     "text": [
      "{1, 2, 3, 4, 5, 6, 7, 8, 9, 10}\n"
     ]
    }
   ],
   "source": [
    "# Assignment-1\n",
    "\n",
    "set1 = {i for i in range(1,11)}\n",
    "print(set1)\n",
    "\n",
    "# set1 = set(range(1,16))\n",
    "# print(set1)"
   ]
  },
  {
   "cell_type": "code",
   "execution_count": null,
   "id": "513dd33f",
   "metadata": {},
   "outputs": [
    {
     "name": "stdout",
     "output_type": "stream",
     "text": [
      "{2, 3, 4, 5, 6, 7, 8, 9, 10, 11}\n"
     ]
    }
   ],
   "source": [
    "# Assignment-3\n",
    "set1.add(11)\n",
    "\n",
    "set1.discard(1)\n",
    "\n",
    "print(set1)"
   ]
  },
  {
   "cell_type": "code",
   "execution_count": null,
   "id": "973c7f31",
   "metadata": {},
   "outputs": [],
   "source": [
    "set3 = set(range(1,6))\n",
    "set3_a = set()\n",
    "count = 0 \n",
    "i = 0\n",
    "while count<5:\n",
    "    if i%2 == 0:\n",
    "        set3_a.add(i)\n",
    "        count = count + 1\n",
    "    i = i+1\n",
    "\n"
   ]
  },
  {
   "cell_type": "code",
   "execution_count": 12,
   "id": "54e52a25",
   "metadata": {},
   "outputs": [
    {
     "name": "stdout",
     "output_type": "stream",
     "text": [
      "{1, 2, 3, 4, 5}\n",
      "{0, 2, 4, 6, 8}\n"
     ]
    }
   ],
   "source": [
    "print(set3)\n",
    "print(set3_a)"
   ]
  },
  {
   "cell_type": "code",
   "execution_count": 16,
   "id": "fbade509",
   "metadata": {},
   "outputs": [
    {
     "name": "stdout",
     "output_type": "stream",
     "text": [
      "Union:  {0, 1, 2, 3, 4, 5, 6, 8}\n",
      "intersection:  {2, 4}\n",
      "difference:  {0, 8, 6}\n",
      "symmetric difference:  {0, 1, 3, 5, 6, 8}\n"
     ]
    }
   ],
   "source": [
    "set_union = set3.union(set3_a)\n",
    "print(\"Union: \", set_union)\n",
    "\n",
    "set_intersection = set3_a.intersection(set3)\n",
    "print(\"intersection: \",set_intersection)\n",
    "\n",
    "set_difference = set3_a.difference(set3)\n",
    "print(\"difference: \",set_difference)\n",
    "\n",
    "set_symmetric_difference = set3.symmetric_difference(set3_a)\n",
    "print(\"symmetric difference: \", set_symmetric_difference)"
   ]
  },
  {
   "cell_type": "code",
   "execution_count": 18,
   "id": "c034f3f0",
   "metadata": {},
   "outputs": [
    {
     "name": "stdout",
     "output_type": "stream",
     "text": [
      "{64, 1, 4, 36, 100, 9, 16, 49, 81, 25}\n"
     ]
    }
   ],
   "source": [
    "# Assignment-4\n",
    "\n",
    "set4 = {s**2 for s in range(1,11)}\n",
    "print(set4)"
   ]
  },
  {
   "cell_type": "code",
   "execution_count": 19,
   "id": "9828cb00",
   "metadata": {},
   "outputs": [
    {
     "name": "stdout",
     "output_type": "stream",
     "text": [
      "{2, 4, 6, 8, 10}\n"
     ]
    }
   ],
   "source": [
    "# Assignment-5\n",
    "set1 = {i for i in range(1,11)}\n",
    "\n",
    "set5 = {i for i in set1 if i%2 == 0}\n",
    "print(set5)"
   ]
  },
  {
   "cell_type": "code",
   "execution_count": 23,
   "id": "62f3e5ee",
   "metadata": {},
   "outputs": [
    {
     "name": "stdout",
     "output_type": "stream",
     "text": [
      "list:  [1, 2, 3, 4, 4, 5, 5]\n",
      "Unique elements in list:  {1, 2, 3, 4, 5}\n"
     ]
    }
   ],
   "source": [
    "# Assignment-6\n",
    "lst6 = [1,2,3,4,4,5,5]\n",
    "print(\"list: \",lst6)\n",
    "\n",
    "set6 = set(lst6)\n",
    "print(\"Unique elements in list: \",set6)"
   ]
  },
  {
   "cell_type": "code",
   "execution_count": 27,
   "id": "56b4e976",
   "metadata": {},
   "outputs": [
    {
     "name": "stdout",
     "output_type": "stream",
     "text": [
      "is set7_b a subset of set7_a?  True\n",
      "is set7_a a superset of set7_b?  True\n"
     ]
    }
   ],
   "source": [
    "# Assignment-7\n",
    "\n",
    "set7_a = {1,2,3,4,5}\n",
    "set7_b = {1,2,3}\n",
    "\n",
    "print(\"is set7_b a subset of set7_a? \",set7_b.issubset(set7_a))\n",
    "print(\"is set7_a a superset of set7_b? \",set7_a.issuperset(set7_b))\n"
   ]
  },
  {
   "cell_type": "code",
   "execution_count": null,
   "id": "fe4f8e1d",
   "metadata": {},
   "outputs": [
    {
     "name": "stdout",
     "output_type": "stream",
     "text": [
      "frozenset({1, 2, 3, 4, 5})\n"
     ]
    }
   ],
   "source": [
    "# Assignment-8:\n",
    "fs = frozenset(range(1, 6))\n",
    "print(fs)"
   ]
  },
  {
   "cell_type": "code",
   "execution_count": 32,
   "id": "0daa8854",
   "metadata": {},
   "outputs": [
    {
     "name": "stdout",
     "output_type": "stream",
     "text": [
      "{1, 2, 3, 4, 5}\n"
     ]
    }
   ],
   "source": [
    "# Assignement-9:\n",
    "set9 = set(range(1,6))\n",
    "print(set9)"
   ]
  },
  {
   "cell_type": "code",
   "execution_count": 35,
   "id": "5c06512e",
   "metadata": {},
   "outputs": [
    {
     "name": "stdout",
     "output_type": "stream",
     "text": [
      "{1, 2, 3, 4, 5}\n",
      "[1, 2, 3, 4, 5, 6]\n",
      "{1, 2, 3, 4, 5, 6}\n"
     ]
    }
   ],
   "source": [
    "# Assignement-9\n",
    "set9 = {1,2,3,4,5}\n",
    "print(set9)\n",
    "\n",
    "list9 = list(set9)\n",
    "list9.append(6)\n",
    "print(list9)\n",
    "\n",
    "set9 = set(list9)\n",
    "print(set9)"
   ]
  },
  {
   "cell_type": "code",
   "execution_count": 38,
   "id": "7bd57fec",
   "metadata": {},
   "outputs": [
    {
     "name": "stdout",
     "output_type": "stream",
     "text": [
      "{frozenset({1, 2}): 1, frozenset({3, 4}): 2, frozenset({5, 6}): 3}\n"
     ]
    }
   ],
   "source": [
    "dict = {\n",
    "    frozenset({1,2}) : 1,\n",
    "    frozenset({3,4}) : 2,\n",
    "    frozenset({5,6}) : 3\n",
    "}\n",
    "\n",
    "print(dict)"
   ]
  },
  {
   "cell_type": "code",
   "execution_count": 39,
   "id": "545ec427",
   "metadata": {},
   "outputs": [
    {
     "name": "stdout",
     "output_type": "stream",
     "text": [
      "1\n",
      "2\n",
      "3\n",
      "4\n",
      "5\n",
      "6\n",
      "7\n",
      "8\n",
      "9\n",
      "10\n"
     ]
    }
   ],
   "source": [
    "# Assignment-11\n",
    "\n",
    "set11 = set(range(1,11))\n",
    "for i in set11:\n",
    "    print(i)"
   ]
  },
  {
   "cell_type": "code",
   "execution_count": 41,
   "id": "862712b0",
   "metadata": {},
   "outputs": [
    {
     "name": "stdout",
     "output_type": "stream",
     "text": [
      "{2, 3, 4, 5, 6, 7, 8, 9, 10}\n",
      "{3, 4, 5, 6, 7, 8, 9, 10}\n",
      "{4, 5, 6, 7, 8, 9, 10}\n",
      "{5, 6, 7, 8, 9, 10}\n",
      "{6, 7, 8, 9, 10}\n",
      "{7, 8, 9, 10}\n",
      "{8, 9, 10}\n",
      "{9, 10}\n",
      "{10}\n",
      "set()\n"
     ]
    }
   ],
   "source": [
    "# Assignment-12\n",
    "set12 = set(range(1,11))\n",
    "\n",
    "while set12:\n",
    "    set12.pop()\n",
    "    print(set12)\n"
   ]
  },
  {
   "cell_type": "code",
   "execution_count": 51,
   "id": "0d0b600f",
   "metadata": {},
   "outputs": [
    {
     "name": "stdout",
     "output_type": "stream",
     "text": [
      "{5}\n",
      "{2}\n",
      "{2, 5}\n"
     ]
    }
   ],
   "source": [
    "# Assignment-13:\n",
    "\n",
    "set13_a = {1,3,5}\n",
    "set13_b = {1,2,3}\n",
    "\n",
    "print(set13_a.difference(set13_b))\n",
    "print(set13_b.difference(set13_a))\n",
    "\n",
    "set13_a.symmetric_difference_update(set13_b)\n",
    "print(set13_a)"
   ]
  },
  {
   "cell_type": "code",
   "execution_count": 53,
   "id": "f267559b",
   "metadata": {},
   "outputs": [
    {
     "name": "stdout",
     "output_type": "stream",
     "text": [
      "True\n"
     ]
    }
   ],
   "source": [
    "# Assignment-14:\n",
    "print(3 in set13_b)"
   ]
  },
  {
   "cell_type": "code",
   "execution_count": 54,
   "id": "1a8dd746",
   "metadata": {},
   "outputs": [
    {
     "name": "stdout",
     "output_type": "stream",
     "text": [
      "{(1, 2), (3, 4), (5, 6)}\n"
     ]
    }
   ],
   "source": [
    "s = { (1, 2), (3, 4), (5, 6) }\n",
    "print(s)"
   ]
  },
  {
   "cell_type": "code",
   "execution_count": null,
   "id": "9486c176",
   "metadata": {},
   "outputs": [],
   "source": []
  }
 ],
 "metadata": {
  "kernelspec": {
   "display_name": "Python 3",
   "language": "python",
   "name": "python3"
  },
  "language_info": {
   "codemirror_mode": {
    "name": "ipython",
    "version": 3
   },
   "file_extension": ".py",
   "mimetype": "text/x-python",
   "name": "python",
   "nbconvert_exporter": "python",
   "pygments_lexer": "ipython3",
   "version": "3.10.18"
  }
 },
 "nbformat": 4,
 "nbformat_minor": 5
}

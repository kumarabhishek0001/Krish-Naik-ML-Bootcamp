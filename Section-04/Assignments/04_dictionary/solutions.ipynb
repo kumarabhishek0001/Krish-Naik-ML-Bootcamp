{
 "cells": [
  {
   "cell_type": "code",
   "execution_count": 2,
   "id": "f9235814",
   "metadata": {},
   "outputs": [
    {
     "name": "stdout",
     "output_type": "stream",
     "text": [
      "{1: 1, 2: 4, 3: 9, 4: 16, 5: 25, 6: 36, 7: 49, 8: 64, 9: 81, 10: 100}\n"
     ]
    }
   ],
   "source": [
    "# Assignment-1\n",
    "\n",
    "dict1 = {i:i**2 for i in range(1,11)}\n",
    "print(dict1)"
   ]
  },
  {
   "cell_type": "code",
   "execution_count": 5,
   "id": "fe5a54db",
   "metadata": {},
   "outputs": [
    {
     "name": "stdout",
     "output_type": "stream",
     "text": [
      "25\n",
      "[1, 2, 3, 4, 5, 6, 7, 8, 9, 10]\n"
     ]
    }
   ],
   "source": [
    "# Assignemt-2\n",
    "print(dict1[5])\n",
    "keys1 = list(dict1.keys())\n",
    "\n",
    "print(keys1)"
   ]
  },
  {
   "cell_type": "code",
   "execution_count": null,
   "id": "ddeae4a8",
   "metadata": {},
   "outputs": [
    {
     "name": "stdout",
     "output_type": "stream",
     "text": [
      "{2: 4, 3: 9, 4: 16, 5: 25, 6: 36, 7: 49, 8: 64, 9: 81, 10: 100, 11: 121}\n"
     ]
    }
   ],
   "source": [
    "# Assignment-3\n",
    "\n",
    "dict1[11] = 121\n",
    "del dict1[1]\n",
    "\n",
    "print(dict1)"
   ]
  },
  {
   "cell_type": "code",
   "execution_count": null,
   "id": "a7fc59be",
   "metadata": {},
   "outputs": [
    {
     "name": "stdout",
     "output_type": "stream",
     "text": [
      "[(2, 4), (3, 9), (4, 16), (5, 25), (6, 36), (7, 49), (8, 64), (9, 81), (10, 100), (11, 121)]\n"
     ]
    }
   ],
   "source": [
    "# Assignment-4\n",
    "list_of_tupe = []\n",
    "for key, value in dict1.items():\n",
    "    tupe = (key, value)\n",
    "    list_of_tupe.append(tupe)\n",
    "print(list_of_tupe)"
   ]
  },
  {
   "cell_type": "code",
   "execution_count": 14,
   "id": "1870cb1a",
   "metadata": {},
   "outputs": [
    {
     "name": "stdout",
     "output_type": "stream",
     "text": [
      "{1: 1, 2: 8, 3: 27, 4: 64, 5: 125, 6: 216, 7: 343, 8: 512, 9: 729, 10: 1000}\n"
     ]
    }
   ],
   "source": [
    "# Assignment-5\n",
    "\n",
    "dict5 = {x: x**3 for x in range(1,11)}\n",
    "print(dict5)"
   ]
  },
  {
   "cell_type": "code",
   "execution_count": 15,
   "id": "92fe1474",
   "metadata": {},
   "outputs": [
    {
     "name": "stdout",
     "output_type": "stream",
     "text": [
      "{1: 1, 2: 4, 3: 9, 4: 16, 5: 25}\n",
      "{6: 36, 7: 49, 8: 64, 9: 81, 10: 100}\n",
      "{1: 1, 2: 4, 3: 9, 4: 16, 5: 25, 6: 36, 7: 49, 8: 64, 9: 81, 10: 100}\n"
     ]
    }
   ],
   "source": [
    "dict6a = {i:i**2 for i in range(1,6)}\n",
    "dict6b = {i : i**2 for i in range(6,11)}\n",
    "\n",
    "print(dict6a)\n",
    "print(dict6b)\n",
    "\n",
    "mergedDict = {**dict6a, **dict6b}\n",
    "print(mergedDict)"
   ]
  },
  {
   "cell_type": "code",
   "execution_count": null,
   "id": "45c355aa",
   "metadata": {},
   "outputs": [
    {
     "name": "stdout",
     "output_type": "stream",
     "text": [
      "{'name': 'Abhishek', 'age': 21, 'grade': {'math': 72, 'science': 68, 'english': 80}}\n"
     ]
    }
   ],
   "source": [
    "student = {\n",
    "    \"name\" : \"Somerset\",\n",
    "    \"age\" : 21,\n",
    "    \"grade\" :{\n",
    "        \"math\" : 72,\n",
    "        \"science\" : 68,\n",
    "        \"english\" : 80,\n",
    "    },\n",
    "}\n",
    "print(student)"
   ]
  },
  {
   "cell_type": "code",
   "execution_count": 18,
   "id": "37fa5b7d",
   "metadata": {},
   "outputs": [
    {
     "name": "stdout",
     "output_type": "stream",
     "text": [
      "{1: [1, 2, 3, 4, 5], 2: [2, 4, 6, 8, 10], 3: [3, 6, 9, 12, 15], 4: [4, 8, 12, 16, 20], 5: [5, 10, 15, 20, 25]}\n"
     ]
    }
   ],
   "source": [
    "#  Assignment-8\n",
    "\n",
    "dict8 = {i : [i*j for j in range(1,6)] for i in range(1,6)}\n",
    "print(dict8)"
   ]
  },
  {
   "cell_type": "code",
   "execution_count": 19,
   "id": "852f4bd6",
   "metadata": {},
   "outputs": [
    {
     "name": "stdout",
     "output_type": "stream",
     "text": [
      "{1: (1, 1), 2: (2, 4), 3: (3, 9), 4: (4, 16), 5: (5, 25)}\n"
     ]
    }
   ],
   "source": [
    "# assignment-9\n",
    "\n",
    "dict9 = {i : (i, i**2) for i in range(1,6)}\n",
    "print(dict9)"
   ]
  },
  {
   "cell_type": "code",
   "execution_count": 21,
   "id": "40966371",
   "metadata": {},
   "outputs": [
    {
     "name": "stdout",
     "output_type": "stream",
     "text": [
      "{1: 1, 2: 4, 3: 9, 4: 16, 5: 25}\n",
      "[(1, 1), (2, 4), (3, 9), (4, 16), (5, 25)]\n"
     ]
    }
   ],
   "source": [
    "# Assignment-10\n",
    "dict10 = {i : i**2 for i in range(1,6)}\n",
    "print(dict10)\n",
    "\n",
    "list_of_items = []\n",
    "for key, value in dict10.items():\n",
    "    tupe = (key, value)\n",
    "    list_of_items.append(tupe)\n",
    "print(list_of_items)"
   ]
  },
  {
   "cell_type": "code",
   "execution_count": 25,
   "id": "bc2d3d0c",
   "metadata": {},
   "outputs": [
    {
     "name": "stdout",
     "output_type": "stream",
     "text": [
      "[(1, 1), (2, 4), (3, 9), (4, 16), (5, 25)]\n"
     ]
    }
   ],
   "source": [
    "items = list(dict10.items())\n",
    "print(items)\n"
   ]
  },
  {
   "cell_type": "code",
   "execution_count": 26,
   "id": "99130e58",
   "metadata": {},
   "outputs": [
    {
     "name": "stdout",
     "output_type": "stream",
     "text": [
      "{2: 4, 4: 16, 6: 36, 8: 64, 10: 100}\n"
     ]
    }
   ],
   "source": [
    "# Assignment-11\n",
    "dict11a = {i:i**2 for i in range(1,11)}\n",
    "\n",
    "dict11b = {key: value for key, value in dict11a.items() if key%2==0}\n",
    "print(dict11b)"
   ]
  },
  {
   "cell_type": "code",
   "execution_count": 30,
   "id": "22be9cd6",
   "metadata": {},
   "outputs": [
    {
     "name": "stdout",
     "output_type": "stream",
     "text": [
      "{1: 1, 2: 4, 3: 9, 4: 16, 5: 25}\n",
      "{1: 1, 4: 2, 9: 3, 16: 4, 25: 5}\n"
     ]
    }
   ],
   "source": [
    "# Assignment-12\n",
    "squares = {i: i**2 for i in range(1,6)}\n",
    "\n",
    "print(squares)\n",
    "\n",
    "new_dict = {v:k for k,v in squares.items()}\n",
    "print(new_dict)"
   ]
  },
  {
   "cell_type": "code",
   "execution_count": null,
   "id": "ab00172c",
   "metadata": {},
   "outputs": [
    {
     "name": "stdout",
     "output_type": "stream",
     "text": [
      "defaultdict(<class 'list'>, {'a': [1, 2], 'b': [3]})\n"
     ]
    }
   ],
   "source": [
    "# Assignment-13\n",
    "from collections import defaultdict\n",
    "\n",
    "default_dict = defaultdict(list)\n",
    "default_dict['a'].append(1)\n",
    "default_dict['a'].append(2)\n",
    "default_dict['b'].append(3)\n",
    "print(default_dict)"
   ]
  },
  {
   "cell_type": "code",
   "execution_count": 32,
   "id": "18dfd79b",
   "metadata": {},
   "outputs": [
    {
     "name": "stdout",
     "output_type": "stream",
     "text": [
      "{'a': 1, 'b': 2, 'c': 3, 'd': 4}\n"
     ]
    }
   ],
   "source": [
    "# Assignment-14\n",
    "frequency = {}\n",
    "frequencyKeys = frequency.keys()\n",
    "\n",
    "def stringCount(s):\n",
    "    for i in s:\n",
    "        if i in frequencyKeys:\n",
    "            frequency[i] += 1\n",
    "        else:\n",
    "            frequency[i] = 1\n",
    "\n",
    "stringCount(\"abbcccdddd\")\n",
    "print(frequency)"
   ]
  },
  {
   "cell_type": "code",
   "execution_count": 35,
   "id": "d32a654a",
   "metadata": {},
   "outputs": [
    {
     "name": "stdout",
     "output_type": "stream",
     "text": [
      "{\"name\": \"Harry Potter and the philosopher's stone\", \"author\": \"JK Rowling\", \"year\": 1977, \"genre\": \"Fantasy Fiction\"}\n"
     ]
    }
   ],
   "source": [
    "# Assignment-15\n",
    "import json\n",
    "\n",
    "book1 = {\n",
    "    \"name\" : \"Harry Potter and the philosopher's stone\",\n",
    "\n",
    "    \"author\" : \"JK Rowling\",\n",
    "\n",
    "    \"year\": 1977,\n",
    "\n",
    "    \"genre\" : \"Fantasy Fiction\"\n",
    "}\n",
    "\n",
    "bookJSON = json.dumps(book1)\n",
    "print(bookJSON)\n"
   ]
  },
  {
   "cell_type": "code",
   "execution_count": null,
   "id": "b6f956ea",
   "metadata": {},
   "outputs": [],
   "source": []
  }
 ],
 "metadata": {
  "kernelspec": {
   "display_name": "Python 3",
   "language": "python",
   "name": "python3"
  },
  "language_info": {
   "codemirror_mode": {
    "name": "ipython",
    "version": 3
   },
   "file_extension": ".py",
   "mimetype": "text/x-python",
   "name": "python",
   "nbconvert_exporter": "python",
   "pygments_lexer": "ipython3",
   "version": "3.10.18"
  }
 },
 "nbformat": 4,
 "nbformat_minor": 5
}

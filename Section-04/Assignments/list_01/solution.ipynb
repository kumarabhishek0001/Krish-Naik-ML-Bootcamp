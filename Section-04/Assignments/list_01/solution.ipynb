{
 "cells": [
  {
   "cell_type": "code",
   "execution_count": 25,
   "id": "94ad5775",
   "metadata": {},
   "outputs": [
    {
     "name": "stdout",
     "output_type": "stream",
     "text": [
      "[0, 1, 2, 3, 4, 5, 6, 7, 8, 9, 10, 11, 12, 13, 14, 15, 16, 17, 18, 19, 20]\n"
     ]
    }
   ],
   "source": [
    "## list of first 20 positive integer\n",
    "lst = []\n",
    "for i in range(21):\n",
    "    lst.append(i)\n",
    "\n",
    "print(lst)"
   ]
  },
  {
   "cell_type": "code",
   "execution_count": 26,
   "id": "7cf12144",
   "metadata": {},
   "outputs": [
    {
     "name": "stdout",
     "output_type": "stream",
     "text": [
      "0\n",
      "20\n",
      "11\n"
     ]
    }
   ],
   "source": [
    "first = 0\n",
    "last = 20\n",
    "middle = (21+1)//2\n",
    "\n",
    "\n",
    "print(lst[first])\n",
    "print(lst[last])\n",
    "print(lst[middle])"
   ]
  },
  {
   "cell_type": "code",
   "execution_count": 27,
   "id": "e4ca6590",
   "metadata": {},
   "outputs": [
    {
     "name": "stdout",
     "output_type": "stream",
     "text": [
      "[0, 1, 2, 3, 4] [16, 17, 18, 19, 20] [5, 6, 7, 8, 9, 10, 11, 12, 13, 14, 15]\n"
     ]
    }
   ],
   "source": [
    "first_five = lst[0:5]\n",
    "last_five = lst[16:21]\n",
    "\n",
    "middle_ele = lst[5:16]\n",
    "\n",
    "print(first_five, last_five, middle_ele)"
   ]
  },
  {
   "cell_type": "code",
   "execution_count": 28,
   "id": "28378d8b",
   "metadata": {},
   "outputs": [
    {
     "name": "stdout",
     "output_type": "stream",
     "text": [
      "[0, 1, 4, 9, 16, 25, 36, 49, 64, 81, 100]\n"
     ]
    }
   ],
   "source": [
    "lst_sqr = [i**2 for i in range(11)]\n",
    "print(lst_sqr)"
   ]
  },
  {
   "cell_type": "code",
   "execution_count": 29,
   "id": "640d0e7d",
   "metadata": {},
   "outputs": [
    {
     "name": "stdout",
     "output_type": "stream",
     "text": [
      "[0, 2, 4, 6, 8, 10, 12, 14, 16, 18, 20]\n"
     ]
    }
   ],
   "source": [
    "even_lst = []\n",
    "[even_lst.append(i) for i in lst if i%2==0]\n",
    "print(even_lst)"
   ]
  },
  {
   "cell_type": "code",
   "execution_count": 30,
   "id": "d32e5f21",
   "metadata": {},
   "outputs": [
    {
     "name": "stdout",
     "output_type": "stream",
     "text": [
      "[2, 10, 1, 15, 2, 33, -2, -10, 15, 33]\n"
     ]
    }
   ],
   "source": [
    "rand_lst = [2,10, 1, 15 ,2, 33 ,-2, -10, 15, 33]\n",
    "print(rand_lst)"
   ]
  },
  {
   "cell_type": "code",
   "execution_count": 31,
   "id": "abff5159",
   "metadata": {},
   "outputs": [],
   "source": [
    "rand_lst.sort(reverse=True)"
   ]
  },
  {
   "cell_type": "code",
   "execution_count": 32,
   "id": "c33edd51",
   "metadata": {},
   "outputs": [
    {
     "name": "stdout",
     "output_type": "stream",
     "text": [
      "[33, 33, 15, 15, 10, 2, 2, 1, -2, -10]\n"
     ]
    }
   ],
   "source": [
    "print(rand_lst)"
   ]
  },
  {
   "cell_type": "code",
   "execution_count": 33,
   "id": "477c2847",
   "metadata": {},
   "outputs": [
    {
     "name": "stdout",
     "output_type": "stream",
     "text": [
      "[-10, -2, 1, 2, 2, 10, 15, 15, 33, 33]\n"
     ]
    }
   ],
   "source": [
    "rand_lst.sort()\n",
    "print(rand_lst)"
   ]
  },
  {
   "cell_type": "code",
   "execution_count": 34,
   "id": "86d1bed0",
   "metadata": {},
   "outputs": [
    {
     "name": "stdout",
     "output_type": "stream",
     "text": [
      "[-10, -2, 1, 2, 10, 15, 33]\n"
     ]
    }
   ],
   "source": [
    "for i in rand_lst:\n",
    "    count = rand_lst.count(i)\n",
    "    if count>1:\n",
    "        while count>1:\n",
    "            rand_lst.remove(i)\n",
    "            count = count - 1\n",
    "\n",
    "print(rand_lst)"
   ]
  },
  {
   "cell_type": "code",
   "execution_count": 36,
   "id": "d8bca21f",
   "metadata": {},
   "outputs": [
    {
     "name": "stdout",
     "output_type": "stream",
     "text": [
      "[[1, 2, 3], [4, 5, 6], [7, 8, 9]]\n",
      "6\n"
     ]
    }
   ],
   "source": [
    "matrix = [\n",
    "    [1,2,3],\n",
    "    [4,5,6],\n",
    "    [7,8,9]\n",
    "]\n",
    "\n",
    "print(matrix)\n",
    "print(matrix[1][2])"
   ]
  },
  {
   "cell_type": "code",
   "execution_count": 43,
   "id": "5b3a5e29",
   "metadata": {},
   "outputs": [
    {
     "name": "stdout",
     "output_type": "stream",
     "text": [
      "Sorted Studnets in descending order:\n",
      "{'name': 'Charlie', 'score': 95}\n",
      "{'name': 'Alice', 'score': 88}\n",
      "{'name': 'Eve', 'score': 78}\n",
      "{'name': 'Bob', 'score': 72}\n",
      "{'name': 'David', 'score': 65}\n"
     ]
    }
   ],
   "source": [
    "students = [\n",
    "    {'name': 'Alice', 'score': 88},\n",
    "    {'name': 'Bob', 'score': 72},\n",
    "    {'name': 'Charlie', 'score': 95},\n",
    "    {'name': 'David', 'score': 65},\n",
    "    {'name': 'Eve', 'score': 78}\n",
    "]\n",
    "\n",
    "sorted_students = sorted(students, key= lambda x: x['score'], reverse=True)\n",
    "print(\"Sorted Studnets in descending order:\")\n",
    "for student in sorted_students:\n",
    "    print(student)"
   ]
  },
  {
   "cell_type": "code",
   "execution_count": null,
   "id": "eb876f1a",
   "metadata": {},
   "outputs": [
    {
     "ename": "SyntaxError",
     "evalue": "invalid syntax (513742694.py, line 1)",
     "output_type": "error",
     "traceback": [
      "\u001b[1;36m  Cell \u001b[1;32mIn[42], line 1\u001b[1;36m\u001b[0m\n\u001b[1;33m    data[][\"score\"].sort()\u001b[0m\n\u001b[1;37m         ^\u001b[0m\n\u001b[1;31mSyntaxError\u001b[0m\u001b[1;31m:\u001b[0m invalid syntax\n"
     ]
    }
   ],
   "source": []
  },
  {
   "cell_type": "code",
   "execution_count": null,
   "id": "81e09de6",
   "metadata": {},
   "outputs": [],
   "source": []
  }
 ],
 "metadata": {
  "kernelspec": {
   "display_name": "Python 3",
   "language": "python",
   "name": "python3"
  },
  "language_info": {
   "codemirror_mode": {
    "name": "ipython",
    "version": 3
   },
   "file_extension": ".py",
   "mimetype": "text/x-python",
   "name": "python",
   "nbconvert_exporter": "python",
   "pygments_lexer": "ipython3",
   "version": "3.10.18"
  }
 },
 "nbformat": 4,
 "nbformat_minor": 5
}

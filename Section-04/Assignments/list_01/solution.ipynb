{
 "cells": [
  {
   "cell_type": "code",
   "execution_count": 25,
   "id": "94ad5775",
   "metadata": {},
   "outputs": [
    {
     "name": "stdout",
     "output_type": "stream",
     "text": [
      "[0, 1, 2, 3, 4, 5, 6, 7, 8, 9, 10, 11, 12, 13, 14, 15, 16, 17, 18, 19, 20]\n"
     ]
    }
   ],
   "source": [
    "## list of first 20 positive integer\n",
    "lst = []\n",
    "for i in range(21):\n",
    "    lst.append(i)\n",
    "\n",
    "print(lst)"
   ]
  },
  {
   "cell_type": "code",
   "execution_count": 26,
   "id": "7cf12144",
   "metadata": {},
   "outputs": [
    {
     "name": "stdout",
     "output_type": "stream",
     "text": [
      "0\n",
      "20\n",
      "11\n"
     ]
    }
   ],
   "source": [
    "first = 0\n",
    "last = 20\n",
    "middle = (21+1)//2\n",
    "\n",
    "\n",
    "print(lst[first])\n",
    "print(lst[last])\n",
    "print(lst[middle])"
   ]
  },
  {
   "cell_type": "code",
   "execution_count": 27,
   "id": "e4ca6590",
   "metadata": {},
   "outputs": [
    {
     "name": "stdout",
     "output_type": "stream",
     "text": [
      "[0, 1, 2, 3, 4] [16, 17, 18, 19, 20] [5, 6, 7, 8, 9, 10, 11, 12, 13, 14, 15]\n"
     ]
    }
   ],
   "source": [
    "first_five = lst[0:5]\n",
    "last_five = lst[16:21]\n",
    "\n",
    "middle_ele = lst[5:16]\n",
    "\n",
    "print(first_five, last_five, middle_ele)"
   ]
  },
  {
   "cell_type": "code",
   "execution_count": 28,
   "id": "28378d8b",
   "metadata": {},
   "outputs": [
    {
     "name": "stdout",
     "output_type": "stream",
     "text": [
      "[0, 1, 4, 9, 16, 25, 36, 49, 64, 81, 100]\n"
     ]
    }
   ],
   "source": [
    "lst_sqr = [i**2 for i in range(11)]\n",
    "print(lst_sqr)"
   ]
  },
  {
   "cell_type": "code",
   "execution_count": 29,
   "id": "640d0e7d",
   "metadata": {},
   "outputs": [
    {
     "name": "stdout",
     "output_type": "stream",
     "text": [
      "[0, 2, 4, 6, 8, 10, 12, 14, 16, 18, 20]\n"
     ]
    }
   ],
   "source": [
    "even_lst = []\n",
    "[even_lst.append(i) for i in lst if i%2==0]\n",
    "print(even_lst)"
   ]
  },
  {
   "cell_type": "code",
   "execution_count": 30,
   "id": "d32e5f21",
   "metadata": {},
   "outputs": [
    {
     "name": "stdout",
     "output_type": "stream",
     "text": [
      "[2, 10, 1, 15, 2, 33, -2, -10, 15, 33]\n"
     ]
    }
   ],
   "source": [
    "rand_lst = [2,10, 1, 15 ,2, 33 ,-2, -10, 15, 33]\n",
    "print(rand_lst)"
   ]
  },
  {
   "cell_type": "code",
   "execution_count": 31,
   "id": "abff5159",
   "metadata": {},
   "outputs": [],
   "source": [
    "rand_lst.sort(reverse=True)"
   ]
  },
  {
   "cell_type": "code",
   "execution_count": 32,
   "id": "c33edd51",
   "metadata": {},
   "outputs": [
    {
     "name": "stdout",
     "output_type": "stream",
     "text": [
      "[33, 33, 15, 15, 10, 2, 2, 1, -2, -10]\n"
     ]
    }
   ],
   "source": [
    "print(rand_lst)"
   ]
  },
  {
   "cell_type": "code",
   "execution_count": 33,
   "id": "477c2847",
   "metadata": {},
   "outputs": [
    {
     "name": "stdout",
     "output_type": "stream",
     "text": [
      "[-10, -2, 1, 2, 2, 10, 15, 15, 33, 33]\n"
     ]
    }
   ],
   "source": [
    "rand_lst.sort()\n",
    "print(rand_lst)"
   ]
  },
  {
   "cell_type": "code",
   "execution_count": 34,
   "id": "86d1bed0",
   "metadata": {},
   "outputs": [
    {
     "name": "stdout",
     "output_type": "stream",
     "text": [
      "[-10, -2, 1, 2, 10, 15, 33]\n"
     ]
    }
   ],
   "source": [
    "for i in rand_lst:\n",
    "    count = rand_lst.count(i)\n",
    "    if count>1:\n",
    "        while count>1:\n",
    "            rand_lst.remove(i)\n",
    "            count = count - 1\n",
    "\n",
    "print(rand_lst)"
   ]
  },
  {
   "cell_type": "code",
   "execution_count": 36,
   "id": "d8bca21f",
   "metadata": {},
   "outputs": [
    {
     "name": "stdout",
     "output_type": "stream",
     "text": [
      "[[1, 2, 3], [4, 5, 6], [7, 8, 9]]\n",
      "6\n"
     ]
    }
   ],
   "source": [
    "matrix = [\n",
    "    [1,2,3],\n",
    "    [4,5,6],\n",
    "    [7,8,9]\n",
    "]\n",
    "\n",
    "print(matrix)\n",
    "print(matrix[1][2])"
   ]
  },
  {
   "cell_type": "code",
   "execution_count": 43,
   "id": "5b3a5e29",
   "metadata": {},
   "outputs": [
    {
     "name": "stdout",
     "output_type": "stream",
     "text": [
      "Sorted Studnets in descending order:\n",
      "{'name': 'Charlie', 'score': 95}\n",
      "{'name': 'Alice', 'score': 88}\n",
      "{'name': 'Eve', 'score': 78}\n",
      "{'name': 'Bob', 'score': 72}\n",
      "{'name': 'David', 'score': 65}\n"
     ]
    }
   ],
   "source": [
    "students = [\n",
    "    {'name': 'Alice', 'score': 88},\n",
    "    {'name': 'Bob', 'score': 72},\n",
    "    {'name': 'Charlie', 'score': 95},\n",
    "    {'name': 'David', 'score': 65},\n",
    "    {'name': 'Eve', 'score': 78}\n",
    "]\n",
    "\n",
    "sorted_students = sorted(students, key= lambda x: x['score'], reverse=True)\n",
    "print(\"Sorted Studnets in descending order:\")\n",
    "for student in sorted_students:\n",
    "    print(student)"
   ]
  },
  {
   "cell_type": "code",
   "execution_count": 16,
   "id": "eb876f1a",
   "metadata": {},
   "outputs": [
    {
     "name": "stdout",
     "output_type": "stream",
     "text": [
      "(0, 0) -> 1\n",
      "(0, 1) -> 2\n",
      "(0, 2) -> 3\n",
      "(1, 0) -> 4\n",
      "(1, 1) -> 5\n",
      "(1, 2) -> 6\n",
      "(2, 0) -> 7\n",
      "(2, 1) -> 8\n",
      "(2, 2) -> 9\n",
      "[1, 4, 7]\n",
      "[2, 5, 8]\n",
      "[3, 6, 9]\n"
     ]
    }
   ],
   "source": [
    "## transpose of matrix\n",
    "\n",
    "matrix2 = [\n",
    "    [1,2,3],\n",
    "    [4,5,6],\n",
    "    [7,8,9]\n",
    "]\n",
    "\n",
    "for row_No, ele1 in enumerate(matrix2):\n",
    "    for col_no, ele2 in enumerate(ele1):\n",
    "        print(f\"{row_No, col_no} -> {ele2}\")\n",
    "\n",
    "transposed_matrix = [\n",
    "    [0,0,0],\n",
    "    [0,0,0],\n",
    "    [0,0,0]\n",
    "]\n",
    "\n",
    "for row_No, ele1 in enumerate(matrix2):\n",
    "    for col_no, ele2 in enumerate(ele1):\n",
    "        ## print(f\"{row_No, col_no} -> {ele2}\")\n",
    "        transposed_matrix[col_no][row_No] = matrix2[row_No][col_no]\n",
    "\n",
    "for row in transposed_matrix:\n",
    "    print(row)"
   ]
  },
  {
   "cell_type": "code",
   "execution_count": 18,
   "id": "95fe4ae3",
   "metadata": {},
   "outputs": [
    {
     "name": "stdout",
     "output_type": "stream",
     "text": [
      "Original Matrix:\n",
      "[1, 2, 3]\n",
      "[4, 5, 6]\n",
      "[7, 8, 9]\n",
      "transposed_matrix:\n",
      "[1, 4, 7]\n",
      "[2, 5, 8]\n",
      "[3, 6, 9]\n"
     ]
    }
   ],
   "source": [
    "print(\"Original Matrix:\")\n",
    "for row in matrix2:\n",
    "    print(row)\n",
    "\n",
    "print(\"transposed_matrix:\")\n",
    "for row in transposed_matrix:\n",
    "    print(row)"
   ]
  },
  {
   "cell_type": "code",
   "execution_count": null,
   "id": "f0ea8aa8",
   "metadata": {},
   "outputs": [],
   "source": [
    "## problem1-10: flattening a list\n",
    "\n",
    "original_list = [\n",
    "    [1,2,3],\n",
    "    [4,5,6],\n",
    "    [7,8,9]\n",
    "]\n",
    "\n",
    "flat_list = []\n",
    "\n"
   ]
  },
  {
   "cell_type": "code",
   "execution_count": 21,
   "id": "07ef1146",
   "metadata": {},
   "outputs": [
    {
     "name": "stdout",
     "output_type": "stream",
     "text": [
      "orignal list: [0, 1, 2, 3, 4, 5, 6, 7, 8, 9, 10]\n",
      "Modified list: [0, 1, 3, 5, 7, 99, 8, 9, 10]\n"
     ]
    }
   ],
   "source": [
    "lst1 = []\n",
    "[lst1.append(i) for i in range(0,11)]\n",
    "\n",
    "print(f\"orignal list: {lst1}\")\n",
    "del lst1[6]\n",
    "del lst1[4]\n",
    "del lst1[2]\n",
    "\n",
    "lst1.insert(5, 99)\n",
    "print(f\"Modified list: {lst1}\")"
   ]
  },
  {
   "cell_type": "code",
   "execution_count": 35,
   "id": "bc06b074",
   "metadata": {},
   "outputs": [
    {
     "name": "stdout",
     "output_type": "stream",
     "text": [
      "[0, 1, 2, 3, 4, 5, 6, 7, 8, 9, 10, 11]\n",
      "[11, 12, 13, 14, 15, 16, 17, 18, 19, 20]\n",
      "((0, 11), (1, 12), (2, 13), (3, 14), (4, 15), (5, 16), (6, 17), (7, 18), (8, 19), (9, 20))\n"
     ]
    }
   ],
   "source": [
    "lst12 = list(range(0,12))\n",
    "lst12_1 = list(range(11,21))\n",
    "\n",
    "print(lst12)\n",
    "print(lst12_1)\n",
    "\n",
    "zipped_tupple = zip(lst12, lst12_1)\n",
    "print(tuple(zipped_tupple))\n"
   ]
  },
  {
   "cell_type": "code",
   "execution_count": 43,
   "id": "61fe03a1",
   "metadata": {},
   "outputs": [
    {
     "name": "stdout",
     "output_type": "stream",
     "text": [
      "[1, 2, 3, 4, 5, 6, 7, 8, 9, 10]\n",
      "[10, 9, 8, 7, 6, 5, 4, 3, 2, 1]\n"
     ]
    }
   ],
   "source": [
    "lst13 = list(range(1,11))\n",
    "print(lst13)\n",
    "\n",
    "length = len(lst13)\n",
    "\n",
    "i=0\n",
    "j=length-1\n",
    "\n",
    "while i<=j:\n",
    "\n",
    "    # print(f\"(i,j) -> ({i,j})\")\n",
    "\n",
    "    temp = lst13[i]\n",
    "    lst13[i] = lst13[j]\n",
    "    lst13[j] = temp\n",
    "    \n",
    "    i = i+1\n",
    "    j = j-1\n",
    "\n",
    "print(lst13)"
   ]
  },
  {
   "cell_type": "code",
   "execution_count": 59,
   "id": "f9ced18d",
   "metadata": {},
   "outputs": [
    {
     "name": "stdout",
     "output_type": "stream",
     "text": [
      "intermidiate reversed: [9, 8, 7, 6, 5, 4, 3, 2, 1, 10]\n",
      "original list: [1, 2, 3, 4, 5, 6, 7, 8, 9, 10]\n",
      "reversed list: [10, 1, 2, 3, 4, 5, 6, 7, 8, 9]\n"
     ]
    }
   ],
   "source": [
    "# assignment14: rotate the list\n",
    "\n",
    "#* input\n",
    "n = int(input(\"Enter rotation number: \"))\n",
    "lst14 = list(range(1, 11))\n",
    "\n",
    "#* normalization\n",
    "length = len(lst14)\n",
    "n = n % length\n",
    "\n",
    "#* rotaion\n",
    "part1 = lst14[length-n-1::-1]\n",
    "part2 = lst14[length:length-n-1:-1]\n",
    "\n",
    "#* reversing-parts\n",
    "# part1.reverse()\n",
    "# part2.reverse()\n",
    "\n",
    "part1.extend(part2)\n",
    "print(f\"intermidiate reversed: {part1}\")\n",
    "\n",
    "part1.reverse()\n",
    "print(f\"original list: {lst14}\")\n",
    "print(f\"reversed list: {part1}\")"
   ]
  },
  {
   "cell_type": "code",
   "execution_count": 61,
   "id": "3a53565f",
   "metadata": {},
   "outputs": [
    {
     "name": "stdout",
     "output_type": "stream",
     "text": [
      "list1: [1, 2, 3, 4, 5, 6, 7, 8, 9, 10]\n",
      "list2: [3, 4, 5, 6]\n",
      "intersection: [3, 4, 5, 6]\n"
     ]
    }
   ],
   "source": [
    "## assignment15: intersection of two list\n",
    "\n",
    "def list_intersection(lst15_a, lst15_b):\n",
    "    return [x for x in lst15_a if x in lst15_b]\n",
    "\n",
    "list1 = [1,2,3,4,5,6,7,8,9,10]\n",
    "list2 = [3,4,5,6]\n",
    "\n",
    "intersection = list_intersection(list1, list2)\n",
    "\n",
    "print(f\"list1: {list1}\")\n",
    "print(f\"list2: {list2}\")\n",
    "\n",
    "print(f\"intersection: {intersection}\")"
   ]
  },
  {
   "cell_type": "code",
   "execution_count": null,
   "id": "3e65abda",
   "metadata": {},
   "outputs": [],
   "source": []
  }
 ],
 "metadata": {
  "kernelspec": {
   "display_name": "Python 3",
   "language": "python",
   "name": "python3"
  },
  "language_info": {
   "codemirror_mode": {
    "name": "ipython",
    "version": 3
   },
   "file_extension": ".py",
   "mimetype": "text/x-python",
   "name": "python",
   "nbconvert_exporter": "python",
   "pygments_lexer": "ipython3",
   "version": "3.10.18"
  }
 },
 "nbformat": 4,
 "nbformat_minor": 5
}

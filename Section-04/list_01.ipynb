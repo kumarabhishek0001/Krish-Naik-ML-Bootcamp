{
 "cells": [
  {
   "cell_type": "markdown",
   "id": "ee515dea",
   "metadata": {},
   "source": [
    "## List\n",
    "\n",
    "- ordered mutable collection of item\n",
    "- they can contain items of different datatypes"
   ]
  },
  {
   "cell_type": "code",
   "execution_count": 1,
   "id": "cfe0ba99",
   "metadata": {},
   "outputs": [
    {
     "name": "stdout",
     "output_type": "stream",
     "text": [
      "<class 'list'>\n"
     ]
    }
   ],
   "source": [
    "lst = []\n",
    "print(type(lst))"
   ]
  },
  {
   "cell_type": "code",
   "execution_count": 1,
   "id": "d2170e6b",
   "metadata": {},
   "outputs": [
    {
     "name": "stdout",
     "output_type": "stream",
     "text": [
      "['abhishek', 'divyansh', 1, 2, 3, 4]\n"
     ]
    }
   ],
   "source": [
    "names = ['abhishek', 'divyansh', 1,2,3,4]\n",
    "print(names)"
   ]
  },
  {
   "cell_type": "code",
   "execution_count": 2,
   "id": "bbb82b9f",
   "metadata": {},
   "outputs": [
    {
     "name": "stdout",
     "output_type": "stream",
     "text": [
      "[1, 2, 3, True, 3.14, 'abhishek']\n"
     ]
    }
   ],
   "source": [
    "mixed_list = [1,2,3,True,3.14,\"abhishek\"]\n",
    "print(mixed_list)"
   ]
  },
  {
   "cell_type": "code",
   "execution_count": 3,
   "id": "3c440533",
   "metadata": {},
   "outputs": [
    {
     "data": {
      "text/plain": [
       "'apple'"
      ]
     },
     "execution_count": 3,
     "metadata": {},
     "output_type": "execute_result"
    }
   ],
   "source": [
    "## Accessing elements in list\n",
    "\n",
    "fruits = [\"apple\", \"Banana\", \"cherry\", \"Kiwi\", \"Guava\"]\n",
    "fruits[0]"
   ]
  },
  {
   "cell_type": "code",
   "execution_count": 5,
   "id": "358b0449",
   "metadata": {},
   "outputs": [
    {
     "name": "stdout",
     "output_type": "stream",
     "text": [
      "cherry\n"
     ]
    }
   ],
   "source": [
    "print(fruits[2])"
   ]
  },
  {
   "cell_type": "code",
   "execution_count": 7,
   "id": "521a2eec",
   "metadata": {},
   "outputs": [
    {
     "name": "stdout",
     "output_type": "stream",
     "text": [
      "Guava Banana cherry\n",
      "Kiwi\n"
     ]
    }
   ],
   "source": [
    "## negative indexing\n",
    "print(fruits[-1], fruits[1], fruits[2])\n",
    "print(fruits[-2])"
   ]
  },
  {
   "cell_type": "code",
   "execution_count": null,
   "id": "b66cf18c",
   "metadata": {},
   "outputs": [
    {
     "name": "stdout",
     "output_type": "stream",
     "text": [
      "['Banana', 'cherry', 'Kiwi', 'Guava']\n",
      "['Banana', 'cherry']\n",
      "['cherry', 'Kiwi']\n"
     ]
    }
   ],
   "source": [
    "## Indexing in range\n",
    "\n",
    "print(fruits[1:])\n",
    "print(fruits[1:3])"
   ]
  },
  {
   "cell_type": "code",
   "execution_count": null,
   "id": "fff89ed7",
   "metadata": {},
   "outputs": [],
   "source": [
    "## Confusions in negative indexing'\n",
    "\n",
    "print(fruits[-3: -1]) ## this works\n",
    "print(fruits[-1:-3]) ## this does not work"
   ]
  },
  {
   "cell_type": "code",
   "execution_count": 10,
   "id": "39cb4710",
   "metadata": {},
   "outputs": [
    {
     "name": "stdout",
     "output_type": "stream",
     "text": [
      "['apple', 'Watermelon', 'cherry', 'Kiwi', 'Guava']\n"
     ]
    }
   ],
   "source": [
    "# modifying list elements\n",
    "\n",
    "fruits[1] = \"Watermelon\"\n",
    "print(fruits)"
   ]
  },
  {
   "cell_type": "code",
   "execution_count": 11,
   "id": "17c0461d",
   "metadata": {},
   "outputs": [
    {
     "name": "stdout",
     "output_type": "stream",
     "text": [
      "['apple', 'w', 'a', 't', 'e', 'r', 'm', 'e', 'l', 'o', 'n']\n"
     ]
    }
   ],
   "source": [
    "## How indexing does not work\n",
    "fruits[1:] = \"watermelon\" ## expectation is that every element from 1 will be watermelon\n",
    "print(fruits)"
   ]
  },
  {
   "cell_type": "code",
   "execution_count": 12,
   "id": "f820119b",
   "metadata": {},
   "outputs": [],
   "source": [
    "fruits = [\"apple\", \"Banana\", \"cherry\", \"Kiwi\", \"Guava\"]"
   ]
  },
  {
   "cell_type": "markdown",
   "id": "fafc0fb8",
   "metadata": {},
   "source": [
    "### List Methods"
   ]
  },
  {
   "cell_type": "code",
   "execution_count": 13,
   "id": "c1a41428",
   "metadata": {},
   "outputs": [
    {
     "name": "stdout",
     "output_type": "stream",
     "text": [
      "['apple', 'Banana', 'cherry', 'Kiwi', 'Guava', 'Orange']\n"
     ]
    }
   ],
   "source": [
    "## Append at last\n",
    "fruits.append('Orange')\n",
    "print(fruits)\n"
   ]
  },
  {
   "cell_type": "code",
   "execution_count": null,
   "id": "61ef345b",
   "metadata": {},
   "outputs": [],
   "source": [
    "## Append at any index\n",
    "fruits.insert(1, \"Banana\")\n",
    "fruits.insert(1, \"Watermelon\")\n"
   ]
  },
  {
   "cell_type": "code",
   "execution_count": 15,
   "id": "a203a198",
   "metadata": {},
   "outputs": [
    {
     "name": "stdout",
     "output_type": "stream",
     "text": [
      "['apple', 'Watermelon', 'Banana', 'Banana', 'cherry', 'Kiwi', 'Guava', 'Orange']\n"
     ]
    }
   ],
   "source": [
    "print(fruits)"
   ]
  },
  {
   "cell_type": "code",
   "execution_count": null,
   "id": "8f1f9425",
   "metadata": {},
   "outputs": [],
   "source": [
    "## removing element with name\n",
    "fruits.remove(\"Banana\") ## remove first element of occurence"
   ]
  },
  {
   "cell_type": "code",
   "execution_count": 18,
   "id": "365b2bed",
   "metadata": {},
   "outputs": [
    {
     "data": {
      "text/plain": [
       "['apple', 'Watermelon', 'Banana', 'cherry', 'Kiwi', 'Guava', 'Orange']"
      ]
     },
     "execution_count": 18,
     "metadata": {},
     "output_type": "execute_result"
    }
   ],
   "source": [
    "fruits"
   ]
  },
  {
   "cell_type": "code",
   "execution_count": 19,
   "id": "a41794a2",
   "metadata": {},
   "outputs": [
    {
     "name": "stdout",
     "output_type": "stream",
     "text": [
      "Orange\n",
      "['apple', 'Watermelon', 'Banana', 'cherry', 'Kiwi', 'Guava']\n"
     ]
    }
   ],
   "source": [
    "## Remove and return last \n",
    "popped_fruits = fruits.pop()\n",
    "print(popped_fruits)\n",
    "print(fruits)"
   ]
  },
  {
   "cell_type": "code",
   "execution_count": 20,
   "id": "f9f8a0d8",
   "metadata": {},
   "outputs": [
    {
     "name": "stdout",
     "output_type": "stream",
     "text": [
      "3\n"
     ]
    }
   ],
   "source": [
    "## get index\n",
    "index = fruits.index(\"cherry\")\n",
    "print(index)\n"
   ]
  },
  {
   "cell_type": "code",
   "execution_count": 21,
   "id": "cb739712",
   "metadata": {},
   "outputs": [
    {
     "name": "stdout",
     "output_type": "stream",
     "text": [
      "2\n",
      "['apple', 'Watermelon', 'Banana', 'Banana', 'cherry', 'Kiwi', 'Guava']\n"
     ]
    }
   ],
   "source": [
    "## Counting occurence of element\n",
    "fruits.insert(2, \"Banana\")\n",
    "banana_count = fruits.count(\"Banana\")\n",
    "print(banana_count)\n",
    "print(fruits)\n"
   ]
  },
  {
   "cell_type": "code",
   "execution_count": 22,
   "id": "760ab7a8",
   "metadata": {},
   "outputs": [
    {
     "name": "stdout",
     "output_type": "stream",
     "text": [
      "['Banana', 'Banana', 'Guava', 'Kiwi', 'Watermelon', 'apple', 'cherry']\n"
     ]
    }
   ],
   "source": [
    "fruits.sort() ## sort the list in ascending order\n",
    "print(fruits)"
   ]
  },
  {
   "cell_type": "code",
   "execution_count": 23,
   "id": "7a6fef55",
   "metadata": {},
   "outputs": [
    {
     "data": {
      "text/plain": [
       "['cherry', 'apple', 'Watermelon', 'Kiwi', 'Guava', 'Banana', 'Banana']"
      ]
     },
     "execution_count": 23,
     "metadata": {},
     "output_type": "execute_result"
    }
   ],
   "source": [
    "fruits.reverse()\n",
    "fruits"
   ]
  },
  {
   "cell_type": "code",
   "execution_count": 24,
   "id": "b476fba2",
   "metadata": {},
   "outputs": [
    {
     "name": "stdout",
     "output_type": "stream",
     "text": [
      "[]\n"
     ]
    }
   ],
   "source": [
    "fruits.clear()\n",
    "print(fruits)"
   ]
  },
  {
   "cell_type": "markdown",
   "id": "71058656",
   "metadata": {},
   "source": [
    "### Slicing List"
   ]
  },
  {
   "cell_type": "code",
   "execution_count": 26,
   "id": "c6b06f02",
   "metadata": {},
   "outputs": [
    {
     "name": "stdout",
     "output_type": "stream",
     "text": [
      "[2, 3, 4]\n",
      "[0, 1, 2, 3, 4]\n",
      "[5, 6, 7, 8, 9, 10]\n",
      "[0, 2, 4, 6, 8, 10]\n",
      "[10, 9, 8, 7, 6, 5, 4, 3, 2, 1, 0]\n"
     ]
    }
   ],
   "source": [
    "## Slicing list\n",
    "\n",
    "numbers = [0,1,2,3,4,5,6,7,8,9,10]\n",
    "\n",
    "print(numbers[2:5])\n",
    "print(numbers[:5])\n",
    "print(numbers[5:])\n",
    "print(numbers[::2])\n",
    "print(numbers[::-1])"
   ]
  },
  {
   "cell_type": "code",
   "execution_count": 27,
   "id": "3c4b7b18",
   "metadata": {},
   "outputs": [
    {
     "name": "stdout",
     "output_type": "stream",
     "text": [
      "[10, 8, 6, 4, 2, 0]\n"
     ]
    }
   ],
   "source": [
    "print(numbers[::-2])"
   ]
  },
  {
   "cell_type": "code",
   "execution_count": 28,
   "id": "58822b13",
   "metadata": {},
   "outputs": [
    {
     "name": "stdout",
     "output_type": "stream",
     "text": [
      "0\n",
      "1\n",
      "2\n",
      "3\n",
      "4\n",
      "5\n",
      "6\n",
      "7\n",
      "8\n",
      "9\n",
      "10\n"
     ]
    }
   ],
   "source": [
    "## Iterating over List\n",
    "for number in numbers:\n",
    "    print(number)"
   ]
  },
  {
   "cell_type": "code",
   "execution_count": 30,
   "id": "9a17640e",
   "metadata": {},
   "outputs": [
    {
     "name": "stdout",
     "output_type": "stream",
     "text": [
      "0 -> 0\n",
      "1 -> 1\n",
      "2 -> 2\n",
      "3 -> 3\n",
      "4 -> 4\n",
      "5 -> 5\n",
      "6 -> 6\n",
      "7 -> 7\n",
      "8 -> 8\n",
      "9 -> 9\n",
      "10 -> 10\n"
     ]
    }
   ],
   "source": [
    "## iterating over list with index\n",
    "for index, number in enumerate(numbers):\n",
    "    print(f\"{index} -> {number}\")"
   ]
  },
  {
   "cell_type": "code",
   "execution_count": 32,
   "id": "da7c23e3",
   "metadata": {},
   "outputs": [
    {
     "name": "stdout",
     "output_type": "stream",
     "text": [
      "[0, 1, 4, 9, 16, 25, 36, 49, 64, 81, 100]\n"
     ]
    }
   ],
   "source": [
    "## List comprehension\n",
    "\n",
    "lst = []\n",
    "for x in range(11):\n",
    "    lst.append(x**2)\n",
    "\n",
    "print(lst)"
   ]
  },
  {
   "cell_type": "markdown",
   "id": "72516cdf",
   "metadata": {},
   "source": [
    "### List Comprehension"
   ]
  },
  {
   "cell_type": "code",
   "execution_count": 33,
   "id": "bc3751d1",
   "metadata": {},
   "outputs": [
    {
     "data": {
      "text/plain": [
       "[0, 1, 4, 9, 16, 25, 36, 49, 64, 81, 100]"
      ]
     },
     "execution_count": 33,
     "metadata": {},
     "output_type": "execute_result"
    }
   ],
   "source": [
    "## to perform same we have list comprehension\n",
    "[x**2 for x in range(11)]"
   ]
  },
  {
   "cell_type": "markdown",
   "id": "4e0be127",
   "metadata": {},
   "source": [
    "- syntax -> [expression for item in iterable]\n",
    "\n",
    "- with conditional logic -> [expression for item in iterable if condition]\n",
    "\n",
    "- nested list comprehension -> [expression for item1 in interable1 for item1 in interable1]\n"
   ]
  },
  {
   "cell_type": "code",
   "execution_count": null,
   "id": "9bee8252",
   "metadata": {},
   "outputs": [
    {
     "name": "stdout",
     "output_type": "stream",
     "text": [
      "[0, 4, 16, 36, 64, 100]\n"
     ]
    }
   ],
   "source": [
    "## List comprehension with condition\n",
    "\n",
    "even_square = [num**2 for num in range(11) if num%2==0]\n",
    "print(even_square)"
   ]
  },
  {
   "cell_type": "code",
   "execution_count": 35,
   "id": "c267ef3a",
   "metadata": {},
   "outputs": [
    {
     "name": "stdout",
     "output_type": "stream",
     "text": [
      "[(1, 'a'), (1, 'b'), (1, 'c'), (1, 'd'), (2, 'a'), (2, 'b'), (2, 'c'), (2, 'd'), (3, 'a'), (3, 'b'), (3, 'c'), (3, 'd'), (4, 'a'), (4, 'b'), (4, 'c'), (4, 'd')]\n"
     ]
    }
   ],
   "source": [
    "## nested list comprehension\n",
    "\n",
    "lst1 = [1,2,3,4]\n",
    "lst2 = ['a', 'b', 'c', 'd']\n",
    "\n",
    "pair = [(i,j) for i in lst1 for j in lst2]\n",
    "print(pair)"
   ]
  },
  {
   "cell_type": "code",
   "execution_count": 36,
   "id": "f66feffa",
   "metadata": {},
   "outputs": [
    {
     "name": "stdout",
     "output_type": "stream",
     "text": [
      "[5, 5, 6, 4, 13]\n"
     ]
    }
   ],
   "source": [
    "## List Comprehension with function call \n",
    "\n",
    "words = [\"hello\", \"world\", \"python\", \"List\", \"comprehension\"]\n",
    "length  = [len(word) for word in words]\n",
    "\n",
    "print(length)"
   ]
  },
  {
   "cell_type": "code",
   "execution_count": null,
   "id": "65b91ec8",
   "metadata": {},
   "outputs": [],
   "source": []
  }
 ],
 "metadata": {
  "kernelspec": {
   "display_name": "Python 3",
   "language": "python",
   "name": "python3"
  },
  "language_info": {
   "codemirror_mode": {
    "name": "ipython",
    "version": 3
   },
   "file_extension": ".py",
   "mimetype": "text/x-python",
   "name": "python",
   "nbconvert_exporter": "python",
   "pygments_lexer": "ipython3",
   "version": "3.10.18"
  }
 },
 "nbformat": 4,
 "nbformat_minor": 5
}

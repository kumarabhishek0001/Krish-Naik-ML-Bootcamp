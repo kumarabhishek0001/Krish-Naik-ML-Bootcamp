{
 "cells": [
  {
   "cell_type": "markdown",
   "id": "5f635b99",
   "metadata": {},
   "source": [
    "## Lists"
   ]
  },
  {
   "cell_type": "code",
   "execution_count": 15,
   "id": "16e52e2b",
   "metadata": {},
   "outputs": [
    {
     "name": "stdout",
     "output_type": "stream",
     "text": [
      "{'name': 'Charlie', 'score': 95}\n",
      "{'name': 'Alice', 'score': 88}\n",
      "{'name': 'Eve', 'score': 78}\n",
      "{'name': 'Bob', 'score': 72}\n",
      "{'name': 'David', 'score': 65}\n"
     ]
    }
   ],
   "source": [
    "## iterating inside any iterable -> sorted\n",
    "students = [\n",
    "    {'name': 'Alice', 'score': 88},\n",
    "    {'name': 'Bob', 'score': 72},\n",
    "    {'name': 'Charlie', 'score': 95},\n",
    "    {'name': 'David', 'score': 65},\n",
    "    {'name': 'Eve', 'score': 78}\n",
    "]\n",
    "\n",
    "sorted_students = sorted(students, key= lambda x: x['score'], reverse=True)\n",
    "\n",
    "for student in sorted_students:\n",
    "    print(student)"
   ]
  },
  {
   "cell_type": "code",
   "execution_count": null,
   "id": "504ea80a",
   "metadata": {},
   "outputs": [],
   "source": []
  },
  {
   "cell_type": "markdown",
   "id": "e53f0d66",
   "metadata": {},
   "source": [
    "## Tuples"
   ]
  },
  {
   "cell_type": "markdown",
   "id": "f31b7a9f",
   "metadata": {},
   "source": [
    "**Multiplication in tuples**"
   ]
  },
  {
   "cell_type": "code",
   "execution_count": 16,
   "id": "97716f76",
   "metadata": {},
   "outputs": [
    {
     "data": {
      "text/plain": [
       "(1, 2, 3, 1, 2, 3, 1, 2, 3)"
      ]
     },
     "execution_count": 16,
     "metadata": {},
     "output_type": "execute_result"
    }
   ],
   "source": [
    "# multiplication in tuples -> append the number of times it is multiplied\n",
    "\n",
    "num = (1,2,3)\n",
    "num*3"
   ]
  },
  {
   "cell_type": "markdown",
   "id": "de1315f0",
   "metadata": {},
   "source": [
    "**packing and unpacking of tuples**"
   ]
  },
  {
   "cell_type": "code",
   "execution_count": 17,
   "id": "e37906cf",
   "metadata": {},
   "outputs": [
    {
     "name": "stdout",
     "output_type": "stream",
     "text": [
      "(1, 2, 3, 4)\n",
      "1\n",
      "2\n",
      "3\n",
      "4\n"
     ]
    }
   ],
   "source": [
    "## packing of tuples\n",
    "nums = 1,2,3,4\n",
    "print(nums)\n",
    "\n",
    "## unpacking of tuples\n",
    "a,b,c,d = nums\n",
    "print(a)\n",
    "print(b)\n",
    "print(c)\n",
    "print(d)"
   ]
  },
  {
   "cell_type": "markdown",
   "id": "c7b3ac06",
   "metadata": {},
   "source": [
    "**Unpacking of elements using star(*)**"
   ]
  },
  {
   "cell_type": "code",
   "execution_count": 18,
   "id": "18f259d9",
   "metadata": {},
   "outputs": [
    {
     "name": "stdout",
     "output_type": "stream",
     "text": [
      "1\n",
      "[2, 3]\n",
      "4\n"
     ]
    }
   ],
   "source": [
    "# unpakcing using star(*)\n",
    "first, *middle, last = nums\n",
    "\n",
    "print(first)\n",
    "print(middle)\n",
    "print(last)"
   ]
  },
  {
   "cell_type": "code",
   "execution_count": 19,
   "id": "347a07f8",
   "metadata": {},
   "outputs": [
    {
     "name": "stdout",
     "output_type": "stream",
     "text": [
      "[2, 3]\n",
      "4\n"
     ]
    }
   ],
   "source": [
    "*first_section, last = nums\n",
    "print(middle)\n",
    "print(last)"
   ]
  },
  {
   "cell_type": "code",
   "execution_count": 20,
   "id": "be5bd976",
   "metadata": {},
   "outputs": [
    {
     "name": "stdout",
     "output_type": "stream",
     "text": [
      "1\n",
      "[2, 3]\n",
      "4\n"
     ]
    }
   ],
   "source": [
    "first, *middle, last = nums\n",
    "print(first)\n",
    "print(middle)\n",
    "print(last)"
   ]
  },
  {
   "cell_type": "code",
   "execution_count": 21,
   "id": "3a3af6cd",
   "metadata": {},
   "outputs": [
    {
     "name": "stdout",
     "output_type": "stream",
     "text": [
      "1\n",
      "[2, 3, 4]\n"
     ]
    }
   ],
   "source": [
    "first, *middle = nums\n",
    "print(first)\n",
    "print(middle)"
   ]
  },
  {
   "cell_type": "markdown",
   "id": "8a5d5764",
   "metadata": {},
   "source": [
    "## Sets\n",
    "\n",
    "- for any element to be a part of set it must be **hashable** and **immutable**"
   ]
  },
  {
   "cell_type": "markdown",
   "id": "72c0ae93",
   "metadata": {},
   "source": [
    "----"
   ]
  },
  {
   "cell_type": "markdown",
   "id": "0eaed823",
   "metadata": {},
   "source": [
    "**Immutable Data types**: The value cannot change once created.\n",
    "examples: int, string, float, boolean, ***tuple***, ***forzenset***\n",
    "\n",
    "**Hashable:** can be used as dictionary key or set element\n",
    "**requirements for hashable:** must be immuatable and have fixed hash values.\n",
    "**Example:** int, string, bool, **tuple**, etc\n",
    "\n",
    "**IN PYTHON ALL IMUATBLE TYPES ARE HASHABLE BUT SOME CONTAINERS LIKE TUPLE ARE HASHABLE ONLY IF ALL THERE CONTENTS ARE HASHABLE**"
   ]
  },
  {
   "cell_type": "markdown",
   "id": "cbeb3648",
   "metadata": {},
   "source": [
    "----"
   ]
  },
  {
   "cell_type": "markdown",
   "id": "9fc68eb8",
   "metadata": {},
   "source": [
    "#### Which data types are require immutable and hashable data types\n",
    "\n",
    "1. Keys of dictionary\n",
    "2. Elements of set"
   ]
  },
  {
   "cell_type": "markdown",
   "id": "9dc4489b",
   "metadata": {},
   "source": [
    "----"
   ]
  },
  {
   "cell_type": "code",
   "execution_count": null,
   "id": "e551ec3b",
   "metadata": {},
   "outputs": [],
   "source": [
    "# discard - removes element if present in set else do nothing\n",
    "\n",
    "my_set = {1,2,3,4,5}\n",
    "my_set .discard(11)\n",
    "print(my_set)"
   ]
  },
  {
   "cell_type": "code",
   "execution_count": null,
   "id": "38ee10ac",
   "metadata": {},
   "outputs": [],
   "source": [
    "# pop - first in first out \n",
    "\n",
    "removed_element = my_set.pop()\n",
    "print(removed_element)\n",
    "print(my_set)"
   ]
  },
  {
   "cell_type": "code",
   "execution_count": null,
   "id": "fc50954a",
   "metadata": {},
   "outputs": [],
   "source": [
    "## intersection update -> updates the set with intersection of itself and another\n",
    "\n",
    "set1 = {1,2,3,4,5,6}\n",
    "set2 = {4,5,6,7}\n",
    "\n",
    "set1.intersection_update(set2)\n",
    "print(set1)"
   ]
  },
  {
   "cell_type": "code",
   "execution_count": null,
   "id": "d63c6fb7",
   "metadata": {},
   "outputs": [],
   "source": [
    "# difference removes the intersection from a given set and gives unique element to that set\n",
    "\n",
    "set1 = {1,2,3,4,5,6}\n",
    "set2 = {4,5,6,7,8,9}\n",
    "\n",
    "# difference\n",
    "print(set1.difference(set2))\n",
    "\n",
    "# set-difference-update\n",
    "set1.difference_update(set2)\n",
    "print(set1)"
   ]
  },
  {
   "cell_type": "code",
   "execution_count": 3,
   "id": "ef42ad63",
   "metadata": {},
   "outputs": [
    {
     "name": "stdout",
     "output_type": "stream",
     "text": [
      "{1, 2, 3, 7, 8, 9}\n",
      "{1, 2, 3, 7, 8, 9}\n"
     ]
    }
   ],
   "source": [
    "## symmetric-differce -> gives the unique elements from both the sets\n",
    "\n",
    "set1 = {1,2,3,4,5,6}\n",
    "set2 = {4,5,6,7,8,9}\n",
    "\n",
    "sym_difference = set1.symmetric_difference(set2)\n",
    "print(sym_difference)\n",
    "\n",
    "set1.symmetric_difference_update(set2)\n",
    "print(set1)"
   ]
  },
  {
   "cell_type": "markdown",
   "id": "258566df",
   "metadata": {},
   "source": [
    "**Forzenset**"
   ]
  },
  {
   "cell_type": "code",
   "execution_count": null,
   "id": "73526611",
   "metadata": {},
   "outputs": [],
   "source": [
    "# Assignment-8:\n",
    "fs = frozenset(range(1, 6))\n",
    "print(fs)"
   ]
  },
  {
   "cell_type": "markdown",
   "id": "f1315772",
   "metadata": {},
   "source": [
    "**Since a set is mutable and cannot be hashed it cannot be part of Dict,set**"
   ]
  },
  {
   "cell_type": "code",
   "execution_count": 1,
   "id": "1a771878",
   "metadata": {},
   "outputs": [
    {
     "name": "stdout",
     "output_type": "stream",
     "text": [
      "{frozenset({1, 2}): 1, frozenset({3, 4}): 2, frozenset({5, 6}): 3}\n"
     ]
    }
   ],
   "source": [
    "# since frozen set is immutable and hashable\n",
    "\n",
    "dict = {\n",
    "    frozenset({1,2}) : 1,\n",
    "    frozenset({3,4}) : 2,\n",
    "    frozenset({5,6}) : 3\n",
    "}\n",
    "\n",
    "print(dict)"
   ]
  },
  {
   "cell_type": "markdown",
   "id": "8ab6a46e",
   "metadata": {},
   "source": [
    "**Removing elements from set**"
   ]
  },
  {
   "cell_type": "code",
   "execution_count": null,
   "id": "02155d57",
   "metadata": {},
   "outputs": [],
   "source": [
    "# Assignment-12\n",
    "set12 = set(range(1,11))\n",
    "\n",
    "while set12:\n",
    "    set12.pop()\n",
    "    print(set12)\n"
   ]
  },
  {
   "cell_type": "markdown",
   "id": "0aab96bc",
   "metadata": {},
   "source": [
    "## Dictionary"
   ]
  },
  {
   "cell_type": "code",
   "execution_count": null,
   "id": "ee06c2b5",
   "metadata": {},
   "outputs": [],
   "source": [
    "# default value if key is not in the dictionary\n",
    "\n",
    "print(student.get('last_name', \"INVALID KEY\"))"
   ]
  },
  {
   "cell_type": "code",
   "execution_count": null,
   "id": "3349b475",
   "metadata": {},
   "outputs": [],
   "source": [
    "# Deleting the key-value pair\n",
    "del student['grade']"
   ]
  }
 ],
 "metadata": {
  "kernelspec": {
   "display_name": "Python 3",
   "language": "python",
   "name": "python3"
  },
  "language_info": {
   "codemirror_mode": {
    "name": "ipython",
    "version": 3
   },
   "file_extension": ".py",
   "mimetype": "text/x-python",
   "name": "python",
   "nbconvert_exporter": "python",
   "pygments_lexer": "ipython3",
   "version": "3.10.18"
  }
 },
 "nbformat": 4,
 "nbformat_minor": 5
}

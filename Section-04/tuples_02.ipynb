{
 "cells": [
  {
   "cell_type": "markdown",
   "id": "25ef82c1",
   "metadata": {},
   "source": [
    "## Tuples\n",
    "\n",
    "- ordered collection of items that are immutable. Similar to list but immutablity makes them different"
   ]
  },
  {
   "cell_type": "code",
   "execution_count": 1,
   "id": "bfecd736",
   "metadata": {},
   "outputs": [
    {
     "name": "stdout",
     "output_type": "stream",
     "text": [
      "()\n",
      "<class 'tuple'>\n"
     ]
    }
   ],
   "source": [
    "##\n",
    "empty_tuple = ()\n",
    "print(empty_tuple)\n",
    "print(type(empty_tuple))"
   ]
  },
  {
   "cell_type": "code",
   "execution_count": 2,
   "id": "51ce935b",
   "metadata": {},
   "outputs": [
    {
     "name": "stdout",
     "output_type": "stream",
     "text": [
      "<class 'tuple'>\n"
     ]
    }
   ],
   "source": [
    "## using class\n",
    "tple = tuple()\n",
    "print(type(tple))"
   ]
  },
  {
   "cell_type": "code",
   "execution_count": null,
   "id": "a8b46577",
   "metadata": {},
   "outputs": [
    {
     "name": "stdout",
     "output_type": "stream",
     "text": [
      "(1, 2, 3, 4, 5, 6)\n",
      "<class 'tuple'>\n"
     ]
    }
   ],
   "source": [
    "## putting items in tuples\n",
    "\n",
    "num = tuple([1,2,3,4,5,6]) ## convering list into tuple\n",
    "print(num)\n",
    "print(type(num))\n"
   ]
  },
  {
   "cell_type": "code",
   "execution_count": 4,
   "id": "6cd2eef5",
   "metadata": {},
   "outputs": [
    {
     "name": "stdout",
     "output_type": "stream",
     "text": [
      "(1, 2, 3, 4, 5)\n",
      "<class 'tuple'>\n",
      "[1, 2, 3, 4, 5]\n",
      "<class 'list'>\n"
     ]
    }
   ],
   "source": [
    "## converting tuple to list\n",
    "tuple_nums = (1,2,3,4,5)\n",
    "print(tuple_nums)\n",
    "print(type(tuple_nums))\n",
    "\n",
    "list_tuple_nums = list(tuple_nums)\n",
    "print(list_tuple_nums)\n",
    "print(type(list_tuple_nums))"
   ]
  },
  {
   "cell_type": "code",
   "execution_count": null,
   "id": "97204b16",
   "metadata": {},
   "outputs": [],
   "source": [
    "mixed_tuple = (1,2,3,'abhishek',5.5, True)"
   ]
  },
  {
   "cell_type": "code",
   "execution_count": 7,
   "id": "d7f10e4c",
   "metadata": {},
   "outputs": [
    {
     "name": "stdout",
     "output_type": "stream",
     "text": [
      "1\n",
      "6\n"
     ]
    }
   ],
   "source": [
    "## accessing tuple elements\n",
    "\n",
    "num = tuple([1,2,3,4,5,6])\n",
    "\n",
    "print(num[0])\n",
    "print(num[-1])"
   ]
  },
  {
   "cell_type": "code",
   "execution_count": 8,
   "id": "29df0fb1",
   "metadata": {},
   "outputs": [
    {
     "data": {
      "text/plain": [
       "(6, 5, 4, 3, 2, 1)"
      ]
     },
     "execution_count": 8,
     "metadata": {},
     "output_type": "execute_result"
    }
   ],
   "source": [
    "## slicing\n",
    "\n",
    "num[::-1]"
   ]
  },
  {
   "cell_type": "code",
   "execution_count": 9,
   "id": "2c9a2f69",
   "metadata": {},
   "outputs": [
    {
     "name": "stdout",
     "output_type": "stream",
     "text": [
      "(1, 2, 3, 4, 5, 6, 1, 2, 3, 'abhishek', 5.5, True)\n"
     ]
    }
   ],
   "source": [
    "## tuple operations\n",
    "num = tuple([1,2,3,4,5,6])\n",
    "\n",
    "mixed_tuple = (1,2,3,'abhishek',5.5, True)\n",
    "\n",
    "concat_tuple = num + mixed_tuple\n",
    "print(concat_tuple)"
   ]
  },
  {
   "cell_type": "code",
   "execution_count": 10,
   "id": "165277aa",
   "metadata": {},
   "outputs": [
    {
     "data": {
      "text/plain": [
       "(1,\n",
       " 2,\n",
       " 3,\n",
       " 'abhishek',\n",
       " 5.5,\n",
       " True,\n",
       " 1,\n",
       " 2,\n",
       " 3,\n",
       " 'abhishek',\n",
       " 5.5,\n",
       " True,\n",
       " 1,\n",
       " 2,\n",
       " 3,\n",
       " 'abhishek',\n",
       " 5.5,\n",
       " True)"
      ]
     },
     "execution_count": 10,
     "metadata": {},
     "output_type": "execute_result"
    }
   ],
   "source": [
    "mixed_tuple * 3"
   ]
  },
  {
   "cell_type": "markdown",
   "id": "6ed3681b",
   "metadata": {},
   "source": [
    "### immutable nature of tuples"
   ]
  },
  {
   "cell_type": "code",
   "execution_count": null,
   "id": "f05c5301",
   "metadata": {},
   "outputs": [
    {
     "ename": "TypeError",
     "evalue": "'tuple' object does not support item assignment",
     "output_type": "error",
     "traceback": [
      "\u001b[1;31m---------------------------------------------------------------------------\u001b[0m",
      "\u001b[1;31mTypeError\u001b[0m                                 Traceback (most recent call last)",
      "Cell \u001b[1;32mIn[13], line 4\u001b[0m\n\u001b[0;32m      1\u001b[0m \u001b[38;5;66;03m# tuples are immutable, meaning any element inside the tuple cannot be changed once assigned\u001b[39;00m\n\u001b[0;32m      2\u001b[0m num\n\u001b[1;32m----> 4\u001b[0m \u001b[43mnum\u001b[49m\u001b[43m[\u001b[49m\u001b[38;5;241;43m0\u001b[39;49m\u001b[43m]\u001b[49m \u001b[38;5;241m=\u001b[39m \u001b[38;5;241m11\u001b[39m\n\u001b[0;32m      6\u001b[0m \u001b[38;5;66;03m#- to change convert to list\u001b[39;00m\n",
      "\u001b[1;31mTypeError\u001b[0m: 'tuple' object does not support item assignment"
     ]
    }
   ],
   "source": [
    "# tuples are immutable, meaning any element inside the tuple cannot be changed once assigned\n",
    "num\n",
    "\n",
    "num[0] = 11\n",
    "\n",
    "#- to change convert to list\n",
    "#- change the element\n",
    "#- convert back to tuple"
   ]
  },
  {
   "cell_type": "code",
   "execution_count": 15,
   "id": "9bb39653",
   "metadata": {},
   "outputs": [
    {
     "name": "stdout",
     "output_type": "stream",
     "text": [
      "2\n",
      "3\n"
     ]
    }
   ],
   "source": [
    "# tuple methods\n",
    "num = tuple([1,1,2,3,4,5,6])\n",
    "\n",
    "count1 = num.count(1)\n",
    "index3 = num.index(3)\n",
    "\n",
    "print(count1)\n",
    "print(index3)"
   ]
  },
  {
   "cell_type": "code",
   "execution_count": 16,
   "id": "eebeade0",
   "metadata": {},
   "outputs": [
    {
     "name": "stdout",
     "output_type": "stream",
     "text": [
      "(1, 2, 3, 3.14, 2.016)\n",
      "<class 'tuple'>\n"
     ]
    }
   ],
   "source": [
    "# Packing and unpacking tuples\n",
    "\n",
    "packed_tuple = 1,2,3,3.14,2.016\n",
    "print(packed_tuple)\n",
    "print(type(packed_tuple))"
   ]
  },
  {
   "cell_type": "code",
   "execution_count": 18,
   "id": "46d58d1b",
   "metadata": {},
   "outputs": [
    {
     "name": "stdout",
     "output_type": "stream",
     "text": [
      "1\n",
      "2\n",
      "3\n",
      "3.14\n",
      "2.016\n"
     ]
    }
   ],
   "source": [
    "## Unpacking tuple\n",
    "a,b,c,d,e = packed_tuple\n",
    "print(a)\n",
    "print(b)\n",
    "print(c)\n",
    "print(d)\n",
    "print(e)"
   ]
  },
  {
   "cell_type": "code",
   "execution_count": 20,
   "id": "1f162161",
   "metadata": {},
   "outputs": [
    {
     "name": "stdout",
     "output_type": "stream",
     "text": [
      "1\n",
      "[2, 3, 3.14]\n"
     ]
    }
   ],
   "source": [
    "## unpacking tuples using *\n",
    "\n",
    "packed_tuple = 1, 2, 3, 3.14, 2.016\n",
    "\n",
    "first , *middle, last = packed_tuple\n",
    "\n",
    "\n",
    "print(first)\n",
    "print(middle)\n"
   ]
  },
  {
   "cell_type": "code",
   "execution_count": 21,
   "id": "30443c3a",
   "metadata": {},
   "outputs": [
    {
     "name": "stdout",
     "output_type": "stream",
     "text": [
      "[1, 2, 3, 4]\n",
      "[5, 6, 7, 8]\n",
      "[1, 'Hello', 3.14, 3]\n"
     ]
    }
   ],
   "source": [
    "# Nested list\n",
    "\n",
    "lst = [\n",
    "    [1,2,3,4],\n",
    "    [5,6,7,8],\n",
    "    [1,\"Hello\",3.14,c]\n",
    "]\n",
    "\n",
    "print(lst[0])\n",
    "print(lst[1])\n",
    "print(lst[2])"
   ]
  },
  {
   "cell_type": "code",
   "execution_count": 22,
   "id": "bfb3eed8",
   "metadata": {},
   "outputs": [
    {
     "name": "stdout",
     "output_type": "stream",
     "text": [
      "[1, 2]\n"
     ]
    }
   ],
   "source": [
    "print(lst[0][:2])"
   ]
  },
  {
   "cell_type": "code",
   "execution_count": 23,
   "id": "8099ac00",
   "metadata": {},
   "outputs": [],
   "source": [
    "nested_tple = [\n",
    "    (1,2,3,4),\n",
    "    (5,6,7,8),\n",
    "    (1,\"Hell0\",3.14,c)\n",
    "]"
   ]
  },
  {
   "cell_type": "code",
   "execution_count": 24,
   "id": "7aca4d5b",
   "metadata": {},
   "outputs": [
    {
     "name": "stdout",
     "output_type": "stream",
     "text": [
      "(1, 2, 3, 4)\n",
      "(5, 6, 7, 8)\n",
      "(1, 'Hell0', 3.14, 3)\n"
     ]
    }
   ],
   "source": [
    "## iterating over nested tuple\n",
    "for sub_tuple in nested_tple:\n",
    "    print(sub_tuple)"
   ]
  },
  {
   "cell_type": "code",
   "execution_count": 26,
   "id": "203722fd",
   "metadata": {},
   "outputs": [
    {
     "name": "stdout",
     "output_type": "stream",
     "text": [
      "1 2 3 4 \n",
      "5 6 7 8 \n",
      "1 Hell0 3.14 3 \n"
     ]
    }
   ],
   "source": [
    "for sub_tuple in nested_tple:\n",
    "    for element in sub_tuple:\n",
    "        print(element, end=\" \")\n",
    "    print()"
   ]
  },
  {
   "cell_type": "code",
   "execution_count": null,
   "id": "77fbceb6",
   "metadata": {},
   "outputs": [],
   "source": []
  }
 ],
 "metadata": {
  "kernelspec": {
   "display_name": "Python 3",
   "language": "python",
   "name": "python3"
  },
  "language_info": {
   "codemirror_mode": {
    "name": "ipython",
    "version": 3
   },
   "file_extension": ".py",
   "mimetype": "text/x-python",
   "name": "python",
   "nbconvert_exporter": "python",
   "pygments_lexer": "ipython3",
   "version": "3.10.18"
  }
 },
 "nbformat": 4,
 "nbformat_minor": 5
}

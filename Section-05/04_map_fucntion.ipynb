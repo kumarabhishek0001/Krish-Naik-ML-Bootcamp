{
 "cells": [
  {
   "cell_type": "markdown",
   "id": "6cccdc19",
   "metadata": {},
   "source": [
    "## Map function in Python\n",
    "\n",
    "- The map function applies a given functions to all items in an input list(or any other iterable) and returns a map object(an iterator).\n",
    "- This is particularly useful for transforming data in a list comprehensively."
   ]
  },
  {
   "cell_type": "code",
   "execution_count": null,
   "id": "d1db467d",
   "metadata": {},
   "outputs": [
    {
     "name": "stdout",
     "output_type": "stream",
     "text": [
      "[1, 4, 9, 16, 25, 36, 49, 64]\n"
     ]
    }
   ],
   "source": [
    "# Apply this function to all items in a list\n",
    "\n",
    "def square(num):\n",
    "    return num*num\n",
    "\n",
    "numbers = [1,2,3,4,5,6,7,8]\n",
    "\n",
    "squared_numbers = list(map(square, numbers))\n",
    "\n",
    "print(squared_numbers)"
   ]
  },
  {
   "cell_type": "code",
   "execution_count": null,
   "id": "73a05684",
   "metadata": {},
   "outputs": [
    {
     "name": "stdout",
     "output_type": "stream",
     "text": [
      "[1, 4, 9, 16, 25, 36, 49, 64]\n"
     ]
    }
   ],
   "source": [
    "# using map with lambda function\n",
    "numbers = [1,2,3,4,5,6,7,8]\n",
    "squared_numbers1 = list(map(lambda x:x*x, numbers))\n",
    "\n",
    "print(squared_numbers1)"
   ]
  },
  {
   "cell_type": "code",
   "execution_count": 4,
   "id": "425f132b",
   "metadata": {},
   "outputs": [
    {
     "name": "stdout",
     "output_type": "stream",
     "text": [
      "[5, 7, 9]\n"
     ]
    }
   ],
   "source": [
    "# using multiple iterables\n",
    "num1 = [1,2,3]\n",
    "num2 = [4,5,6]\n",
    "\n",
    "added_num = list(map(lambda x,y: x+y, num1, num2))\n",
    "print(added_num)"
   ]
  },
  {
   "cell_type": "code",
   "execution_count": 6,
   "id": "4485928a",
   "metadata": {},
   "outputs": [
    {
     "name": "stdout",
     "output_type": "stream",
     "text": [
      "[1, 2, 3, 4, 5, 6]\n",
      "['1', '2', '3', '4', '5', '6']\n"
     ]
    }
   ],
   "source": [
    "# use map to convert a list of string to integers\n",
    "str_numbers = ['1','2','3','4','5','6']\n",
    "int_numbers = list(map(int, str_numbers))\n",
    "\n",
    "print(int_numbers)\n",
    "print(str_numbers)"
   ]
  },
  {
   "cell_type": "code",
   "execution_count": 10,
   "id": "8ec8052b",
   "metadata": {},
   "outputs": [
    {
     "name": "stdout",
     "output_type": "stream",
     "text": [
      "['APPLE', 'BANANA', 'CHERRY', 'DRAGONFRUIT', 'GUAVA', 'GRAPES']\n"
     ]
    }
   ],
   "source": [
    "# convert list items to uppercase\n",
    "fruits = ['apple', 'banana', 'cherry', 'dragonfruit','guava','grapes']\n",
    "\n",
    "fruits_upper = list(map(str.upper, fruits))\n",
    "print(fruits_upper)"
   ]
  },
  {
   "cell_type": "code",
   "execution_count": 2,
   "id": "4967eec4",
   "metadata": {},
   "outputs": [
    {
     "data": {
      "text/plain": [
       "['krish', 'John Doe']"
      ]
     },
     "execution_count": 2,
     "metadata": {},
     "output_type": "execute_result"
    }
   ],
   "source": [
    "# applying map function in a list of dictionaries\n",
    "\n",
    "people = [\n",
    "    {'name':\"krish\", 'age':32},\n",
    "    {'name':\"John Doe\", 'age':29},\n",
    "]\n",
    "\n",
    "def people_name(person):\n",
    "    return person['name']\n",
    "\n",
    "list(map(people_name,people))"
   ]
  }
 ],
 "metadata": {
  "kernelspec": {
   "display_name": "Python 3",
   "language": "python",
   "name": "python3"
  },
  "language_info": {
   "codemirror_mode": {
    "name": "ipython",
    "version": 3
   },
   "file_extension": ".py",
   "mimetype": "text/x-python",
   "name": "python",
   "nbconvert_exporter": "python",
   "pygments_lexer": "ipython3",
   "version": "3.10.18"
  }
 },
 "nbformat": 4,
 "nbformat_minor": 5
}

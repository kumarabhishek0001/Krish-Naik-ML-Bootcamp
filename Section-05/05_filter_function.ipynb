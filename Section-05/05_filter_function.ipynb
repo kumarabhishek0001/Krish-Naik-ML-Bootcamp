{
 "cells": [
  {
   "cell_type": "markdown",
   "id": "93f74a4b",
   "metadata": {},
   "source": [
    "## Filter Function\n",
    "- It constructs an iterator from elements of an iterable for which a function returns true.\n",
    "\n",
    "- It is used to filter out items from a list(or any other iterable) based on a condition"
   ]
  },
  {
   "cell_type": "code",
   "execution_count": 2,
   "id": "fe662fea",
   "metadata": {},
   "outputs": [],
   "source": [
    "def even(num):\n",
    "    if num%2==0:\n",
    "        return True"
   ]
  },
  {
   "cell_type": "code",
   "execution_count": 4,
   "id": "14c024a0",
   "metadata": {},
   "outputs": [
    {
     "data": {
      "text/plain": [
       "True"
      ]
     },
     "execution_count": 4,
     "metadata": {},
     "output_type": "execute_result"
    }
   ],
   "source": [
    "even(24)"
   ]
  },
  {
   "cell_type": "code",
   "execution_count": null,
   "id": "1891b00e",
   "metadata": {},
   "outputs": [
    {
     "data": {
      "text/plain": [
       "[2, 4, 6, 8, 0]"
      ]
     },
     "execution_count": 6,
     "metadata": {},
     "output_type": "execute_result"
    }
   ],
   "source": [
    "lst = [1,2,3,4,5,6,7,8,9,0]\n",
    "list(filter(even, lst))"
   ]
  },
  {
   "cell_type": "code",
   "execution_count": 7,
   "id": "efbe8dcb",
   "metadata": {},
   "outputs": [
    {
     "data": {
      "text/plain": [
       "[6, 7, 8, 9]"
      ]
     },
     "execution_count": 7,
     "metadata": {},
     "output_type": "execute_result"
    }
   ],
   "source": [
    "# filter with lambda \n",
    "numbers = [1,2,3,4,5,6,7,8,9]\n",
    "list(filter(lambda x: x>5, numbers))"
   ]
  },
  {
   "cell_type": "code",
   "execution_count": 4,
   "id": "74e053af",
   "metadata": {},
   "outputs": [
    {
     "name": "stdout",
     "output_type": "stream",
     "text": [
      "[6, 8]\n"
     ]
    }
   ],
   "source": [
    "# filter with lambda function and multiple conditions\n",
    "\n",
    "numbers = [1,2,3,4,5,6,7,8,9]\n",
    "even_and_greater_than_five = list(filter(lambda x: x>5 and x%2 == 0, numbers))\n",
    "print(even_and_greater_than_five)"
   ]
  },
  {
   "cell_type": "code",
   "execution_count": 8,
   "id": "60a8ab2f",
   "metadata": {},
   "outputs": [
    {
     "data": {
      "text/plain": [
       "[{'name': 'krish', 'age': 32}, {'name': 'John Doe', 'age': 29}]"
      ]
     },
     "execution_count": 8,
     "metadata": {},
     "output_type": "execute_result"
    }
   ],
   "source": [
    "# apply filter to check if the age is greater than five 25 in the dictionary\n",
    "\n",
    "people = [\n",
    "    {'name':\"krish\", 'age':32},\n",
    "    {'name':\"John Doe\", 'age':29},\n",
    "    {'name':\"Moe Green\", 'age':20},\n",
    "]\n",
    "\n",
    "def ageGreaterThanFive(person):\n",
    "    if person['age'] > 25:\n",
    "        return person['age']\n",
    "    \n",
    "list(filter(ageGreaterThanFive, people))"
   ]
  }
 ],
 "metadata": {
  "kernelspec": {
   "display_name": "Python 3",
   "language": "python",
   "name": "python3"
  },
  "language_info": {
   "codemirror_mode": {
    "name": "ipython",
    "version": 3
   },
   "file_extension": ".py",
   "mimetype": "text/x-python",
   "name": "python",
   "nbconvert_exporter": "python",
   "pygments_lexer": "ipython3",
   "version": "3.10.18"
  }
 },
 "nbformat": 4,
 "nbformat_minor": 5
}

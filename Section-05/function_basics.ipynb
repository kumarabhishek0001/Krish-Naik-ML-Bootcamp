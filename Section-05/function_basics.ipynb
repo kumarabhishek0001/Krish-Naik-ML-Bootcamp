{
 "cells": [
  {
   "cell_type": "markdown",
   "id": "b2527b15",
   "metadata": {},
   "source": [
    "# Functions\n",
    "- Block of code that performs a specific task.\n",
    "- Helps in organizing, reusing code and improving readablity"
   ]
  },
  {
   "cell_type": "code",
   "execution_count": 1,
   "id": "b587261e",
   "metadata": {},
   "outputs": [],
   "source": [
    "# Syntax\n",
    "def function_name(parameters):\n",
    "    \"\"\"Docstring\"\"\"\n",
    "    # Function Body\n",
    "    return \"expresion\" # return can be any data type"
   ]
  },
  {
   "cell_type": "code",
   "execution_count": 2,
   "id": "d1dd2a46",
   "metadata": {},
   "outputs": [
    {
     "name": "stdout",
     "output_type": "stream",
     "text": [
      "the number is even\n"
     ]
    }
   ],
   "source": [
    "# why function\n",
    "\n",
    "num = 24\n",
    "\n",
    "if num%2 == 0:\n",
    "    print(\"the number is even\")\n",
    "else:\n",
    "    print(\"the number is Odd\")\n",
    "\n",
    "# to make the code reusable we make function"
   ]
  },
  {
   "cell_type": "code",
   "execution_count": null,
   "id": "e83089f7",
   "metadata": {},
   "outputs": [],
   "source": [
    "# declaring the function\n",
    "def even_or_odd(num):\n",
    "    if num%2 == 0:\n",
    "        print(\"the number is even\")\n",
    "    else:\n",
    "        print(\"the number is odd\")"
   ]
  },
  {
   "cell_type": "code",
   "execution_count": 4,
   "id": "0774aa68",
   "metadata": {},
   "outputs": [
    {
     "name": "stdout",
     "output_type": "stream",
     "text": [
      "the number is even\n"
     ]
    }
   ],
   "source": [
    "# calling the function\n",
    "even_or_odd(34)"
   ]
  },
  {
   "cell_type": "code",
   "execution_count": 6,
   "id": "fd1fc50e",
   "metadata": {},
   "outputs": [
    {
     "name": "stdout",
     "output_type": "stream",
     "text": [
      "5\n"
     ]
    }
   ],
   "source": [
    "# function with multiple parameter\n",
    "\n",
    "def add(a,b):\n",
    "    \"\"\"Adds to number\"\"\"\n",
    "    \n",
    "    return a+b\n",
    "\n",
    "result = add(3,2)\n",
    "print(result)"
   ]
  },
  {
   "cell_type": "code",
   "execution_count": 10,
   "id": "b8c98b6e",
   "metadata": {},
   "outputs": [
    {
     "name": "stdout",
     "output_type": "stream",
     "text": [
      "Hello Guest, How are you?\n",
      "Hello Abhishek, How are you?\n"
     ]
    }
   ],
   "source": [
    "# Default paramters\n",
    "\n",
    "def greet(name=\"Guest\"):\n",
    "    print(f\"Hello {name}, How are you?\")\n",
    "\n",
    "greet()\n",
    "greet(\"Abhishek\")"
   ]
  },
  {
   "cell_type": "markdown",
   "id": "1845e9b8",
   "metadata": {},
   "source": [
    "### Variable Length Arguments\n",
    "- positional and keyword arguments"
   ]
  },
  {
   "cell_type": "code",
   "execution_count": 11,
   "id": "7de6af2e",
   "metadata": {},
   "outputs": [
    {
     "name": "stdout",
     "output_type": "stream",
     "text": [
      "1\n",
      "2\n",
      "3\n",
      "4\n",
      "5\n",
      "abhi\n"
     ]
    }
   ],
   "source": [
    "# Positional argument - to replace \n",
    "# print_num(num1, num2, num3, num4, ......................)\n",
    "\n",
    "def print_num(*args):\n",
    "    for numbers in args:\n",
    "        print(numbers)\n",
    "\n",
    "print_num(1,2,3,4,5,\"abhi\")"
   ]
  },
  {
   "cell_type": "code",
   "execution_count": 13,
   "id": "c04eccb3",
   "metadata": {},
   "outputs": [
    {
     "name": "stdout",
     "output_type": "stream",
     "text": [
      "name:abhi\n",
      "age:21\n",
      "country:India\n"
     ]
    }
   ],
   "source": [
    "# Keyword argument - all the arguments must be key-vaulue pairs\n",
    "\n",
    "def print_details(**kwargs):\n",
    "    for key, value in kwargs.items():\n",
    "        print(f\"{key}:{value}\")\n",
    "\n",
    "# calling\n",
    "print_details(name=\"abhi\", age=21, country=\"India\")"
   ]
  },
  {
   "cell_type": "code",
   "execution_count": 14,
   "id": "554013d6",
   "metadata": {},
   "outputs": [
    {
     "name": "stdout",
     "output_type": "stream",
     "text": [
      "1\n",
      "2\n",
      "3\n",
      "4\n",
      "abhi\n",
      "name:abhi\n",
      "age:21\n"
     ]
    }
   ],
   "source": [
    "def print_details(*args,**kwargs):\n",
    "\n",
    "    for val in args:\n",
    "        print(f\"{val}\")\n",
    "\n",
    "    for key, value in kwargs.items():\n",
    "        print(f\"{key}:{value}\")\n",
    "\n",
    "print_details(1,2,3,4,\"abhi\",name=\"abhi\", age=21)"
   ]
  },
  {
   "cell_type": "code",
   "execution_count": null,
   "id": "f62ced08",
   "metadata": {},
   "outputs": [
    {
     "data": {
      "text/plain": [
       "(6, 2)"
      ]
     },
     "execution_count": 15,
     "metadata": {},
     "output_type": "execute_result"
    }
   ],
   "source": [
    "# return statement -> can return multiple values\n",
    "def multiply(a,b):\n",
    "    return a*b, a\n",
    "\n",
    "multiply(2,3)"
   ]
  },
  {
   "cell_type": "code",
   "execution_count": null,
   "id": "de7d880f",
   "metadata": {},
   "outputs": [],
   "source": []
  }
 ],
 "metadata": {
  "kernelspec": {
   "display_name": "Python 3",
   "language": "python",
   "name": "python3"
  },
  "language_info": {
   "codemirror_mode": {
    "name": "ipython",
    "version": 3
   },
   "file_extension": ".py",
   "mimetype": "text/x-python",
   "name": "python",
   "nbconvert_exporter": "python",
   "pygments_lexer": "ipython3",
   "version": "3.10.18"
  }
 },
 "nbformat": 4,
 "nbformat_minor": 5
}

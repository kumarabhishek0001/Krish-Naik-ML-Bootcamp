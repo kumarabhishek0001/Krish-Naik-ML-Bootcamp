{
 "cells": [
  {
   "cell_type": "markdown",
   "id": "d69b63bd",
   "metadata": {},
   "source": [
    "## Function"
   ]
  },
  {
   "cell_type": "markdown",
   "id": "7fb56020",
   "metadata": {},
   "source": [
    "### Example1: Temperature Conversion"
   ]
  },
  {
   "cell_type": "code",
   "execution_count": 2,
   "id": "4492a008",
   "metadata": {},
   "outputs": [],
   "source": [
    "# unit:F\n",
    "# celcius -> farenheit\n",
    "\n",
    "def covert_temprature(temp, unit):\n",
    "    if(unit == \"f\"):\n",
    "        result = (temp*(9/5))+32\n",
    "        return result\n",
    "    elif(unit == \"c\"):\n",
    "        result = (temp-32)*(5/9)\n",
    "        return result\n",
    "    else:\n",
    "        return \"Invlaid Unit\"\n",
    "\n"
   ]
  },
  {
   "cell_type": "code",
   "execution_count": 5,
   "id": "63a0b866",
   "metadata": {},
   "outputs": [
    {
     "data": {
      "text/plain": [
       "0.0"
      ]
     },
     "execution_count": 5,
     "metadata": {},
     "output_type": "execute_result"
    }
   ],
   "source": [
    "inp = input(\"Enter the unit to convert to: \")\n",
    "unit = inp.lower()\n",
    "\n",
    "covert_temprature(32, unit)"
   ]
  },
  {
   "cell_type": "markdown",
   "id": "206ad1d0",
   "metadata": {},
   "source": [
    "### Example2: Password Strength Checker"
   ]
  },
  {
   "cell_type": "code",
   "execution_count": null,
   "id": "a667062a",
   "metadata": {},
   "outputs": [
    {
     "data": {
      "text/plain": [
       "True"
      ]
     },
     "execution_count": 9,
     "metadata": {},
     "output_type": "execute_result"
    }
   ],
   "source": [
    "# \n",
    "\n",
    "def is_strong_password(password):\n",
    "    \"\"\"check if password is strong or not\"\"\"\n",
    "    if len(password) < 8:\n",
    "        return False\n",
    "    if not any(char.isdigit() for char in password):# if no digit in password this returns false, then not converts it to true and then reutrn statement is executed\n",
    "        return False\n",
    "    if not any(char.islower() for char in password):\n",
    "        return False\n",
    "    if not any(char.isupper for char in password):\n",
    "        return False\n",
    "    if not any(char in \"!@#$%^&*()_+\"for char in password):\n",
    "        return False\n",
    "    return True\n",
    "\n",
    "is_strong_password(\"StrongPassword1#\")"
   ]
  },
  {
   "cell_type": "markdown",
   "id": "02ccc066",
   "metadata": {},
   "source": [
    "### Example3: Calculate the total cost of items in a shopping cart"
   ]
  },
  {
   "cell_type": "code",
   "execution_count": 20,
   "id": "0781df20",
   "metadata": {},
   "outputs": [
    {
     "name": "stdout",
     "output_type": "stream",
     "text": [
      "5.90000\n"
     ]
    }
   ],
   "source": [
    "def calculate_total_cost(cart):\n",
    "    total_cost = 0\n",
    "    for item in cart:\n",
    "        total_cost += item['price']*item['quantity']\n",
    "    \n",
    "    return total_cost\n",
    "\n",
    "# example of cart data:\n",
    "cart = [\n",
    "    {'name':'Apple', 'price':0.5, 'quantity':4},\n",
    "    {'name':'Banana', 'price':0.3, 'quantity':6},\n",
    "    {'name':'Orange', 'price':0.7, 'quantity':3}\n",
    "]\n",
    "\n",
    "total_cost = calculate_total_cost(cart)\n",
    "print(f\"{total_cost:.5f}\")"
   ]
  },
  {
   "cell_type": "markdown",
   "id": "fe36cd3e",
   "metadata": {},
   "source": [
    "### Example 4: check if string is palindrome"
   ]
  },
  {
   "cell_type": "code",
   "execution_count": 5,
   "id": "8dcae974",
   "metadata": {},
   "outputs": [
    {
     "data": {
      "text/plain": [
       "'Not Palindrome'"
      ]
     },
     "execution_count": 5,
     "metadata": {},
     "output_type": "execute_result"
    }
   ],
   "source": [
    "def check_palindrome(inp):\n",
    "    length = len(inp)\n",
    "    i = 0\n",
    "    j = length-1\n",
    "\n",
    "    check = True\n",
    "    while(i<=j):\n",
    "        if inp[i]!=inp[j]:\n",
    "            check = False\n",
    "            break\n",
    "        i = i+1\n",
    "        j = j-1\n",
    "    \n",
    "    if check == True:\n",
    "        return \"Palindrome\"\n",
    "    else:\n",
    "        return \"Not Palindrome\"\n",
    "\n",
    "inp = input(\"Enter string\")    \n",
    "check_palindrome(inp)"
   ]
  },
  {
   "cell_type": "markdown",
   "id": "246b37b2",
   "metadata": {},
   "source": [
    "### Example 5: Calculate Factorial Using Recursion"
   ]
  },
  {
   "cell_type": "code",
   "execution_count": null,
   "id": "a3276839",
   "metadata": {},
   "outputs": [],
   "source": [
    "fact = 1\n",
    "\n",
    "def factorial(count_nums):\n",
    "    \n",
    "    if count_nums == 0:\n",
    "        return 1\n",
    "    return count_nums*factorial(count_nums-1)\n",
    "\n",
    "\n",
    "factorial(5)"
   ]
  },
  {
   "cell_type": "markdown",
   "id": "24592163",
   "metadata": {},
   "source": [
    "### Example 6: Read the file and count the frequency of each and every word"
   ]
  },
  {
   "cell_type": "code",
   "execution_count": 14,
   "id": "f81eeef8",
   "metadata": {},
   "outputs": [
    {
     "name": "stdout",
     "output_type": "stream",
     "text": [
      "{'hello': 1, 'every': 1, 'one': 1, 'how': 2, 'are': 2, 'you': 2, 'guys': 1, 'doing': 1, 'all': 1, 'feeling': 1, 'today': 1}\n"
     ]
    }
   ],
   "source": [
    "def count_word_frequency(file_path):\n",
    "    word_count = {}\n",
    "    with open(file_path, 'r') as file:\n",
    "        for line in file:\n",
    "            words = line.split()\n",
    "            for word in words:\n",
    "                word = word.lower().strip('.,!?;:\"\\'')\n",
    "                word_count[word] = word_count.get(word,0)+1\n",
    "    return word_count\n",
    "\n",
    "filepath = 'sample.txt'\n",
    "word_frequency = count_word_frequency(filepath)\n",
    "print(word_frequency)"
   ]
  },
  {
   "cell_type": "markdown",
   "id": "959ab6ee",
   "metadata": {},
   "source": [
    "### Example 7: Validate Email Address"
   ]
  },
  {
   "cell_type": "code",
   "execution_count": 1,
   "id": "5512d6b3",
   "metadata": {},
   "outputs": [],
   "source": [
    "# Importing\n",
    "import re"
   ]
  },
  {
   "cell_type": "code",
   "execution_count": 3,
   "id": "87748924",
   "metadata": {},
   "outputs": [
    {
     "name": "stdout",
     "output_type": "stream",
     "text": [
      "test@example.com is valid\n",
      "invalid-email@ is invalid\n",
      "user.name@domain.co.in is valid\n"
     ]
    }
   ],
   "source": [
    "def is_valid_email(email):\n",
    "    \"\"\"\n",
    "    Returns True if the given email is valid, False otherwise.\n",
    "    \"\"\"\n",
    "    # Regex pattern for email validation\n",
    "    pattern = r'^[a-zA-Z0-9_.+-]+@[a-zA-Z0-9-]+\\.[a-zA-Z0-9-.]+$'\n",
    "    \n",
    "    # Use re.match to check the pattern\n",
    "    if re.match(pattern, email):\n",
    "        return True\n",
    "    else:\n",
    "        return False\n",
    "\n",
    "# Example usage\n",
    "emails = [\"test@example.com\", \"invalid-email@\", \"user.name@domain.co.in\"]\n",
    "\n",
    "for e in emails:\n",
    "    if is_valid_email(e):\n",
    "        print(f\"{e} is valid\")\n",
    "    else:\n",
    "        print(f\"{e} is invalid\")\n"
   ]
  }
 ],
 "metadata": {
  "kernelspec": {
   "display_name": "Python 3",
   "language": "python",
   "name": "python3"
  },
  "language_info": {
   "codemirror_mode": {
    "name": "ipython",
    "version": 3
   },
   "file_extension": ".py",
   "mimetype": "text/x-python",
   "name": "python",
   "nbconvert_exporter": "python",
   "pygments_lexer": "ipython3",
   "version": "3.10.18"
  }
 },
 "nbformat": 4,
 "nbformat_minor": 5
}

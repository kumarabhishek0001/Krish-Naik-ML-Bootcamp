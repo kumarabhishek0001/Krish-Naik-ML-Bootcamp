{
 "cells": [
  {
   "cell_type": "markdown",
   "id": "fe19491f",
   "metadata": {},
   "source": [
    "## Lambda Function\n",
    "\n",
    "- small anonymous function defined using lambda keyword.\n",
    "- Can have any number of arguments but only one expression.\n",
    "- Commonly used for short operations or as arguments to higher order functions"
   ]
  },
  {
   "cell_type": "code",
   "execution_count": null,
   "id": "29a8ada4",
   "metadata": {},
   "outputs": [],
   "source": [
    "# Lambda function syntax\n",
    "var = lambda argumnt: expression"
   ]
  },
  {
   "cell_type": "code",
   "execution_count": 1,
   "id": "36e9151b",
   "metadata": {},
   "outputs": [
    {
     "data": {
      "text/plain": [
       "5"
      ]
     },
     "execution_count": 1,
     "metadata": {},
     "output_type": "execute_result"
    }
   ],
   "source": [
    "# Addition\n",
    "def addition(a,b):\n",
    "    return a+b\n",
    "addition(2,3)"
   ]
  },
  {
   "cell_type": "code",
   "execution_count": 4,
   "id": "3423494e",
   "metadata": {},
   "outputs": [
    {
     "name": "stdout",
     "output_type": "stream",
     "text": [
      "5\n",
      "<class 'function'>\n"
     ]
    }
   ],
   "source": [
    "# addition function using lambda function\n",
    "addition1 = lambda x,y: x+y\n",
    "print(addition1(2,3))\n",
    "print(type(addition1))"
   ]
  },
  {
   "cell_type": "code",
   "execution_count": 5,
   "id": "d6ebc162",
   "metadata": {},
   "outputs": [
    {
     "name": "stdout",
     "output_type": "stream",
     "text": [
      "False\n",
      "True\n"
     ]
    }
   ],
   "source": [
    "# even number using lambda function\n",
    "\n",
    "even = lambda num: num%2==0\n",
    "print(even(23))\n",
    "print(even(24))"
   ]
  },
  {
   "cell_type": "code",
   "execution_count": 7,
   "id": "507a7955",
   "metadata": {},
   "outputs": [
    {
     "name": "stdout",
     "output_type": "stream",
     "text": [
      "39\n"
     ]
    }
   ],
   "source": [
    "# multiple arguments in lambda function\n",
    "add = lambda a,b,c: a+b+c\n",
    "print(add(12,13,14))"
   ]
  },
  {
   "cell_type": "markdown",
   "id": "1c27582d",
   "metadata": {},
   "source": [
    "### Using lambda function with map function\n",
    "\n",
    "- **Map Function -** takes a function and applied it to all the items in a container"
   ]
  },
  {
   "cell_type": "code",
   "execution_count": 13,
   "id": "2c9dde6c",
   "metadata": {},
   "outputs": [
    {
     "name": "stdout",
     "output_type": "stream",
     "text": [
      "[1, 4, 9, 16, 25]\n"
     ]
    }
   ],
   "source": [
    "numbers = [1,2,3,4,5]\n",
    "\n",
    "def squre(list_of_number):\n",
    "    for index,j in enumerate(list_of_number):\n",
    "        result = j**2\n",
    "        # print(\"result:\",result)\n",
    "        # print(\"current index\",index)\n",
    "        list_of_number[index] = result\n",
    "        # print(list_of_number[index])\n",
    "squre(numbers)\n",
    "print(numbers)\n"
   ]
  },
  {
   "cell_type": "code",
   "execution_count": 15,
   "id": "e37581db",
   "metadata": {},
   "outputs": [
    {
     "data": {
      "text/plain": [
       "[1, 4, 9, 16, 25]"
      ]
     },
     "execution_count": 15,
     "metadata": {},
     "output_type": "execute_result"
    }
   ],
   "source": [
    "# now rather than writing the complete function above we can use lambda function with map\n",
    "number_list = [1,2,3,4,5]\n",
    "\n",
    "squre = lambda x: x**2\n",
    "map(squre, number_list) # follows lazy laoding so we need to put it inside somthing like a container\n",
    "list(map(squre, number_list))"
   ]
  },
  {
   "cell_type": "code",
   "execution_count": null,
   "id": "f613a2ff",
   "metadata": {},
   "outputs": [],
   "source": []
  }
 ],
 "metadata": {
  "kernelspec": {
   "display_name": "Python 3",
   "language": "python",
   "name": "python3"
  },
  "language_info": {
   "codemirror_mode": {
    "name": "ipython",
    "version": 3
   },
   "file_extension": ".py",
   "mimetype": "text/x-python",
   "name": "python",
   "nbconvert_exporter": "python",
   "pygments_lexer": "ipython3",
   "version": "3.10.18"
  }
 },
 "nbformat": 4,
 "nbformat_minor": 5
}

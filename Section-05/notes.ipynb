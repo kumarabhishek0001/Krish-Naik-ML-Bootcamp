{
 "cells": [
  {
   "cell_type": "markdown",
   "id": "f970b4ae",
   "metadata": {},
   "source": [
    "## Function  Basics"
   ]
  },
  {
   "cell_type": "markdown",
   "id": "9ee1d06f",
   "metadata": {},
   "source": [
    "### default parameters"
   ]
  },
  {
   "cell_type": "code",
   "execution_count": 1,
   "id": "566d1d29",
   "metadata": {},
   "outputs": [
    {
     "name": "stdout",
     "output_type": "stream",
     "text": [
      "Hello Guest, How are you?\n",
      "Hello Abhishek, How are you?\n"
     ]
    }
   ],
   "source": [
    "# here name \"guest\" is the default parameter\n",
    "# if argument is not given in function call then Guest will be printed\n",
    "def greet(name=\"Guest\"):\n",
    "    print(f\"Hello {name}, How are you?\")\n",
    "\n",
    "greet()\n",
    "greet(\"Abhishek\")"
   ]
  },
  {
   "cell_type": "markdown",
   "id": "0a8cb95f",
   "metadata": {},
   "source": [
    "### Positional arguments"
   ]
  },
  {
   "cell_type": "code",
   "execution_count": 4,
   "id": "f82adcf2",
   "metadata": {},
   "outputs": [
    {
     "name": "stdout",
     "output_type": "stream",
     "text": [
      "1\n",
      "2\n",
      "3\n",
      "4\n",
      "5\n",
      "6\n",
      "abhishek\n"
     ]
    }
   ],
   "source": [
    "# Used to replace the use multiple argumnts\n",
    "# print_num(num1, num2, num3, num4, ......................)\n",
    "\n",
    "def print_nums(*args):\n",
    "    for nums in args:\n",
    "        print(nums)\n",
    "\n",
    "print_nums(1,2,3,4,5,6,'abhishek')"
   ]
  },
  {
   "cell_type": "markdown",
   "id": "e012c256",
   "metadata": {},
   "source": [
    "### Keyword argumnts"
   ]
  },
  {
   "cell_type": "code",
   "execution_count": 7,
   "id": "5655766c",
   "metadata": {},
   "outputs": [
    {
     "name": "stdout",
     "output_type": "stream",
     "text": [
      "name : Abhishek\n",
      "age : 22\n",
      "steam : engineering\n"
     ]
    }
   ],
   "source": [
    "# all the arguments must be in key value pair\n",
    "def print_details(**kwargs):\n",
    "    for key, value in kwargs.items():\n",
    "        print(f\"{key} : {value}\")\n",
    "\n",
    "print_details(\n",
    "    name = \"Abhishek\",\n",
    "    age = 22,\n",
    "    steam = \"engineering\"\n",
    ")"
   ]
  },
  {
   "cell_type": "code",
   "execution_count": 9,
   "id": "27e78a2e",
   "metadata": {},
   "outputs": [
    {
     "name": "stdout",
     "output_type": "stream",
     "text": [
      "name : Hello\n",
      "age : unkonwn\n",
      "1\n",
      "2\n",
      "3\n",
      "4\n"
     ]
    }
   ],
   "source": [
    "# combining keyword arguments and positional arguments\n",
    "def print_details2(*args, **kwargs):\n",
    "    for key, value in kwargs.items():\n",
    "        print(f\"{key} : {value}\")\n",
    "    \n",
    "    for val in args:\n",
    "        print(val)\n",
    "\n",
    "print_details2(\n",
    "    1,\n",
    "    2,\n",
    "    3,\n",
    "    4,\n",
    "    name = \"Hello\",\n",
    "    age=\"unkonwn\"\n",
    ")"
   ]
  },
  {
   "cell_type": "markdown",
   "id": "3365e526",
   "metadata": {},
   "source": [
    "### Return statement"
   ]
  },
  {
   "cell_type": "code",
   "execution_count": null,
   "id": "fb0078d8",
   "metadata": {},
   "outputs": [
    {
     "name": "stdout",
     "output_type": "stream",
     "text": [
      "1\n",
      "2\n"
     ]
    }
   ],
   "source": [
    "# in python return can give multiple values\n",
    "\n",
    "def print_params(a,b):\n",
    "    return a,b\n",
    "\n",
    "x,y = print_params(1,2)\n",
    "print(x)\n",
    "print(y)"
   ]
  },
  {
   "cell_type": "code",
   "execution_count": 17,
   "id": "1090a9fd",
   "metadata": {},
   "outputs": [
    {
     "data": {
      "text/plain": [
       "(1, 2)"
      ]
     },
     "execution_count": 17,
     "metadata": {},
     "output_type": "execute_result"
    }
   ],
   "source": [
    "print_params(1,2)"
   ]
  },
  {
   "cell_type": "markdown",
   "id": "7ee6f5bf",
   "metadata": {},
   "source": [
    "## Function Examples"
   ]
  },
  {
   "cell_type": "code",
   "execution_count": null,
   "id": "114d7f06",
   "metadata": {},
   "outputs": [],
   "source": [
    "# Validate Email\n",
    "import re\n",
    "\n",
    "def is_valid_email(email):\n",
    "    \"\"\"\n",
    "    Returns True if the given email is valid, False otherwise.\n",
    "    \"\"\"\n",
    "    # Regex pattern for email validation\n",
    "    pattern = r'^[a-zA-Z0-9_.+-]+@[a-zA-Z0-9-]+\\.[a-zA-Z0-9-.]+$'\n",
    "    \n",
    "    # Use re.match to check the pattern\n",
    "    if re.match(pattern, email):\n",
    "        return True\n",
    "    else:\n",
    "        return False\n",
    "\n",
    "# Example usage\n",
    "emails = [\"test@example.com\", \"invalid-email@\", \"user.name@domain.co.in\"]\n",
    "\n",
    "for e in emails:\n",
    "    if is_valid_email(e):\n",
    "        print(f\"{e} is valid\")\n",
    "    else:\n",
    "        print(f\"{e} is invalid\")\n"
   ]
  },
  {
   "cell_type": "code",
   "execution_count": 1,
   "id": "87b94c63",
   "metadata": {},
   "outputs": [
    {
     "name": "stdout",
     "output_type": "stream",
     "text": [
      "{'hello': 1, 'every': 1, 'one': 1, 'how': 2, 'are': 2, 'you': 2, 'guys': 1, 'doing': 1, 'all': 1, 'feeling': 1, 'today': 1}\n"
     ]
    }
   ],
   "source": [
    "# read file contents\n",
    "\n",
    "def count_word_frequency(file_path):\n",
    "    word_count = {}\n",
    "    with open(file_path, 'r') as file:\n",
    "        for line in file:\n",
    "            words = line.split()\n",
    "            for word in words:\n",
    "                word = word.lower().strip('.,!?;:\"\\'')\n",
    "                word_count[word] = word_count.get(word,0)+1\n",
    "    return word_count\n",
    "\n",
    "filepath = 'sample.txt'\n",
    "word_frequency = count_word_frequency(filepath)\n",
    "print(word_frequency)"
   ]
  },
  {
   "cell_type": "code",
   "execution_count": 2,
   "id": "d1bbc8f6",
   "metadata": {},
   "outputs": [
    {
     "data": {
      "text/plain": [
       "True"
      ]
     },
     "execution_count": 2,
     "metadata": {},
     "output_type": "execute_result"
    }
   ],
   "source": [
    "# check password strength\n",
    "\n",
    "def is_strong_password(password):\n",
    "\n",
    "    \"\"\"check if password is strong or not\"\"\"\n",
    "    \n",
    "    if len(password) < 8:\n",
    "        return False\n",
    "    if not any(char.isdigit() for char in password):# if no digit in password this returns false, then not converts it to true and then reutrn statement is executed\n",
    "        return False\n",
    "    if not any(char.islower() for char in password):\n",
    "        return False\n",
    "    if not any(char.isupper for char in password):\n",
    "        return False\n",
    "    if not any(char in \"!@#$%^&*()_+\"for char in password):\n",
    "        return False\n",
    "    return True\n",
    "\n",
    "is_strong_password(\"StrongPassword1#\")"
   ]
  },
  {
   "cell_type": "markdown",
   "id": "05e1d9a4",
   "metadata": {},
   "source": [
    "## Lambda Functions"
   ]
  },
  {
   "cell_type": "code",
   "execution_count": 1,
   "id": "dc848757",
   "metadata": {},
   "outputs": [
    {
     "name": "stdout",
     "output_type": "stream",
     "text": [
      "5\n",
      "<class 'function'>\n"
     ]
    }
   ],
   "source": [
    "# Addition\n",
    "def addition(a,b):\n",
    "    return a+b\n",
    "addition(2,3)\n",
    "\n",
    "# using lambda function\n",
    "addition1 = lambda x,y: x+y\n",
    "print(addition1(2,3))\n",
    "print(type(addition1))"
   ]
  },
  {
   "cell_type": "code",
   "execution_count": 2,
   "id": "ef427d66",
   "metadata": {},
   "outputs": [
    {
     "name": "stdout",
     "output_type": "stream",
     "text": [
      "False\n",
      "True\n"
     ]
    }
   ],
   "source": [
    "even = lambda num: num%2==0\n",
    "print(even(23))\n",
    "print(even(24))"
   ]
  },
  {
   "cell_type": "markdown",
   "id": "850f8ec4",
   "metadata": {},
   "source": [
    "### Using lambda function with map function\n",
    "\n",
    "- **Map Function -** takes a function and applied it to all the items in a container"
   ]
  },
  {
   "cell_type": "code",
   "execution_count": null,
   "id": "09e653a7",
   "metadata": {},
   "outputs": [],
   "source": [
    "numbers = [1,2,3,4,5]\n",
    "\n",
    "def squre(list_of_number):\n",
    "    for index,j in enumerate(list_of_number):\n",
    "        result = j**2\n",
    "        # print(\"result:\",result)\n",
    "        # print(\"current index\",index)\n",
    "        list_of_number[index] = result\n",
    "        # print(list_of_number[index])\n",
    "squre(numbers)\n",
    "print(numbers)\n",
    "\n",
    "# using maps along with lambda function\n",
    "number_list = [1,2,3,4,5]\n",
    "\n",
    "squre = lambda x: x**2\n",
    "map(squre, number_list) # follows lazy laoding so we need to put it inside somthing like a container\n",
    "list(map(squre, number_list))"
   ]
  },
  {
   "cell_type": "markdown",
   "id": "40031c61",
   "metadata": {},
   "source": [
    "### Map Function\n"
   ]
  },
  {
   "cell_type": "code",
   "execution_count": null,
   "id": "ce8f9c41",
   "metadata": {},
   "outputs": [],
   "source": [
    "# applying map function in a list of dictionaries\n",
    "\n",
    "people = [\n",
    "    {'name':\"krish\", 'age':32},\n",
    "    {'name':\"John Doe\", 'age':29},\n",
    "]\n",
    "\n",
    "def people_name(person):\n",
    "    return person['name']\n",
    "\n",
    "list(map(people_name,people))"
   ]
  },
  {
   "cell_type": "markdown",
   "id": "33b1ad5d",
   "metadata": {},
   "source": [
    "## Filter Function"
   ]
  },
  {
   "cell_type": "markdown",
   "id": "3ff82d21",
   "metadata": {},
   "source": []
  }
 ],
 "metadata": {
  "kernelspec": {
   "display_name": "Python 3",
   "language": "python",
   "name": "python3"
  },
  "language_info": {
   "codemirror_mode": {
    "name": "ipython",
    "version": 3
   },
   "file_extension": ".py",
   "mimetype": "text/x-python",
   "name": "python",
   "nbconvert_exporter": "python",
   "pygments_lexer": "ipython3",
   "version": "3.10.18"
  }
 },
 "nbformat": 4,
 "nbformat_minor": 5
}

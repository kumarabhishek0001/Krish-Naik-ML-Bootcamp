{
 "cells": [
  {
   "cell_type": "markdown",
   "id": "f970b4ae",
   "metadata": {},
   "source": [
    "## Function  Basics"
   ]
  },
  {
   "cell_type": "markdown",
   "id": "9ee1d06f",
   "metadata": {},
   "source": [
    "### default parameters"
   ]
  },
  {
   "cell_type": "code",
   "execution_count": 1,
   "id": "566d1d29",
   "metadata": {},
   "outputs": [
    {
     "name": "stdout",
     "output_type": "stream",
     "text": [
      "Hello Guest, How are you?\n",
      "Hello Abhishek, How are you?\n"
     ]
    }
   ],
   "source": [
    "# here name \"guest\" is the default parameter\n",
    "# if argument is not given in function call then Guest will be printed\n",
    "def greet(name=\"Guest\"):\n",
    "    print(f\"Hello {name}, How are you?\")\n",
    "\n",
    "greet()\n",
    "greet(\"Abhishek\")"
   ]
  },
  {
   "cell_type": "markdown",
   "id": "0a8cb95f",
   "metadata": {},
   "source": [
    "### Positional arguments"
   ]
  },
  {
   "cell_type": "code",
   "execution_count": 4,
   "id": "f82adcf2",
   "metadata": {},
   "outputs": [
    {
     "name": "stdout",
     "output_type": "stream",
     "text": [
      "1\n",
      "2\n",
      "3\n",
      "4\n",
      "5\n",
      "6\n",
      "abhishek\n"
     ]
    }
   ],
   "source": [
    "# Used to replace the use multiple argumnts\n",
    "# print_num(num1, num2, num3, num4, ......................)\n",
    "\n",
    "def print_nums(*args):\n",
    "    for nums in args:\n",
    "        print(nums)\n",
    "\n",
    "print_nums(1,2,3,4,5,6,'abhishek')"
   ]
  },
  {
   "cell_type": "markdown",
   "id": "e012c256",
   "metadata": {},
   "source": [
    "### Keyword argumnts"
   ]
  },
  {
   "cell_type": "code",
   "execution_count": 7,
   "id": "5655766c",
   "metadata": {},
   "outputs": [
    {
     "name": "stdout",
     "output_type": "stream",
     "text": [
      "name : Abhishek\n",
      "age : 22\n",
      "steam : engineering\n"
     ]
    }
   ],
   "source": [
    "# all the arguments must be in key value pair\n",
    "def print_details(**kwargs):\n",
    "    for key, value in kwargs.items():\n",
    "        print(f\"{key} : {value}\")\n",
    "\n",
    "print_details(\n",
    "    name = \"Abhishek\",\n",
    "    age = 22,\n",
    "    steam = \"engineering\"\n",
    ")"
   ]
  },
  {
   "cell_type": "code",
   "execution_count": 9,
   "id": "27e78a2e",
   "metadata": {},
   "outputs": [
    {
     "name": "stdout",
     "output_type": "stream",
     "text": [
      "name : Hello\n",
      "age : unkonwn\n",
      "1\n",
      "2\n",
      "3\n",
      "4\n"
     ]
    }
   ],
   "source": [
    "# combining keyword arguments and positional arguments\n",
    "def print_details2(*args, **kwargs):\n",
    "    for key, value in kwargs.items():\n",
    "        print(f\"{key} : {value}\")\n",
    "    \n",
    "    for val in args:\n",
    "        print(val)\n",
    "\n",
    "print_details2(\n",
    "    1,\n",
    "    2,\n",
    "    3,\n",
    "    4,\n",
    "    name = \"Hello\",\n",
    "    age=\"unkonwn\"\n",
    ")"
   ]
  },
  {
   "cell_type": "markdown",
   "id": "3365e526",
   "metadata": {},
   "source": [
    "### Return statement"
   ]
  },
  {
   "cell_type": "code",
   "execution_count": null,
   "id": "fb0078d8",
   "metadata": {},
   "outputs": [
    {
     "name": "stdout",
     "output_type": "stream",
     "text": [
      "1\n",
      "2\n"
     ]
    }
   ],
   "source": [
    "# in python return can give multiple values\n",
    "\n",
    "def print_params(a,b):\n",
    "    return a,b\n",
    "\n",
    "x,y = print_params(1,2)\n",
    "print(x)\n",
    "print(y)"
   ]
  },
  {
   "cell_type": "code",
   "execution_count": 17,
   "id": "1090a9fd",
   "metadata": {},
   "outputs": [
    {
     "data": {
      "text/plain": [
       "(1, 2)"
      ]
     },
     "execution_count": 17,
     "metadata": {},
     "output_type": "execute_result"
    }
   ],
   "source": [
    "print_params(1,2)"
   ]
  },
  {
   "cell_type": "code",
   "execution_count": null,
   "id": "114d7f06",
   "metadata": {},
   "outputs": [],
   "source": []
  },
  {
   "cell_type": "code",
   "execution_count": null,
   "id": "87b94c63",
   "metadata": {},
   "outputs": [],
   "source": []
  }
 ],
 "metadata": {
  "kernelspec": {
   "display_name": "Python 3",
   "language": "python",
   "name": "python3"
  },
  "language_info": {
   "codemirror_mode": {
    "name": "ipython",
    "version": 3
   },
   "file_extension": ".py",
   "mimetype": "text/x-python",
   "name": "python",
   "nbconvert_exporter": "python",
   "pygments_lexer": "ipython3",
   "version": "3.10.18"
  }
 },
 "nbformat": 4,
 "nbformat_minor": 5
}

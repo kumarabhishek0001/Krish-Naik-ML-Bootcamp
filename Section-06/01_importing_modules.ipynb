{
 "cells": [
  {
   "cell_type": "markdown",
   "id": "b182a26d",
   "metadata": {},
   "source": [
    "## Importing Modules in Python: Modules and Packages\n",
    "\n",
    "- In python modules and packages helps to organize and resuse the code."
   ]
  },
  {
   "cell_type": "code",
   "execution_count": 1,
   "id": "362ec722",
   "metadata": {},
   "outputs": [
    {
     "data": {
      "text/plain": [
       "4.242640687119285"
      ]
     },
     "execution_count": 1,
     "metadata": {},
     "output_type": "execute_result"
    }
   ],
   "source": [
    "import math # packages\n",
    "\n",
    "math.sqrt(18)"
   ]
  },
  {
   "cell_type": "code",
   "execution_count": 3,
   "id": "e9847d88",
   "metadata": {},
   "outputs": [
    {
     "name": "stdout",
     "output_type": "stream",
     "text": [
      "3.141592653589793\n",
      "1.7724538509055159\n"
     ]
    }
   ],
   "source": [
    "from math import sqrt, pi\n",
    "print(pi)\n",
    "print(math.sqrt(pi))"
   ]
  },
  {
   "cell_type": "code",
   "execution_count": 4,
   "id": "985df622",
   "metadata": {},
   "outputs": [
    {
     "data": {
      "text/plain": [
       "array([1, 2, 3, 4])"
      ]
     },
     "execution_count": 4,
     "metadata": {},
     "output_type": "execute_result"
    }
   ],
   "source": [
    "import numpy as np #np here is alias for numpy\n",
    "\n",
    "np.array([1,2,3,4])"
   ]
  },
  {
   "cell_type": "code",
   "execution_count": 2,
   "id": "e0086a0a",
   "metadata": {},
   "outputs": [
    {
     "name": "stdout",
     "output_type": "stream",
     "text": [
      "4.0\n",
      "3.141592653589793\n"
     ]
    }
   ],
   "source": [
    "# imports al function in math modulte\n",
    "from math import *\n",
    "print(sqrt(16))\n",
    "print(pi)"
   ]
  },
  {
   "cell_type": "code",
   "execution_count": 3,
   "id": "31ed7a54",
   "metadata": {},
   "outputs": [
    {
     "data": {
      "text/plain": [
       "5"
      ]
     },
     "execution_count": 3,
     "metadata": {},
     "output_type": "execute_result"
    }
   ],
   "source": [
    "# creating own custom package \n",
    "from packages.math00 import addition\n",
    "addition(2,3)"
   ]
  },
  {
   "cell_type": "code",
   "execution_count": 4,
   "id": "c7f715bf",
   "metadata": {},
   "outputs": [
    {
     "data": {
      "text/plain": [
       "5"
      ]
     },
     "execution_count": 4,
     "metadata": {},
     "output_type": "execute_result"
    }
   ],
   "source": [
    "from packages import math00\n",
    "math00.addition(2,3)"
   ]
  },
  {
   "cell_type": "code",
   "execution_count": 5,
   "id": "3b246162",
   "metadata": {},
   "outputs": [
    {
     "data": {
      "text/plain": [
       "1"
      ]
     },
     "execution_count": 5,
     "metadata": {},
     "output_type": "execute_result"
    }
   ],
   "source": [
    "from packages.math00 import substraction\n",
    "substraction(3,2)"
   ]
  },
  {
   "cell_type": "code",
   "execution_count": 6,
   "id": "1109e911",
   "metadata": {},
   "outputs": [
    {
     "data": {
      "text/plain": [
       "1"
      ]
     },
     "execution_count": 6,
     "metadata": {},
     "output_type": "execute_result"
    }
   ],
   "source": [
    "from packages import math00\n",
    "math00.substraction(3,2)"
   ]
  },
  {
   "cell_type": "code",
   "execution_count": null,
   "id": "7c1d4c9d",
   "metadata": {},
   "outputs": [],
   "source": []
  }
 ],
 "metadata": {
  "kernelspec": {
   "display_name": "Python 3",
   "language": "python",
   "name": "python3"
  },
  "language_info": {
   "codemirror_mode": {
    "name": "ipython",
    "version": 3
   },
   "file_extension": ".py",
   "mimetype": "text/x-python",
   "name": "python",
   "nbconvert_exporter": "python",
   "pygments_lexer": "ipython3",
   "version": "3.10.18"
  }
 },
 "nbformat": 4,
 "nbformat_minor": 5
}

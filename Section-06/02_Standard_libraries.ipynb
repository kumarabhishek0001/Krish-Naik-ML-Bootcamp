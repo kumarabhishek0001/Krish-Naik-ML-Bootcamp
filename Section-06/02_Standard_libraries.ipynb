{
 "cells": [
  {
   "cell_type": "markdown",
   "id": "0ad8480e",
   "metadata": {},
   "source": [
    "## Standard Library\n",
    "\n",
    "- Python's Standard Library is a vast collection of modules and packages that comes bundled with python, providing a wide range of functionalities out of the box"
   ]
  },
  {
   "cell_type": "code",
   "execution_count": 1,
   "id": "d92c54ea",
   "metadata": {},
   "outputs": [
    {
     "name": "stdout",
     "output_type": "stream",
     "text": [
      "array('i', [1, 2, 3, 4, 5])\n"
     ]
    }
   ],
   "source": [
    "import array\n",
    "arr = array.array('i',[1,2,3,4,5])\n",
    "print(arr)"
   ]
  },
  {
   "cell_type": "code",
   "execution_count": 4,
   "id": "fdffab8c",
   "metadata": {},
   "outputs": [
    {
     "name": "stdout",
     "output_type": "stream",
     "text": [
      "4.0\n",
      "3.141592653589793\n"
     ]
    }
   ],
   "source": [
    "import math\n",
    "print(math.sqrt(16))\n",
    "print(math.pi)"
   ]
  },
  {
   "cell_type": "code",
   "execution_count": 6,
   "id": "81fa2d14",
   "metadata": {},
   "outputs": [
    {
     "name": "stdout",
     "output_type": "stream",
     "text": [
      "6\n",
      "cherry\n"
     ]
    }
   ],
   "source": [
    "import random\n",
    "print(random.randint(1,10))\n",
    "print(random.choice(['apple', 'banana', 'cherry']))"
   ]
  },
  {
   "cell_type": "code",
   "execution_count": 7,
   "id": "9f142c21",
   "metadata": {},
   "outputs": [
    {
     "name": "stdout",
     "output_type": "stream",
     "text": [
      "d:\\KrishAi\\Section-06\n"
     ]
    }
   ],
   "source": [
    "## File and directory access\n",
    "\n",
    "import os\n",
    "print(os.getcwd())"
   ]
  },
  {
   "cell_type": "code",
   "execution_count": null,
   "id": "b5d884dc",
   "metadata": {},
   "outputs": [],
   "source": [
    "os.mkdir('test_os') # creates a folder named test_os"
   ]
  },
  {
   "cell_type": "code",
   "execution_count": null,
   "id": "6fd5103f",
   "metadata": {},
   "outputs": [
    {
     "data": {
      "text/plain": [
       "'02destication.txt'"
      ]
     },
     "execution_count": 9,
     "metadata": {},
     "output_type": "execute_result"
    }
   ],
   "source": [
    "## High level operations on files and collection of files\n",
    "\n",
    "import shutil\n",
    "\n",
    "shutil.copyfile('02_source.txt', '02_destication.txt')"
   ]
  },
  {
   "cell_type": "code",
   "execution_count": 11,
   "id": "6e5f879e",
   "metadata": {},
   "outputs": [
    {
     "name": "stdout",
     "output_type": "stream",
     "text": [
      "{\"name\": \"krish\", \"age\": 25}\n",
      "<class 'str'>\n",
      "{'name': 'krish', 'age': 25}\n",
      "<class 'dict'>\n"
     ]
    }
   ],
   "source": [
    "# Data Serialization\n",
    "import json\n",
    "\n",
    "# dictionary -> json\n",
    "data = {'name':'krish',  'age':25}\n",
    "json_str = json.dumps(data)\n",
    "\n",
    "print(json_str)\n",
    "print(type(json_str))\n",
    "\n",
    "# json -> dictionary\n",
    "parsed_Data = json.loads(json_str)\n",
    "print(parsed_Data)\n",
    "print(type(parsed_Data))"
   ]
  },
  {
   "cell_type": "code",
   "execution_count": 1,
   "id": "20cc0028",
   "metadata": {},
   "outputs": [
    {
     "name": "stdout",
     "output_type": "stream",
     "text": [
      "['name', 'age']\n",
      "['krish', '32']\n"
     ]
    }
   ],
   "source": [
    "# csv\n",
    "import csv\n",
    "with open ('example_02.csv', mode='w', newline='') as file:\n",
    "    writer = csv.writer(file)\n",
    "    writer.writerow(['name', 'age'])\n",
    "    writer.writerow(['krish', 32])\n",
    "\n",
    "with open ('example_02.csv', mode='r') as file:\n",
    "    reader = csv.reader(file)\n",
    "    for row in reader:\n",
    "        print(row)"
   ]
  },
  {
   "cell_type": "code",
   "execution_count": 2,
   "id": "e00307c3",
   "metadata": {},
   "outputs": [
    {
     "name": "stdout",
     "output_type": "stream",
     "text": [
      "2025-10-15 20:27:30.037052\n",
      "2025-10-14 20:27:30.037052\n"
     ]
    }
   ],
   "source": [
    "# Date Time\n",
    "from datetime import datetime, timedelta\n",
    "\n",
    "now = datetime.now()\n",
    "print(now)\n",
    "\n",
    "yesterday = now-timedelta(days=1)\n",
    "print(yesterday)"
   ]
  },
  {
   "cell_type": "code",
   "execution_count": 4,
   "id": "dc61f429",
   "metadata": {},
   "outputs": [
    {
     "name": "stdout",
     "output_type": "stream",
     "text": [
      "1760540351.1297884\n",
      "1760540353.143466\n"
     ]
    }
   ],
   "source": [
    "# time\n",
    "import time\n",
    "print(time.time())\n",
    "\n",
    "time.sleep(2)\n",
    "print(time.time())"
   ]
  },
  {
   "cell_type": "code",
   "execution_count": null,
   "id": "092e4fbc",
   "metadata": {},
   "outputs": [
    {
     "name": "stdout",
     "output_type": "stream",
     "text": [
      "1\n"
     ]
    }
   ],
   "source": [
    "# Regular Expression(ReGex)\n",
    "\n",
    "import re\n",
    "\n",
    "pattern = r'\\d+'\n",
    "text = 'There are 123 Apples'\n",
    "match = re.search(pattern,text)\n",
    "print(match.group())"
   ]
  },
  {
   "cell_type": "code",
   "execution_count": null,
   "id": "9fe90faf",
   "metadata": {},
   "outputs": [],
   "source": []
  }
 ],
 "metadata": {
  "kernelspec": {
   "display_name": "Python 3",
   "language": "python",
   "name": "python3"
  },
  "language_info": {
   "codemirror_mode": {
    "name": "ipython",
    "version": 3
   },
   "file_extension": ".py",
   "mimetype": "text/x-python",
   "name": "python",
   "nbconvert_exporter": "python",
   "pygments_lexer": "ipython3",
   "version": "3.10.18"
  }
 },
 "nbformat": 4,
 "nbformat_minor": 5
}

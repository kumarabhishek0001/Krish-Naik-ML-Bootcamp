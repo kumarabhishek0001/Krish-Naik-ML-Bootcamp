{
 "cells": [
  {
   "cell_type": "code",
   "execution_count": null,
   "id": "506ee4ce",
   "metadata": {},
   "outputs": [
    {
     "name": "stdout",
     "output_type": "stream",
     "text": [
      "hello!! there\n",
      "how are you doin?\n",
      "It's a lovely night\n"
     ]
    }
   ],
   "source": [
    "# Reading a file\n",
    "with open('sample.txt', 'r') as file:\n",
    "    content = file.read()\n",
    "print(content)"
   ]
  },
  {
   "cell_type": "code",
   "execution_count": null,
   "id": "b106980d",
   "metadata": {},
   "outputs": [
    {
     "name": "stdout",
     "output_type": "stream",
     "text": [
      "['hello!! there\\n', 'how are you doin?\\n', \"It's a lovely night\"]\n",
      "<class 'list'>\n",
      "hello!! there\n",
      "how are you doin?\n",
      "It's a lovely night\n"
     ]
    }
   ],
   "source": [
    "# Reading a file\n",
    "\n",
    "with open('sample.txt', 'r') as file:\n",
    "    lines = file.readlines()\n",
    "print(lines)\n",
    "print(type(lines))\n",
    "\n",
    "for line in lines:\n",
    "    line = line.strip() # removes all the newline characters\n",
    "    print(line)"
   ]
  },
  {
   "cell_type": "code",
   "execution_count": null,
   "id": "bf293508",
   "metadata": {},
   "outputs": [],
   "source": [
    "# Writing a file\n",
    "\n",
    "lst_of_sentence = [\n",
    "    \"This is a new file\\n\",\n",
    "    \"I am writing in this new file\\n\",\n",
    "    \"All the lines are new line characters\\n\"\n",
    "]\n",
    "\n",
    "with open('output.txt', 'w') as file:\n",
    "    file.write(\"Just writing one line\\n\")\n",
    "    file.write('All this will be overwritten')\n"
   ]
  },
  {
   "cell_type": "code",
   "execution_count": null,
   "id": "3afc1e91",
   "metadata": {},
   "outputs": [],
   "source": [
    "# Writing a list to file\n",
    "with open('output.txt', 'w') as file:\n",
    "    file.writelines(lst_of_sentence)"
   ]
  },
  {
   "cell_type": "code",
   "execution_count": 7,
   "id": "f84e2609",
   "metadata": {},
   "outputs": [],
   "source": [
    "# creating a file\n",
    "file_name = 'source.txt'\n",
    "file_content = ['this is a source file\\n',\n",
    "                'get all content from this file\\n',\n",
    "                'paste it in a new file\\n'\n",
    "                ]\n",
    "\n",
    "with open(file_name, 'w') as file:\n",
    "    file.writelines(file_content)\n",
    "    # moving the cursor to the top\n",
    "    file.seek(0)\n",
    "\n",
    "# copying file contents\n",
    "with open(file_name, 'r') as file:\n",
    "    content = file.read()\n",
    "\n",
    "# writing the file contents to other file\n",
    "with open('destination.txt', 'w') as file:\n",
    "    file.writelines(content)"
   ]
  },
  {
   "cell_type": "code",
   "execution_count": 8,
   "id": "823541d8",
   "metadata": {},
   "outputs": [],
   "source": [
    "file_content = [\"this is a log file\\n\",\"new content will be appended at last\\n\"]\n",
    "new_content = [\"this is new content\\n\", \"this will be appended\\n\"]\n",
    "with open('log.txt', 'w') as file:\n",
    "    file.writelines(file_content)\n",
    "    \n",
    "with open('log.txt', 'a') as file:\n",
    "    file.writelines(new_content)"
   ]
  },
  {
   "cell_type": "code",
   "execution_count": null,
   "id": "44ece85c",
   "metadata": {},
   "outputs": [
    {
     "name": "stdout",
     "output_type": "stream",
     "text": [
      "['this', 'is', 'a', 'log', 'file', 'new', 'content', 'will', 'be', 'appended', 'at', 'last', 'this', 'is', 'new', 'content', 'this', 'will', 'be', 'appended']\n",
      "20\n"
     ]
    }
   ],
   "source": [
    "# Assignment 5: counting words\n",
    "\n",
    "def word_count(file_path):\n",
    "    with open(file_path, 'r') as file:\n",
    "        collect = []\n",
    "        lines = file.readlines()\n",
    "        for line in lines:\n",
    "            stripped = line.split()\n",
    "            for word in stripped:\n",
    "                collect.append(word)\n",
    "    return collect, len(collect)\n",
    "\n",
    "filepath = 'log.txt'\n",
    "\n",
    "lst, word_frequency = word_count(filepath)\n",
    "print(lst)\n",
    "print(word_frequency)\n",
    "\n",
    "\n",
    "\n",
    " "
   ]
  },
  {
   "cell_type": "code",
   "execution_count": 12,
   "id": "6bb0fa03",
   "metadata": {},
   "outputs": [],
   "source": [
    "# Assignment: 6\n",
    "\n",
    "def find_and_replace(filename, old_word, new_word):\n",
    "    with open(filename, 'r') as file:\n",
    "        text = file.read()\n",
    "    new_text = text.replace(old_word, new_word)\n",
    "    with open(filename, 'w') as file:\n",
    "        file.write(new_text)\n",
    "\n",
    "find_and_replace('data.txt', \"Hello\", \"Hii\")"
   ]
  },
  {
   "cell_type": "code",
   "execution_count": null,
   "id": "fd6b21bd",
   "metadata": {},
   "outputs": [
    {
     "name": "stdout",
     "output_type": "stream",
     "text": [
      "Hii I am fine wbu?\n",
      "Hii how are you?\n"
     ]
    }
   ],
   "source": [
    "# Assignment:7\n",
    "def read_reverse(filename):\n",
    "    with open(filename, 'r') as file:\n",
    "        lines = file.readlines()\n",
    "    for line in reversed(lines):\n",
    "        print(line.strip())\n",
    "\n",
    "    \n",
    "read_reverse('data.txt')\n",
    "\n"
   ]
  },
  {
   "cell_type": "code",
   "execution_count": 3,
   "id": "27b1651c",
   "metadata": {},
   "outputs": [
    {
     "name": "stdout",
     "output_type": "stream",
     "text": [
      "4\n",
      "20\n",
      "78\n"
     ]
    }
   ],
   "source": [
    "# Assignemnt: 8\n",
    "\n",
    "def file_analyze(filepath):\n",
    "    lines = []\n",
    "    words = []\n",
    "    characters = []\n",
    "    with open(filepath, 'r') as file:\n",
    "        for line in file:\n",
    "            clean_line = line.strip()\n",
    "            lines.append(clean_line)\n",
    "\n",
    "            words.extend(clean_line.split())\n",
    "\n",
    "            for char in clean_line:\n",
    "                if char != ' ':\n",
    "                    characters.append(char)\n",
    "    return lines, words, characters\n",
    "\n",
    "line_count, word_count, char_count = file_analyze('log.txt')\n",
    "print(len(line_count), end='\\n')\n",
    "print(len(word_count), end='\\n')\n",
    "print(len(char_count), end='\\n')\n"
   ]
  },
  {
   "cell_type": "code",
   "execution_count": 8,
   "id": "b59dbf8e",
   "metadata": {},
   "outputs": [],
   "source": [
    "# Assignment: 9\n",
    "\n",
    "def merge_content(file_list, output_file):\n",
    "    with open(output_file, 'w') as writefile:\n",
    "        for file in file_list:\n",
    "            with open(file, 'r') as readfile:\n",
    "               writefile.write(readfile.read()+'\\n')\n",
    "\n",
    "filelist = ['sample.txt', 'log.txt']\n",
    "merge_content(filelist, 'output.txt')"
   ]
  },
  {
   "cell_type": "code",
   "execution_count": 19,
   "id": "fa237028",
   "metadata": {},
   "outputs": [
    {
     "name": "stdout",
     "output_type": "stream",
     "text": [
      "4\n"
     ]
    }
   ],
   "source": [
    "# Assignement: 10\n",
    "\n",
    "count = 0\n",
    "lst_of_content = []\n",
    "with open('three_hundred_eight_lines.txt', 'r') as file:\n",
    "    content = []\n",
    "    for line in file:\n",
    "        # print(line)\n",
    "        content.append(line)\n",
    "        count = count + 1\n",
    "        # print(f\"content[]: {content}\")\n",
    "        # print(f\"lst_of_content[]: {lst_of_content}\")\n",
    "        # print(\"-----------\")\n",
    "\n",
    "        if count == 100:\n",
    "            lst_of_content.append(content)\n",
    "            content = []\n",
    "            count = 0\n",
    "    if content != []:\n",
    "        lst_of_content.append(content)\n",
    "        content = []\n",
    "\n",
    "\n",
    "        \n",
    "# print(f'final: {lst_of_content}')\n",
    "print(len(lst_of_content))\n",
    "\n",
    "file_name = 'split'\n",
    "number_of_file = 0\n",
    "\n",
    "for contents in lst_of_content:\n",
    "    with open(str(number_of_file)+file_name+'.txt', 'w') as file:\n",
    "        file.writelines(contents)\n",
    "    number_of_file+=1\n",
    "\n",
    "\n"
   ]
  },
  {
   "cell_type": "code",
   "execution_count": 21,
   "id": "80b3e799",
   "metadata": {},
   "outputs": [],
   "source": [
    "# writing 1054 lines \n",
    "with open('three_hundred_eight_lines.txt', 'a') as file:\n",
    "    count = 312\n",
    "    while count<=1054:\n",
    "        file.write(f'This is line number {count}\\n')\n",
    "        count = count + 1\n"
   ]
  },
  {
   "cell_type": "code",
   "execution_count": null,
   "id": "a7123b15",
   "metadata": {},
   "outputs": [],
   "source": [
    "# Assignment: 10\n",
    "\n",
    "def split_largefile(filepath):\n",
    "    count = 0\n",
    "    lst_of_content = []\n",
    "    with open('three_hundred_eight_lines.txt', 'r') as file:\n",
    "        content = []\n",
    "    for line in file:\n",
    "        \n",
    "        content.append(line)\n",
    "        count = count + 1\n",
    "        \n",
    "\n",
    "        if count == 100:\n",
    "            lst_of_content.append(content)\n",
    "            content = []\n",
    "            count = 0\n",
    "    if content != []:\n",
    "        lst_of_content.append(content)\n",
    "        content = []\n",
    "\n",
    "    print(len(lst_of_content))\n",
    "\n",
    "    file_name = 'split'\n",
    "    number_of_file = 0\n",
    "\n",
    "    for contents in lst_of_content:\n",
    "        with open(str(number_of_file)+file_name+'.txt', 'w') as file:\n",
    "            file.writelines(contents)\n",
    "        number_of_file+=1"
   ]
  }
 ],
 "metadata": {
  "kernelspec": {
   "display_name": "Python 3",
   "language": "python",
   "name": "python3"
  },
  "language_info": {
   "codemirror_mode": {
    "name": "ipython",
    "version": 3
   },
   "file_extension": ".py",
   "mimetype": "text/x-python",
   "name": "python",
   "nbconvert_exporter": "python",
   "pygments_lexer": "ipython3",
   "version": "3.10.18"
  }
 },
 "nbformat": 4,
 "nbformat_minor": 5
}

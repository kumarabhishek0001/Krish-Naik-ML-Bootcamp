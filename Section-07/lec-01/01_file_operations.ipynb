{
 "cells": [
  {
   "cell_type": "markdown",
   "id": "172acd86",
   "metadata": {},
   "source": [
    "## File Operations - Read and Write Files\n",
    "\n",
    "- Python provides built-in functions and methods to read from and write to files, both text and binaries.\n"
   ]
  },
  {
   "cell_type": "markdown",
   "id": "cbd144df",
   "metadata": {},
   "source": [
    "### Working with Text files"
   ]
  },
  {
   "cell_type": "code",
   "execution_count": null,
   "id": "af0bbc81",
   "metadata": {},
   "outputs": [
    {
     "name": "stdout",
     "output_type": "stream",
     "text": [
      "Hello, How are you?\n",
      "I am good.\n",
      "Abhishek is my name.\n",
      "Just making sure I complete the course.\n"
     ]
    }
   ],
   "source": [
    "# reading complete file all at once\n",
    "\n",
    "with open('01_example.txt', mode='r') as file:\n",
    "    content = file.read()\n",
    "    print(content)\n"
   ]
  },
  {
   "cell_type": "code",
   "execution_count": null,
   "id": "a1483f31",
   "metadata": {},
   "outputs": [
    {
     "name": "stdout",
     "output_type": "stream",
     "text": [
      "Hello, How are you?\n",
      "I am good.\n",
      "Abhishek is my name.\n",
      "Just making sure I complete the course.\n"
     ]
    }
   ],
   "source": [
    "# reading file line by line\n",
    "with open('01_example.txt', mode='r') as file:\n",
    "    for line in file:\n",
    "        print(line.strip()) ## strip() remove the newline character\n",
    "    "
   ]
  },
  {
   "cell_type": "code",
   "execution_count": 13,
   "id": "f8bf9790",
   "metadata": {},
   "outputs": [],
   "source": [
    "# Writing a file(overwriting)\n",
    "\n",
    "with open('01_example.txt', mode='w') as file:\n",
    "    file.write('Hello World!!\\n')\n",
    "    file.write('This is a new line\\n')\n",
    "\n",
    "# All previous lines were removed and these 2 new lines were added\n"
   ]
  },
  {
   "cell_type": "code",
   "execution_count": null,
   "id": "0d952cba",
   "metadata": {},
   "outputs": [],
   "source": [
    "# Write a file without overwrittning\n",
    "\n",
    "with open('01_example.txt', 'a') as file:\n",
    "    file.write('New line character is used\\n') # new line\n",
    "    file.write('No new line character is used') # no new line\n",
    "    "
   ]
  },
  {
   "cell_type": "code",
   "execution_count": 14,
   "id": "011253d3",
   "metadata": {},
   "outputs": [],
   "source": [
    "# writing list of lines to file\n",
    "lines = ['first line\\n', 'second line', 'Third line\\n']\n",
    "\n",
    "with open('01_example.txt', 'a') as file:\n",
    "    file.writelines(lines)\n"
   ]
  },
  {
   "cell_type": "markdown",
   "id": "39b10858",
   "metadata": {},
   "source": [
    "### Working with binary files"
   ]
  },
  {
   "cell_type": "code",
   "execution_count": 15,
   "id": "39aaff6f",
   "metadata": {},
   "outputs": [],
   "source": [
    "# Binary Files\n",
    "\n",
    "data = b'\\x00\\x01\\x02\\x03\\x04'\n",
    "with open('01_example.bin', 'wb') as file:\n",
    "    content = file.write(data)"
   ]
  },
  {
   "cell_type": "code",
   "execution_count": 18,
   "id": "0950bd56",
   "metadata": {},
   "outputs": [
    {
     "name": "stdout",
     "output_type": "stream",
     "text": [
      "b'\\x00\\x01\\x02\\x03\\x04'\n",
      "[0, 1, 2, 3, 4]\n"
     ]
    }
   ],
   "source": [
    "\n",
    "with open('01_example.bin', 'rb') as file:\n",
    "    content = file.read()\n",
    "    print((content))\n",
    "    print(list(content))"
   ]
  },
  {
   "cell_type": "code",
   "execution_count": 19,
   "id": "1f02fc44",
   "metadata": {},
   "outputs": [],
   "source": [
    "# read content from source text file and write it to a destination file\n",
    "\n",
    "with open('01_example.txt', 'r') as file:\n",
    "    content = file.read()\n",
    "\n",
    "with open('destination.txt', 'w') as destination_file:\n",
    "    destination_file.write(content)"
   ]
  },
  {
   "cell_type": "code",
   "execution_count": 32,
   "id": "7fbf922c",
   "metadata": {},
   "outputs": [
    {
     "name": "stdout",
     "output_type": "stream",
     "text": [
      "Lines: 12, Words: 12, Characters: 66\n"
     ]
    }
   ],
   "source": [
    "# read a text file and count the number of lines, word, characters\n",
    "\n",
    "def count_text_file(file_path):\n",
    "    with open(file_path, 'r') as file:\n",
    "        lines = file.readlines()\n",
    "        line_count = len(lines)\n",
    "\n",
    "        line_count = sum(len(line.split()) for line in lines)\n",
    "\n",
    "        char_count = sum(len(line) for line in lines)\n",
    "\n",
    "        return line_count, line_count, char_count\n",
    "\n",
    "file_path = '01_example.txt'\n",
    "lines, words, characters = count_text_file(file_path)\n",
    "print(f'Lines: {lines}, Words: {words}, Characters: {characters}')"
   ]
  },
  {
   "cell_type": "code",
   "execution_count": 34,
   "id": "6995d61a",
   "metadata": {},
   "outputs": [
    {
     "name": "stdout",
     "output_type": "stream",
     "text": [
      "['Hello World!!\\n', 'This is a new line\\n', 'first line\\n', 'second lineThird line\\n']\n",
      "<class 'list'>\n",
      "['Hello', 'World!!']\n",
      "['This', 'is', 'a', 'new', 'line']\n",
      "['first', 'line']\n",
      "['second', 'lineThird', 'line']\n"
     ]
    }
   ],
   "source": [
    "with open(file_path, 'r') as file:\n",
    "        lines = file.readlines()\n",
    "        print(lines)\n",
    "        print(type(lines))\n",
    "        \n",
    "        for line in lines:\n",
    "                print(line.split())\n",
    "        "
   ]
  },
  {
   "cell_type": "markdown",
   "id": "0b6255e8",
   "metadata": {},
   "source": [
    "### W+ Mode\n",
    "- Mode used for both reading and writting.\n",
    "- if the file does not exist it will be created.\n",
    "- if the file exists the file will be trucated i.e overwritten"
   ]
  },
  {
   "cell_type": "code",
   "execution_count": 35,
   "id": "01647fed",
   "metadata": {},
   "outputs": [
    {
     "name": "stdout",
     "output_type": "stream",
     "text": [
      "Hello world!!\n",
      "This is a new line\n",
      "\n"
     ]
    }
   ],
   "source": [
    "with open('01_example.txt', 'w+') as file:\n",
    "    # writing in the file\n",
    "    file.write('Hello world!!\\n')\n",
    "    file.write('This is a new line\\n')\n",
    "\n",
    "    # in order to read the cursor must be on the 0 position\n",
    "    file.seek(0)\n",
    "\n",
    "    # Read the content of the file\n",
    "    content = file.read()\n",
    "    print(content)\n",
    "    "
   ]
  },
  {
   "cell_type": "code",
   "execution_count": null,
   "id": "894837cf",
   "metadata": {},
   "outputs": [],
   "source": []
  }
 ],
 "metadata": {
  "kernelspec": {
   "display_name": "Python 3",
   "language": "python",
   "name": "python3"
  },
  "language_info": {
   "codemirror_mode": {
    "name": "ipython",
    "version": 3
   },
   "file_extension": ".py",
   "mimetype": "text/x-python",
   "name": "python",
   "nbconvert_exporter": "python",
   "pygments_lexer": "ipython3",
   "version": "3.10.18"
  }
 },
 "nbformat": 4,
 "nbformat_minor": 5
}

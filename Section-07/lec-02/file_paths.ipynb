{
 "cells": [
  {
   "cell_type": "markdown",
   "id": "aced5273",
   "metadata": {},
   "source": [
    "## File Path\n"
   ]
  },
  {
   "cell_type": "code",
   "execution_count": 1,
   "id": "50bf8480",
   "metadata": {},
   "outputs": [
    {
     "name": "stdout",
     "output_type": "stream",
     "text": [
      "Directory 'package' created successfully\n"
     ]
    }
   ],
   "source": [
    "# create a new directory\n",
    "\n",
    "import os\n",
    "directory = 'package'\n",
    "os.mkdir(directory)\n",
    "\n",
    "print(f'Directory \\'{directory}\\' created successfully')"
   ]
  },
  {
   "cell_type": "code",
   "execution_count": 3,
   "id": "dd8880fb",
   "metadata": {},
   "outputs": [
    {
     "name": "stdout",
     "output_type": "stream",
     "text": [
      "['01_example.bin', '01_example.txt', '01_file_operations.ipynb', 'destination.txt']\n"
     ]
    }
   ],
   "source": [
    "# listing files and directories\n",
    "\n",
    "items = os.listdir('../lec-01')\n",
    "print(items)"
   ]
  },
  {
   "cell_type": "code",
   "execution_count": 4,
   "id": "f19ae42e",
   "metadata": {},
   "outputs": [
    {
     "name": "stdout",
     "output_type": "stream",
     "text": [
      "folder_check\\file.txt\n"
     ]
    }
   ],
   "source": [
    "# Joining path\n",
    "\n",
    "dir_path = 'folder_check'\n",
    "file_path = 'file.txt'\n",
    "full_path = os.path.join(dir_path, file_path)\n",
    "print(full_path)"
   ]
  },
  {
   "cell_type": "code",
   "execution_count": 5,
   "id": "a90987e3",
   "metadata": {},
   "outputs": [
    {
     "name": "stdout",
     "output_type": "stream",
     "text": [
      "d:\\KrishAi\\Section-07\\lec-02\\folder_check\\file.txt\n"
     ]
    }
   ],
   "source": [
    "dir_path = 'folder_check'\n",
    "file_path = 'file.txt'\n",
    "full_path = os.path.join(os.getcwd() ,dir_path, file_path)\n",
    "print(full_path)"
   ]
  },
  {
   "cell_type": "code",
   "execution_count": 7,
   "id": "f03903c9",
   "metadata": {},
   "outputs": [
    {
     "name": "stdout",
     "output_type": "stream",
     "text": [
      "path examples.txt exists\n"
     ]
    }
   ],
   "source": [
    "# check if the path exists\n",
    "path = 'examples.txt'\n",
    "if os.path.exists(path):\n",
    "    print(f'path {path} exists')\n",
    "else:\n",
    "    print(F'path: {path} does not exist')"
   ]
  },
  {
   "cell_type": "code",
   "execution_count": 8,
   "id": "86b66291",
   "metadata": {},
   "outputs": [
    {
     "name": "stdout",
     "output_type": "stream",
     "text": [
      "examples.txt is a file\n"
     ]
    }
   ],
   "source": [
    "# check if the path is directory of file\n",
    "path = 'examples.txt'\n",
    "\n",
    "if os.path.isfile(path):\n",
    "    print(f'{path} is a file')\n",
    "elif os.path.isdir(path):\n",
    "    print(f'{path} is a path')\n",
    "else:\n",
    "    print(f'{path} does not exist')"
   ]
  },
  {
   "cell_type": "code",
   "execution_count": 9,
   "id": "14e9cf1f",
   "metadata": {},
   "outputs": [
    {
     "name": "stdout",
     "output_type": "stream",
     "text": [
      "d:\\KrishAi\\Section-07\\lec-02\\examples.txt\n"
     ]
    }
   ],
   "source": [
    "# getting absolute path\n",
    "relative_path = 'examples.txt'\n",
    "absolute_path = os.path.abspath(relative_path)\n",
    "print(absolute_path)"
   ]
  },
  {
   "cell_type": "code",
   "execution_count": null,
   "id": "9b943dcf",
   "metadata": {},
   "outputs": [],
   "source": []
  }
 ],
 "metadata": {
  "kernelspec": {
   "display_name": "Python 3",
   "language": "python",
   "name": "python3"
  },
  "language_info": {
   "codemirror_mode": {
    "name": "ipython",
    "version": 3
   },
   "file_extension": ".py",
   "mimetype": "text/x-python",
   "name": "python",
   "nbconvert_exporter": "python",
   "pygments_lexer": "ipython3",
   "version": "3.10.18"
  }
 },
 "nbformat": 4,
 "nbformat_minor": 5
}

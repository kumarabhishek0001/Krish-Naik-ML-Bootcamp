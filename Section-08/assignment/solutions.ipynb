{
 "cells": [
  {
   "cell_type": "code",
   "execution_count": null,
   "id": "0d87a406",
   "metadata": {},
   "outputs": [
    {
     "name": "stdout",
     "output_type": "stream",
     "text": [
      "error: division by zero\n",
      "final result\n"
     ]
    }
   ],
   "source": [
    "# Assignment: 1\n",
    "\n",
    "try:\n",
    "    num1 = int(input(\"Eneter number 1:\"))\n",
    "    num2 = int(input(\"Eneter number 2:\"))\n",
    "\n",
    "    result = num1/num2\n",
    "except ZeroDivisionError as zr:\n",
    "    print(f'error: {zr}')\n",
    "except Exception as ex:\n",
    "    print(f'error: {ex}')\n",
    "else:\n",
    "    print(result)\n",
    "finally:\n",
    "    print('Calculation Completed')"
   ]
  },
  {
   "cell_type": "code",
   "execution_count": 4,
   "id": "c190c46e",
   "metadata": {},
   "outputs": [
    {
     "name": "stdout",
     "output_type": "stream",
     "text": [
      "file to check function\n",
      "function tries to read file content\n",
      "if file exists \n",
      "else handles the error\n",
      "function executed\n"
     ]
    }
   ],
   "source": [
    "# Assignment: 2\n",
    "\n",
    "def readfile(filepath):\n",
    "    try:\n",
    "        file = open(filepath, 'r')\n",
    "        content = file.read()\n",
    "    except FileNotFoundError as fr:\n",
    "        print(f\"Error: {fr}\")\n",
    "    except Exception as ex:\n",
    "        print(f\"Error: {ex}\")\n",
    "    else:\n",
    "        print(content)\n",
    "    finally:\n",
    "        if 'file' in locals() and not file.closed:\n",
    "            file.close()\n",
    "            print(\"function executed\")\n",
    "\n",
    "readfile('data.txt')\n",
    "\n"
   ]
  },
  {
   "cell_type": "code",
   "execution_count": 9,
   "id": "053a9d48",
   "metadata": {},
   "outputs": [
    {
     "name": "stdout",
     "output_type": "stream",
     "text": [
      "unsupported operand type(s) for +: 'int' and 'str'\n",
      "error at 2\n",
      "finally result: 3\n",
      "function concluded\n"
     ]
    }
   ],
   "source": [
    "def summation(lst_of_integers):\n",
    "    sum = 0\n",
    "    try:\n",
    "        for index, item in enumerate(lst_of_integers):\n",
    "            sum = sum + item\n",
    "    except Exception as ex:\n",
    "        print(ex)\n",
    "        print(f\"error at {index}\")\n",
    "        pass\n",
    "    else:\n",
    "        print(\"else sum:\",sum)\n",
    "    finally:\n",
    "        print(f'finally result: {sum}')\n",
    "        print(\"function concluded\")\n",
    "\n",
    "lst = [1,2,'a',3]\n",
    "summation(lst)"
   ]
  },
  {
   "cell_type": "code",
   "execution_count": 14,
   "id": "5588ce79",
   "metadata": {},
   "outputs": [
    {
     "name": "stdout",
     "output_type": "stream",
     "text": [
      "error at index: 2 \n",
      "unsupported operand type(s) for +: 'int' and 'str'\n",
      "6\n"
     ]
    }
   ],
   "source": [
    "def summation(lst_of_integers):\n",
    "    sum = 0\n",
    "    for index, val in enumerate(lst_of_integers):\n",
    "        try:\n",
    "            sum = sum + val\n",
    "        except Exception as ex:\n",
    "            print(f\"error at index: {index} \\n{ex}\")\n",
    "            pass\n",
    "    print(sum)\n",
    "\n",
    "summation([1,2,'a',3])"
   ]
  },
  {
   "cell_type": "code",
   "execution_count": 20,
   "id": "1fba11fb",
   "metadata": {},
   "outputs": [
    {
     "name": "stdout",
     "output_type": "stream",
     "text": [
      "Error: invalid literal for int() with base 10: 'a'\n",
      "please enter a valid integer\n",
      "Execution Completed\n",
      "None\n"
     ]
    }
   ],
   "source": [
    "# Assignment 4:\n",
    "\n",
    "def enter_integer():\n",
    "    try:\n",
    "        value = int(input(\"Enter an integer:\"))\n",
    "    except Exception as ex:\n",
    "        print(f\"Error:\",ex)\n",
    "        print('please enter a valid integer')\n",
    "        value = None\n",
    "    else:\n",
    "        print(f\"entered value: {value}\")\n",
    "    finally:\n",
    "        print(\"Execution Completed\")\n",
    "    return  value\n",
    "\n",
    "val = enter_integer()\n",
    "print(val)"
   ]
  },
  {
   "cell_type": "code",
   "execution_count": 23,
   "id": "26f1c596",
   "metadata": {},
   "outputs": [
    {
     "name": "stdout",
     "output_type": "stream",
     "text": [
      "No value corresponding to the key year\n",
      "error name: KeyError\n",
      "error: 'year'\n",
      "execution completed.\n",
      "None\n"
     ]
    }
   ],
   "source": [
    "# Assignment 5:\n",
    "def get_dict_value(dict, key_):\n",
    "    try:\n",
    "        value_ = dict[key_]\n",
    "    except Exception as ex:\n",
    "        print(\"No value corresponding to the key\", key_)\n",
    "        print(f\"error name: {type(ex).__name__}\")\n",
    "        print(f\"error: {ex}\")\n",
    "        value_ = None\n",
    "    finally:\n",
    "        print('execution completed.')\n",
    "    return value_\n",
    "\n",
    "student1 = {\n",
    "    \"name\": \"abhishek\",\n",
    "    \"branch\": \"ECE\"\n",
    "}\n",
    "\n",
    "result = get_dict_value(student1, 'year')\n",
    "print(result)\n",
    "\n"
   ]
  },
  {
   "cell_type": "code",
   "execution_count": 28,
   "id": "efa6b517",
   "metadata": {},
   "outputs": [
    {
     "name": "stdout",
     "output_type": "stream",
     "text": [
      "ZeroDivisionError: division by zero\n",
      "0 cannot be denominator\n",
      "DivideByZeroError checked\n",
      "Execution completed\n",
      "0\n",
      "<class 'int'>\n"
     ]
    }
   ],
   "source": [
    "# try to convert string -> integer\n",
    "# \"0\" -> 0 => try 12/0 -> excpet\n",
    "# a -> nope except\n",
    "\n",
    "def string_to_int(val):\n",
    "    try:\n",
    "        val = int(val)\n",
    "\n",
    "        try:\n",
    "            infinity_check = 12/val\n",
    "        except Exception as ex_inner:\n",
    "            print(f'{type(ex_inner).__name__}: {ex_inner}')\n",
    "            print(f'{val} cannot be denominator')\n",
    "        finally:\n",
    "            print('DivideByZeroError checked')\n",
    "\n",
    "    except Exception as ex:\n",
    "        print(f'{type(ex).__name__}: {ex}')\n",
    "        print(f\"'{val}' cannot be converted to integer.\")\n",
    "    finally:\n",
    "        print(\"Execution completed\")\n",
    "    print(val)\n",
    "    print(type(val))\n",
    "\n",
    "string_to_int('0')\n"
   ]
  },
  {
   "cell_type": "code",
   "execution_count": 29,
   "id": "741c1c87",
   "metadata": {},
   "outputs": [
    {
     "name": "stdout",
     "output_type": "stream",
     "text": [
      "IndexError: list index out of range\n",
      "Please Enter a valid index\n",
      "Execution Completed\n"
     ]
    }
   ],
   "source": [
    "# Assignment 7:\n",
    "\n",
    "def value_at_index(lst, index_):\n",
    "    try:\n",
    "        value = lst[index_]\n",
    "    except IndexError as ir:\n",
    "        print(f\"{type(ir).__name__}: {ir}\")\n",
    "        print(\"Please Enter a valid index\")\n",
    "        value = None\n",
    "    finally:\n",
    "        print(\"Execution Completed\")\n",
    "    return value\n",
    "\n",
    "lst = [0,1,2,3,4]\n",
    "value = value_at_index(lst, 5)"
   ]
  },
  {
   "cell_type": "code",
   "execution_count": 33,
   "id": "cc9e4aa7",
   "metadata": {},
   "outputs": [
    {
     "name": "stdout",
     "output_type": "stream",
     "text": [
      "Network error: HTTPSConnectionPool(host='nonexistent.url', port=443): Max retries exceeded with url: / (Caused by NameResolutionError(\"<urllib3.connection.HTTPSConnection object at 0x000001B063128160>: Failed to resolve 'nonexistent.url' ([Errno 11001] getaddrinfo failed)\"))\n",
      "Execution complete.\n",
      "None\n"
     ]
    }
   ],
   "source": [
    "# Assignment 8:\n",
    "\n",
    "import requests\n",
    "\n",
    "def read_url(url):\n",
    "    try:\n",
    "        response = requests.get(url)\n",
    "        response.raise_for_status()\n",
    "        return response.text\n",
    "    except requests.RequestException as e:\n",
    "        print(f\"Network error: {e}\")\n",
    "        return None\n",
    "    finally:\n",
    "        print(\"Execution complete.\")\n",
    "\n",
    "# print(read_url('https://jsonplaceholder.typicode.com/posts/1'))\n",
    "print(read_url('https://nonexistent.url'))"
   ]
  },
  {
   "cell_type": "code",
   "execution_count": 34,
   "id": "15398f31",
   "metadata": {},
   "outputs": [
    {
     "name": "stdout",
     "output_type": "stream",
     "text": [
      "An error occured in risky function\n",
      "execution completed\n"
     ]
    }
   ],
   "source": [
    "# Assignment 11:\n",
    "def risky_function():\n",
    "    raise ValueError(\"An error occured in risky function\")\n",
    "\n",
    "def safe_function():\n",
    "    try:\n",
    "        risky_function()\n",
    "    except ValueError as e:\n",
    "        print(e)\n",
    "    finally:\n",
    "        print('execution completed')\n",
    "\n",
    "safe_function()"
   ]
  },
  {
   "cell_type": "code",
   "execution_count": 35,
   "id": "a5d52360",
   "metadata": {},
   "outputs": [
    {
     "name": "stdout",
     "output_type": "stream",
     "text": [
      "execution complete\n",
      "5.0\n",
      "division by zero\n",
      "execution complete\n",
      "None\n"
     ]
    }
   ],
   "source": [
    "class Calculator:\n",
    "    def divide(self, a, b):\n",
    "        try: \n",
    "            result = a/b\n",
    "        except ZeroDivisionError as e:\n",
    "            print(e)\n",
    "            result = None\n",
    "        finally:\n",
    "            print('execution complete')\n",
    "        return result\n",
    "\n",
    "calc = Calculator()\n",
    "print(calc.divide(10, 2))\n",
    "print(calc.divide(10, 0))"
   ]
  },
  {
   "cell_type": "code",
   "execution_count": 41,
   "id": "e58161c9",
   "metadata": {},
   "outputs": [
    {
     "name": "stdout",
     "output_type": "stream",
     "text": [
      "Conversion Error at 3: invalid literal for int() with base 10: 'a'\n",
      "Conversion Error at 5: invalid literal for int() with base 10: 'b'\n"
     ]
    }
   ],
   "source": [
    "# Assignment 13:\n",
    "\n",
    "def type_conversion(lst_of_str):\n",
    "    lst_of_integer = []\n",
    "    for index, item in enumerate(lst_of_str):\n",
    "        try:\n",
    "            val = int(item)\n",
    "        except Exception as e:\n",
    "            print(f\"Conversion Error at {index}: {e}\")\n",
    "            \n",
    "        else:\n",
    "            lst_of_integer.append(val)\n",
    "    return lst_of_str, lst_of_integer\n",
    "\n",
    "lst = ['1', '2', '3', 'a', '4', 'b']\n",
    "left, converted = type_conversion(lst)"
   ]
  },
  {
   "cell_type": "code",
   "execution_count": 42,
   "id": "e61110f5",
   "metadata": {},
   "outputs": [
    {
     "name": "stdout",
     "output_type": "stream",
     "text": [
      "['1', '2', '3', 'a', '4', 'b']\n",
      "[1, 2, 3, 4]\n"
     ]
    }
   ],
   "source": [
    "print(left)\n",
    "print(converted)"
   ]
  },
  {
   "cell_type": "code",
   "execution_count": 44,
   "id": "92dfead2",
   "metadata": {},
   "outputs": [
    {
     "name": "stdout",
     "output_type": "stream",
     "text": [
      "conversion error: invalid literal for int() with base 10: 'a'\n",
      "execution complete\n",
      "None\n"
     ]
    }
   ],
   "source": [
    "# Assignment 14:\n",
    "\n",
    "def conversion_comprehension(lst_of_string):\n",
    "    \n",
    "    try:\n",
    "        integers = [int(item) for item in lst_of_string]\n",
    "    except ValueError as e:\n",
    "        print(f\"conversion error: {e}\")\n",
    "        integers = None\n",
    "    finally:\n",
    "        print(\"execution complete\")\n",
    "    return integers\n",
    "\n",
    "print(conversion_comprehension(['1', '2', '3', 'a', '4', 'b']))\n",
    "        "
   ]
  },
  {
   "cell_type": "code",
   "execution_count": 46,
   "id": "87e2c3e2",
   "metadata": {},
   "outputs": [
    {
     "name": "stdout",
     "output_type": "stream",
     "text": [
      "function executed\n"
     ]
    }
   ],
   "source": [
    "# Assignment 15:\n",
    "\n",
    "def write_in_file(filepath, lst_of_string):\n",
    "    try:\n",
    "        file = open(filepath, 'w')\n",
    "        file.writelines(lst_of_string)\n",
    "    except IOError as e:\n",
    "        print(f\"Writing error: {e}\")\n",
    "    finally:\n",
    "        if 'file' in locals() and file.closed:\n",
    "            file.close()\n",
    "        print(\"function executed\")\n",
    "filepath = 'output.txt'\n",
    "lst = [\"Hello, this is output file\\n\", \"this is to check function 'write to file'\\n\"]\n",
    "\n",
    "write_in_file(filepath, lst)"
   ]
  },
  {
   "cell_type": "code",
   "execution_count": null,
   "id": "69abee2d",
   "metadata": {},
   "outputs": [],
   "source": []
  }
 ],
 "metadata": {
  "kernelspec": {
   "display_name": "Python 3",
   "language": "python",
   "name": "python3"
  },
  "language_info": {
   "codemirror_mode": {
    "name": "ipython",
    "version": 3
   },
   "file_extension": ".py",
   "mimetype": "text/x-python",
   "name": "python",
   "nbconvert_exporter": "python",
   "pygments_lexer": "ipython3",
   "version": "3.10.18"
  }
 },
 "nbformat": 4,
 "nbformat_minor": 5
}

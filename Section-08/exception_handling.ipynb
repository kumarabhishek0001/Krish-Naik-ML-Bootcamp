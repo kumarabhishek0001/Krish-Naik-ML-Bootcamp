{
 "cells": [
  {
   "cell_type": "markdown",
   "id": "ffd150b5",
   "metadata": {},
   "source": [
    "# Exception Handling\n",
    "\n",
    "- helps handles error gracefully and take corrective actions without stopping the execution of program\n",
    "\n",
    "## What are expcetions\n",
    "\n",
    "- exceptions are events that stop the natural flow of program. They occure when error is ecountered during program execution. Common excetions include:\n",
    "\n",
    "    - ZeroDivisionError: Divided by Zero\n",
    "    - FileNotFoundError: File not found\n",
    "    - ValueError: Invalid value\n",
    "    - NameError: Varible not defined"
   ]
  },
  {
   "cell_type": "code",
   "execution_count": null,
   "id": "fea76f0c",
   "metadata": {},
   "outputs": [
    {
     "name": "stdout",
     "output_type": "stream",
     "text": [
      "variable b in not defined\n"
     ]
    }
   ],
   "source": [
    "# try, except block\n",
    "\n",
    "try:\n",
    "    a = b\n",
    "except:\n",
    "    print(\"variable b in not defined\")"
   ]
  },
  {
   "cell_type": "code",
   "execution_count": 4,
   "id": "81b329c1",
   "metadata": {},
   "outputs": [
    {
     "name": "stdout",
     "output_type": "stream",
     "text": [
      "name 'b' is not defined\n"
     ]
    }
   ],
   "source": [
    "# Using NameError class\n",
    "\n",
    "try :\n",
    "    a = b\n",
    "except NameError as er:\n",
    "    print(er)"
   ]
  },
  {
   "cell_type": "code",
   "execution_count": null,
   "id": "40f288c6",
   "metadata": {},
   "outputs": [
    {
     "name": "stdout",
     "output_type": "stream",
     "text": [
      "division by zero\n"
     ]
    }
   ],
   "source": [
    "# Using ZeroError class\n",
    "\n",
    "try:\n",
    "    a = 12/0\n",
    "except ZeroDivisionError as er:\n",
    "    print(er)\n",
    "    print(\"please enter a non-zero denominator\")\n",
    "    "
   ]
  },
  {
   "cell_type": "code",
   "execution_count": 6,
   "id": "d59f37eb",
   "metadata": {},
   "outputs": [
    {
     "name": "stdout",
     "output_type": "stream",
     "text": [
      "name 'b' is not defined\n"
     ]
    }
   ],
   "source": [
    "# handing multiple errors\n",
    "\n",
    "try:\n",
    "    a = 12/6\n",
    "    a = b\n",
    "except ZeroDivisionError as zr:\n",
    "    print(zr)\n",
    "except NameError as nr:\n",
    "    print(nr)\n",
    "    "
   ]
  },
  {
   "cell_type": "code",
   "execution_count": 7,
   "id": "a5bcd0ab",
   "metadata": {},
   "outputs": [
    {
     "name": "stdout",
     "output_type": "stream",
     "text": [
      "name 'b' is not defined\n"
     ]
    }
   ],
   "source": [
    "# handing unknows errors Using exceptions class\n",
    "\n",
    "try:\n",
    "    a = 12/6\n",
    "    a = b\n",
    "except ZeroDivisionError as zr:\n",
    "    print(zr)\n",
    "except Exception as ex:\n",
    "    print(ex)"
   ]
  },
  {
   "cell_type": "code",
   "execution_count": 11,
   "id": "9247111e",
   "metadata": {},
   "outputs": [],
   "source": [
    "# Example\n",
    "try:\n",
    "    a = int(input(\"Enter a number:\"))\n",
    "    result = 12/a\n",
    "except ValueError as vr:\n",
    "    print(vr)\n",
    "except ZeroDivisionError as zr:\n",
    "    print(zr)\n",
    "except Exception as ex:\n",
    "    print(ex)"
   ]
  },
  {
   "cell_type": "code",
   "execution_count": null,
   "id": "069af7da",
   "metadata": {},
   "outputs": [
    {
     "name": "stdout",
     "output_type": "stream",
     "text": [
      "final result: 2.0\n"
     ]
    }
   ],
   "source": [
    "# try, except, else block\n",
    "# else is executed only if excpet does not run(no error occured)\n",
    "\n",
    "try:\n",
    "    a = int(input(\"Enter a number:\"))\n",
    "    result = 12/a\n",
    "except ValueError as vr:\n",
    "    print(vr)\n",
    "except ZeroDivisionError as zr:\n",
    "    print(zr)\n",
    "except Exception as ex:\n",
    "    print(ex)\n",
    "else:\n",
    "    print(f\"final result: {result}\")"
   ]
  },
  {
   "cell_type": "code",
   "execution_count": 16,
   "id": "649fd3f5",
   "metadata": {},
   "outputs": [
    {
     "name": "stdout",
     "output_type": "stream",
     "text": [
      "final result: 0.6666666666666666\n",
      "code executed successfully\n"
     ]
    }
   ],
   "source": [
    "# try, except, else and finally\n",
    "# finally block always runs\n",
    "\n",
    "try:\n",
    "    a = int(input(\"Enter a number:\"))\n",
    "    result = 12/a\n",
    "except ValueError as vr:\n",
    "    print(vr)\n",
    "except ZeroDivisionError as zr:\n",
    "    print(zr)\n",
    "except Exception as ex:\n",
    "    print(ex)\n",
    "else:\n",
    "    print(f\"final result: {result}\")\n",
    "finally:\n",
    "    print('code executed successfully')"
   ]
  },
  {
   "cell_type": "code",
   "execution_count": 25,
   "id": "e92b1c15",
   "metadata": {},
   "outputs": [
    {
     "name": "stdout",
     "output_type": "stream",
     "text": [
      "file closed\n"
     ]
    }
   ],
   "source": [
    "# Exception handling with file handling\n",
    "\n",
    "try:\n",
    "    file = open('example.txt', 'r')\n",
    "    content = file.read()\n",
    "\n",
    "except FileNotFoundError as fr:\n",
    "    print(fr)\n",
    "except Exception as ex:\n",
    "    print(ex)\n",
    "\n",
    "finally:\n",
    "    if 'file' in locals() and not file.closed:\n",
    "        file.close()\n",
    "        print('file closed')\n",
    "\n"
   ]
  },
  {
   "cell_type": "code",
   "execution_count": null,
   "id": "f23bac5f",
   "metadata": {},
   "outputs": [],
   "source": []
  },
  {
   "cell_type": "code",
   "execution_count": null,
   "id": "294a44cb",
   "metadata": {},
   "outputs": [],
   "source": []
  }
 ],
 "metadata": {
  "kernelspec": {
   "display_name": "Python 3",
   "language": "python",
   "name": "python3"
  },
  "language_info": {
   "codemirror_mode": {
    "name": "ipython",
    "version": 3
   },
   "file_extension": ".py",
   "mimetype": "text/x-python",
   "name": "python",
   "nbconvert_exporter": "python",
   "pygments_lexer": "ipython3",
   "version": "3.10.18"
  }
 },
 "nbformat": 4,
 "nbformat_minor": 5
}

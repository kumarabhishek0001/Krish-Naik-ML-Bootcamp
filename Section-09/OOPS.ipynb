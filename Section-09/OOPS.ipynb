{
 "cells": [
  {
   "cell_type": "markdown",
   "id": "ef8a2b83",
   "metadata": {},
   "source": [
    "### Basic class and Object"
   ]
  },
  {
   "cell_type": "code",
   "execution_count": null,
   "id": "40e8905c",
   "metadata": {},
   "outputs": [
    {
     "name": "stdout",
     "output_type": "stream",
     "text": [
      "Toyota Corolla\n"
     ]
    }
   ],
   "source": [
    "# class, attributes and Parameters\n",
    "\n",
    "# car -> class\n",
    "# my_car -> object\n",
    "# self.brand, self.model -> attributes\n",
    "# brand, model -> parametes for __init__\n",
    "# self -> passes context\n",
    "# __init__ ->constructor\n",
    "\"\"\"\n",
    "\"self\" -> telephone line jodne ke lie between object and class\n",
    "\n",
    "my_car = Car(\"Toyota\", \"Corolla\")\n",
    "__init__(my_car, \"Toyota\", \"Corolla\")\n",
    "\n",
    "\"\"\"\n",
    "class Car:\n",
    "    def __init__(self, brand, model):\n",
    "        self.brand = brand\n",
    "        self.model = model\n",
    "\n",
    "my_car = Car(\"Toyota\", \"Corolla\")\n",
    "print(my_car.brand, my_car.model)\n",
    "\n",
    "my_newcar = Car(\"Tata\", \"Saffari\")\n",
    "print(my_newcar.brand, my_newcar.model)"
   ]
  },
  {
   "cell_type": "markdown",
   "id": "16c3d70f",
   "metadata": {},
   "source": [
    "### Class Method and self\n",
    "- add method to car class that display the full name of the car"
   ]
  },
  {
   "cell_type": "code",
   "execution_count": 1,
   "id": "1c0dfb13",
   "metadata": {},
   "outputs": [],
   "source": [
    "# method -> funcion inside a class\n",
    "\n",
    "class Car:\n",
    "    def __init__(self, brand, model):\n",
    "        self.brand = brand\n",
    "        self.model = model\n",
    "    \n",
    "    def full_name(self):\n",
    "        return f\"fullname: {self.brand} {self.model}\"\n",
    "    \n",
    "car1 = Car('Tata', 'Safari')"
   ]
  },
  {
   "cell_type": "code",
   "execution_count": 2,
   "id": "e31b4528",
   "metadata": {},
   "outputs": [
    {
     "name": "stdout",
     "output_type": "stream",
     "text": [
      "fullname: Tata Safari\n"
     ]
    }
   ],
   "source": [
    "print(car1.full_name())"
   ]
  },
  {
   "cell_type": "code",
   "execution_count": null,
   "id": "6bbd3c7c",
   "metadata": {},
   "outputs": [],
   "source": []
  }
 ],
 "metadata": {
  "kernelspec": {
   "display_name": "Python 3",
   "language": "python",
   "name": "python3"
  },
  "language_info": {
   "codemirror_mode": {
    "name": "ipython",
    "version": 3
   },
   "file_extension": ".py",
   "mimetype": "text/x-python",
   "name": "python",
   "nbconvert_exporter": "python",
   "pygments_lexer": "ipython3",
   "version": "3.10.18"
  }
 },
 "nbformat": 4,
 "nbformat_minor": 5
}

{
 "cells": [
  {
   "cell_type": "markdown",
   "id": "d7e63a2f",
   "metadata": {},
   "source": [
    "# Object Oriented Programming\n",
    "- It is a programming paradigms that uses \"objects\" to design applications and computer program. OOPS allows for modeling real-word scenarios using classes and objects."
   ]
  },
  {
   "cell_type": "code",
   "execution_count": 2,
   "id": "a3154518",
   "metadata": {},
   "outputs": [
    {
     "name": "stdout",
     "output_type": "stream",
     "text": [
      "<class '__main__.Car'>\n"
     ]
    }
   ],
   "source": [
    "# class is a blueprint of creating objects. Attributes, methods\n",
    "\n",
    "class Car:\n",
    "    pass\n",
    "\n",
    "audi = Car() # audi object of class car\n",
    "bmw = Car() # bmw object of class car\n",
    "\n",
    "print(type(audi))"
   ]
  },
  {
   "cell_type": "code",
   "execution_count": 3,
   "id": "d8d567ba",
   "metadata": {},
   "outputs": [
    {
     "name": "stdout",
     "output_type": "stream",
     "text": [
      "<__main__.Car object at 0x000001655A17A8F0>\n",
      "<__main__.Car object at 0x000001655A14C460>\n"
     ]
    }
   ],
   "source": [
    "print(audi)\n",
    "print(bmw)"
   ]
  },
  {
   "cell_type": "code",
   "execution_count": 4,
   "id": "c0c022e5",
   "metadata": {},
   "outputs": [
    {
     "name": "stdout",
     "output_type": "stream",
     "text": [
      "4\n"
     ]
    }
   ],
   "source": [
    "audi.window = 4\n",
    "print(audi.window) # window is attribute in car"
   ]
  },
  {
   "cell_type": "code",
   "execution_count": 5,
   "id": "6b80bf0c",
   "metadata": {},
   "outputs": [
    {
     "name": "stdout",
     "output_type": "stream",
     "text": [
      "2\n"
     ]
    },
    {
     "ename": "AttributeError",
     "evalue": "'Car' object has no attribute 'windows'",
     "output_type": "error",
     "traceback": [
      "\u001b[1;31m---------------------------------------------------------------------------\u001b[0m",
      "\u001b[1;31mAttributeError\u001b[0m                            Traceback (most recent call last)",
      "Cell \u001b[1;32mIn[5], line 5\u001b[0m\n\u001b[0;32m      2\u001b[0m tata\u001b[38;5;241m.\u001b[39mdoors \u001b[38;5;241m=\u001b[39m \u001b[38;5;241m2\u001b[39m\n\u001b[0;32m      3\u001b[0m \u001b[38;5;28mprint\u001b[39m(tata\u001b[38;5;241m.\u001b[39mdoors)\n\u001b[1;32m----> 5\u001b[0m \u001b[38;5;28mprint\u001b[39m(\u001b[43mtata\u001b[49m\u001b[38;5;241;43m.\u001b[39;49m\u001b[43mwindows\u001b[49m) \u001b[38;5;66;03m# throws error hence not a right way to to initialize attributes\u001b[39;00m\n",
      "\u001b[1;31mAttributeError\u001b[0m: 'Car' object has no attribute 'windows'"
     ]
    }
   ],
   "source": [
    "tata = Car()\n",
    "tata.doors = 2\n",
    "print(tata.doors)\n",
    "\n",
    "print(tata.windows) # throws error hence not a right way to to initialize attributes"
   ]
  },
  {
   "cell_type": "code",
   "execution_count": 6,
   "id": "b8d865a3",
   "metadata": {},
   "outputs": [
    {
     "data": {
      "text/plain": [
       "['__class__',\n",
       " '__delattr__',\n",
       " '__dict__',\n",
       " '__dir__',\n",
       " '__doc__',\n",
       " '__eq__',\n",
       " '__format__',\n",
       " '__ge__',\n",
       " '__getattribute__',\n",
       " '__gt__',\n",
       " '__hash__',\n",
       " '__init__',\n",
       " '__init_subclass__',\n",
       " '__le__',\n",
       " '__lt__',\n",
       " '__module__',\n",
       " '__ne__',\n",
       " '__new__',\n",
       " '__reduce__',\n",
       " '__reduce_ex__',\n",
       " '__repr__',\n",
       " '__setattr__',\n",
       " '__sizeof__',\n",
       " '__str__',\n",
       " '__subclasshook__',\n",
       " '__weakref__',\n",
       " 'doors']"
      ]
     },
     "execution_count": 6,
     "metadata": {},
     "output_type": "execute_result"
    }
   ],
   "source": [
    "dir(tata)"
   ]
  },
  {
   "cell_type": "code",
   "execution_count": null,
   "id": "b5f5ce0b",
   "metadata": {},
   "outputs": [
    {
     "name": "stdout",
     "output_type": "stream",
     "text": [
      "<__main__.dog object at 0x000001655A0529B0>\n",
      "buddy\n",
      "3\n"
     ]
    }
   ],
   "source": [
    "# instance variable and methods\n",
    "class dog:\n",
    "    # constructor -> defining instance varible inside the constructor, so we cannot make any more\n",
    "    def __init__(self, name, age):\n",
    "        self.name = name # instance variable inside dog class\n",
    "        self.age = age\n",
    "\n",
    "dog1 = dog(\"buddy\", 3)\n",
    "\n",
    "print(dog1)\n",
    "print(dog1.name)\n",
    "print(dog1.age)\n",
    "\n"
   ]
  },
  {
   "cell_type": "code",
   "execution_count": 8,
   "id": "dc408b7a",
   "metadata": {},
   "outputs": [
    {
     "name": "stdout",
     "output_type": "stream",
     "text": [
      "Lucy\n",
      "4\n"
     ]
    }
   ],
   "source": [
    "dog2 = dog('Lucy', 4)\n",
    "print(dog2.name)\n",
    "print(dog2.age)"
   ]
  },
  {
   "cell_type": "code",
   "execution_count": 9,
   "id": "01ca37dd",
   "metadata": {},
   "outputs": [
    {
     "name": "stdout",
     "output_type": "stream",
     "text": [
      "buddy say woof!!\n",
      "Lucy say woof!!\n"
     ]
    }
   ],
   "source": [
    "# instance variable -> some kind properties that talks about dog\n",
    "# instance method -> doing some kind of functionality\n",
    "# class with instance method\n",
    "\n",
    "class Dog:\n",
    "    def __init__(self, name, age): #instance variables or properties or attributes\n",
    "        self.name = name\n",
    "        self.age = age\n",
    "    \n",
    "    def bark(self): # we provide self so that we can use instace varible inside bark\n",
    "        print(f\"{self.name} say woof!!\")\n",
    "\n",
    "dog1 = Dog(\"buddy\", 3)\n",
    "dog1.bark()\n",
    "\n",
    "dog2 = Dog(\"Lucy\", 4)\n",
    "dog2.bark()"
   ]
  },
  {
   "cell_type": "code",
   "execution_count": 10,
   "id": "e804d7f3",
   "metadata": {},
   "outputs": [
    {
     "name": "stdout",
     "output_type": "stream",
     "text": [
      "5000\n",
      "100 is deposited. New balance: 5100\n",
      "Insufficient Funds!\n",
      "3000 withdrawn. New balance is 2100\n"
     ]
    },
    {
     "data": {
      "text/plain": [
       "2100"
      ]
     },
     "execution_count": 10,
     "metadata": {},
     "output_type": "execute_result"
    }
   ],
   "source": [
    "# modeling a back accound\n",
    "\n",
    "class Bankaccount:\n",
    "    def __init__(self, owner, balance=0):\n",
    "        self.owner = owner\n",
    "        self.balance = balance\n",
    "    \n",
    "    def deposite(self, amount):\n",
    "        self.balance += amount\n",
    "        print(f\"{amount} is deposited. New balance: {self.balance}\")\n",
    "    \n",
    "    def withdraw(self, amount):\n",
    "        if amount > self.balance:\n",
    "            print(\"Insufficient Funds!\")\n",
    "        else:\n",
    "            self.balance -= amount\n",
    "            print(f\"{amount} withdrawn. New balance is {self.balance}\")\n",
    "    def get_balance(self):\n",
    "        return self.balance\n",
    "    \n",
    "\n",
    "# creating object\n",
    "account1 = Bankaccount(\"Krish\", 5000)\n",
    "print(account1.balance)\n",
    "\n",
    "account1.deposite(100)\n",
    "\n",
    "account1.withdraw(10000)\n",
    "\n",
    "account1.withdraw(3000)\n",
    "account1.get_balance()\n"
   ]
  },
  {
   "cell_type": "code",
   "execution_count": 11,
   "id": "4a29782e",
   "metadata": {},
   "outputs": [
    {
     "data": {
      "text/plain": [
       "['__class__',\n",
       " '__delattr__',\n",
       " '__dict__',\n",
       " '__dir__',\n",
       " '__doc__',\n",
       " '__eq__',\n",
       " '__format__',\n",
       " '__ge__',\n",
       " '__getattribute__',\n",
       " '__gt__',\n",
       " '__hash__',\n",
       " '__init__',\n",
       " '__init_subclass__',\n",
       " '__le__',\n",
       " '__lt__',\n",
       " '__module__',\n",
       " '__ne__',\n",
       " '__new__',\n",
       " '__reduce__',\n",
       " '__reduce_ex__',\n",
       " '__repr__',\n",
       " '__setattr__',\n",
       " '__sizeof__',\n",
       " '__str__',\n",
       " '__subclasshook__',\n",
       " '__weakref__',\n",
       " 'deposite',\n",
       " 'get_balance',\n",
       " 'withdraw']"
      ]
     },
     "execution_count": 11,
     "metadata": {},
     "output_type": "execute_result"
    }
   ],
   "source": [
    "dir(Bankaccount)"
   ]
  },
  {
   "cell_type": "code",
   "execution_count": 13,
   "id": "fbb867b5",
   "metadata": {},
   "outputs": [
    {
     "data": {
      "text/plain": [
       "['__class__',\n",
       " '__delattr__',\n",
       " '__dict__',\n",
       " '__dir__',\n",
       " '__doc__',\n",
       " '__eq__',\n",
       " '__format__',\n",
       " '__ge__',\n",
       " '__getattribute__',\n",
       " '__gt__',\n",
       " '__hash__',\n",
       " '__init__',\n",
       " '__init_subclass__',\n",
       " '__le__',\n",
       " '__lt__',\n",
       " '__module__',\n",
       " '__ne__',\n",
       " '__new__',\n",
       " '__reduce__',\n",
       " '__reduce_ex__',\n",
       " '__repr__',\n",
       " '__setattr__',\n",
       " '__sizeof__',\n",
       " '__str__',\n",
       " '__subclasshook__',\n",
       " '__weakref__',\n",
       " 'balance',\n",
       " 'deposite',\n",
       " 'get_balance',\n",
       " 'owner',\n",
       " 'withdraw']"
      ]
     },
     "execution_count": 13,
     "metadata": {},
     "output_type": "execute_result"
    }
   ],
   "source": [
    "dir(account1)"
   ]
  },
  {
   "cell_type": "code",
   "execution_count": 15,
   "id": "a0b25487",
   "metadata": {},
   "outputs": [
    {
     "name": "stdout",
     "output_type": "stream",
     "text": [
      "<class 'type'>\n",
      "<class '__main__.Bankaccount'>\n"
     ]
    }
   ],
   "source": [
    "print(type(Bankaccount))\n",
    "print(type(account1))"
   ]
  },
  {
   "cell_type": "code",
   "execution_count": null,
   "id": "7a809f80",
   "metadata": {},
   "outputs": [],
   "source": []
  }
 ],
 "metadata": {
  "kernelspec": {
   "display_name": "Python 3",
   "language": "python",
   "name": "python3"
  },
  "language_info": {
   "codemirror_mode": {
    "name": "ipython",
    "version": 3
   },
   "file_extension": ".py",
   "mimetype": "text/x-python",
   "name": "python",
   "nbconvert_exporter": "python",
   "pygments_lexer": "ipython3",
   "version": "3.10.18"
  }
 },
 "nbformat": 4,
 "nbformat_minor": 5
}

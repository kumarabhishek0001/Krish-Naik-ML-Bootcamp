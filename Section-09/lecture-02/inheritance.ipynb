{
 "cells": [
  {
   "cell_type": "markdown",
   "id": "6403003f",
   "metadata": {},
   "source": [
    "# Inheritance\n",
    "\n",
    "- It is a fundamental concept in oops where that allows a class to inherit attributes and methods from another class"
   ]
  },
  {
   "cell_type": "code",
   "execution_count": null,
   "id": "807e8790",
   "metadata": {},
   "outputs": [
    {
     "name": "stdout",
     "output_type": "stream",
     "text": [
      "He is driving Diesel car\n",
      "None\n"
     ]
    }
   ],
   "source": [
    "class Car:\n",
    "\n",
    "    # instance variable\n",
    "    def __init__(self, window, door, engineType):\n",
    "        self.window = window\n",
    "        self.door = door\n",
    "        self.engineType = engineType\n",
    "    \n",
    "    # instance method\n",
    "    def drive(self):\n",
    "        print(f\"He is driving {self.engineType} car\")\n",
    "\n",
    "car1 = Car(3,4,\"Diesel\")\n",
    "print(car1.drive())"
   ]
  },
  {
   "cell_type": "code",
   "execution_count": null,
   "id": "1d6949ff",
   "metadata": {},
   "outputs": [],
   "source": [
    "# inheriting from parent class called car\n",
    "# single Inheritance\n",
    "class Tesla(Car):\n",
    "\n",
    "    # for Tesla Class\n",
    "    def __init__(self, window, door, engineType, is_selfdriving):\n",
    "        # super is used to inherit from the parent(instance variable as well as methods)\n",
    "\n",
    "        super().__init__(window, door, engineType)\n",
    "        # independent instance varaible inside tesla\n",
    "        self.is_selfdriving = is_selfdriving\n",
    "\n",
    "    def selfDriving(self):\n",
    "        print(f\"{type(self).__name__} is self driving: {self.is_selfdriving}\")"
   ]
  },
  {
   "cell_type": "code",
   "execution_count": 9,
   "id": "81ef749a",
   "metadata": {},
   "outputs": [
    {
     "name": "stdout",
     "output_type": "stream",
     "text": [
      "5\n",
      "5\n",
      "Electric\n",
      "He is driving Electric car\n",
      "None\n",
      "True\n",
      "Tesla is self driving: True\n",
      "None\n"
     ]
    }
   ],
   "source": [
    "model1 = Tesla(5, 5, \"Electric\", True)\n",
    "print(model1.window)\n",
    "print(model1.door)\n",
    "print(model1.engineType)\n",
    "print(model1.drive())\n",
    "print(model1.is_selfdriving)\n",
    "print(model1.selfDriving())"
   ]
  },
  {
   "cell_type": "code",
   "execution_count": 27,
   "id": "da29d4af",
   "metadata": {},
   "outputs": [],
   "source": [
    "# multiple Inheritance -> when a class inherits more that one base class\n",
    "# base class-1\n",
    "class Animal:\n",
    "    def __init__(self, name):\n",
    "        self.name = name\n",
    "    \n",
    "    def speak(self):\n",
    "        print(f\"{self.name} says hello!!\")\n",
    "        \n",
    "\n",
    "# base class-2\n",
    "class Pet:\n",
    "    def __init__(self, owner):\n",
    "        self.owner = owner\n",
    "\n",
    "# derived class\n",
    "class Dog(Animal, Pet):\n",
    "    def __init__(self, name, owner):\n",
    "        Animal.__init__(self,name)\n",
    "        Pet.__init__(self,owner)\n",
    "\n",
    "    def speak(self):\n",
    "        print(\"Dog says woof!!\")"
   ]
  },
  {
   "cell_type": "code",
   "execution_count": 28,
   "id": "17b79c4f",
   "metadata": {},
   "outputs": [],
   "source": [
    "dog2 = Dog('kalu', 'abhishek')\n"
   ]
  },
  {
   "cell_type": "code",
   "execution_count": 29,
   "id": "013a3ba9",
   "metadata": {},
   "outputs": [
    {
     "name": "stdout",
     "output_type": "stream",
     "text": [
      "Dog name: kalu\n",
      "Owner: abhishek\n"
     ]
    }
   ],
   "source": [
    "print(f\"Dog name: {dog2.name}\")\n",
    "print(f\"Owner: {dog2.owner}\")"
   ]
  },
  {
   "cell_type": "code",
   "execution_count": 30,
   "id": "2a7d9c82",
   "metadata": {},
   "outputs": [
    {
     "name": "stdout",
     "output_type": "stream",
     "text": [
      "Dog says woof!!\n"
     ]
    }
   ],
   "source": [
    "dog2.speak()"
   ]
  },
  {
   "cell_type": "code",
   "execution_count": null,
   "id": "a7fcdea6",
   "metadata": {},
   "outputs": [],
   "source": []
  }
 ],
 "metadata": {
  "kernelspec": {
   "display_name": "Python 3",
   "language": "python",
   "name": "python3"
  },
  "language_info": {
   "codemirror_mode": {
    "name": "ipython",
    "version": 3
   },
   "file_extension": ".py",
   "mimetype": "text/x-python",
   "name": "python",
   "nbconvert_exporter": "python",
   "pygments_lexer": "ipython3",
   "version": "3.10.18"
  }
 },
 "nbformat": 4,
 "nbformat_minor": 5
}

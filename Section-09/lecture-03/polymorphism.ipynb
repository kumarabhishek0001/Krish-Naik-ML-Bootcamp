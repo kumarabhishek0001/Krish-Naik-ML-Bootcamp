{
 "cells": [
  {
   "cell_type": "markdown",
   "id": "0b012029",
   "metadata": {},
   "source": [
    "# Polumorphism\n",
    "- It is a core concept in OOPS that allows objects of different class to be treated as object of common superclass.\n",
    "- provides a way to perform single action in mmultiple form\n",
    "-  Typically achieved through method overridding and interfaces"
   ]
  },
  {
   "cell_type": "markdown",
   "id": "03a06007",
   "metadata": {},
   "source": [
    "## Method Overriding \n",
    "- Allows a child class to provide specific implementation of a method that is already defined in parent class."
   ]
  },
  {
   "cell_type": "code",
   "execution_count": null,
   "id": "750be5ae",
   "metadata": {},
   "outputs": [
    {
     "name": "stdout",
     "output_type": "stream",
     "text": [
      "Meow!!\n",
      "woof!!\n",
      "####################\n",
      "woof!!\n",
      "Meow!!\n"
     ]
    }
   ],
   "source": [
    "# parent class\n",
    "class Animal:\n",
    "    def speak(self):\n",
    "        print(\"Sound of Animal\")\n",
    "\n",
    "# derived class-1\n",
    "class Dog(Animal):\n",
    "    def speak(self):\n",
    "        return \"woof!!\"\n",
    "\n",
    "# derived class-2\n",
    "class Cat(Animal):\n",
    "    def speak(self):\n",
    "        return \"Meow!!\"\n",
    "\n",
    "# function demostrating polymorphism\n",
    "def animal_speak(animal):\n",
    "    print(animal.speak())\n",
    "\n",
    "\n",
    "cat = Cat()\n",
    "print(cat.speak())\n",
    "\n",
    "dog = Dog()\n",
    "print(dog.speak())\n",
    "\n",
    "print(\"####################\")\n",
    "\n",
    "animal_speak(dog)\n",
    "animal_speak(cat)"
   ]
  },
  {
   "cell_type": "code",
   "execution_count": 6,
   "id": "dd8ef9ce",
   "metadata": {},
   "outputs": [
    {
     "name": "stdout",
     "output_type": "stream",
     "text": [
      "12\n",
      "50.24\n",
      "12\n",
      "50.24\n"
     ]
    }
   ],
   "source": [
    "# parent class\n",
    "class shape:\n",
    "    def area(self):\n",
    "        print(f\"The are of figure\")\n",
    "\n",
    "# derived class-1\n",
    "class Rectangle(shape):\n",
    "    def __init__(self, length, width):\n",
    "        super().__init__()\n",
    "        self.length = length\n",
    "        self.width = width\n",
    "    def area(self):\n",
    "        return self.length * self.width\n",
    "\n",
    "\n",
    "# derived class-2\n",
    "class Circle(shape):\n",
    "    def __init__(self, radius):\n",
    "        super().__init__()\n",
    "        self.radius = radius\n",
    "    def area(self):\n",
    "        return 3.14 * self.radius * self.radius\n",
    "    \n",
    "# function demonstrating polymoroiphism\n",
    "def calculate_Area(shape):\n",
    "    print(shape.area()) \n",
    "\n",
    "\n",
    "rect1 = Rectangle(4,3)\n",
    "print(rect1.area())\n",
    "# ------------------------\n",
    "circ1 = Circle(4)\n",
    "print(circ1.area())\n",
    "# ------------------------\n",
    "calculate_Area(rect1)\n",
    "calculate_Area(circ1)\n"
   ]
  },
  {
   "cell_type": "markdown",
   "id": "93287b09",
   "metadata": {},
   "source": [
    "## Polymorphism with Abstraction Base Class\n",
    "- Abstactions Base Classes are used to define common methods for a group of ralated objects.\n",
    "- They can force that derived classes implement perticular method promoting consistance accross different implementation"
   ]
  },
  {
   "cell_type": "code",
   "execution_count": 7,
   "id": "831e8398",
   "metadata": {},
   "outputs": [],
   "source": [
    "from abc import ABC, abstractmethod\n",
    "\n",
    "# abstract class\n",
    "class Vehicle(ABC):\n",
    "    @abstractmethod\n",
    "    def start_engine(self):\n",
    "        pass   \n",
    "\n",
    "# Derived Class-1\n",
    "class Car(Vehicle):\n",
    "    def start_engine(self):\n",
    "        return \"Car engine started\"\n",
    "\n",
    "# Derived Class-2\n",
    "class Motorcycle(Vehicle):\n",
    "    def start_engine(self):\n",
    "        return \"Motorbike Engine started\"\n",
    "    \n",
    "# function demonstarting polymorphis\n",
    "def start_vehicle(vehicle):\n",
    "    print(vehicle.start_engine())\n",
    "    \n",
    "# crate object of car and motorcyle\n",
    "car = Car()\n",
    "bike = Motorcycle()\n"
   ]
  },
  {
   "cell_type": "code",
   "execution_count": 9,
   "id": "76fbae6f",
   "metadata": {},
   "outputs": [
    {
     "name": "stdout",
     "output_type": "stream",
     "text": [
      "Car engine started\n",
      "Motorbike Engine started\n"
     ]
    }
   ],
   "source": [
    "# demonstarting polymorphism\n",
    "start_vehicle(car)\n",
    "start_vehicle(bike)"
   ]
  }
 ],
 "metadata": {
  "kernelspec": {
   "display_name": "Python 3",
   "language": "python",
   "name": "python3"
  },
  "language_info": {
   "codemirror_mode": {
    "name": "ipython",
    "version": 3
   },
   "file_extension": ".py",
   "mimetype": "text/x-python",
   "name": "python",
   "nbconvert_exporter": "python",
   "pygments_lexer": "ipython3",
   "version": "3.10.18"
  }
 },
 "nbformat": 4,
 "nbformat_minor": 5
}

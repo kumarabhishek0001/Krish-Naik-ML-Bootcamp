{
 "cells": [
  {
   "cell_type": "markdown",
   "id": "71b24573",
   "metadata": {},
   "source": [
    "# Encapsulation\n",
    "- It is the concept of wrapping data(variables) and methods(functions) inside a single unit.\n",
    "- It restrics the direct access to some object components, which meand preventing accidental interface and misuse of data."
   ]
  },
  {
   "cell_type": "code",
   "execution_count": null,
   "id": "62737da9",
   "metadata": {},
   "outputs": [
    {
     "name": "stdout",
     "output_type": "stream",
     "text": [
      "Krish 32\n"
     ]
    }
   ],
   "source": [
    "# encapsulation with getter and setter method\n",
    "# public, protected, private variables or access modifier\n",
    "\n",
    "class Person:\n",
    "    def __init__(self, name, age):\n",
    "        self.name = name # public variable\n",
    "        self.age = age  #public variable\n",
    "\n",
    "person1 = Person('Krish', 32)\n",
    "print(person1.name, person1.age)\n"
   ]
  },
  {
   "cell_type": "code",
   "execution_count": null,
   "id": "8c3d29b3",
   "metadata": {},
   "outputs": [
    {
     "name": "stdout",
     "output_type": "stream",
     "text": [
      "Krish\n"
     ]
    }
   ],
   "source": [
    "# can access the public variable outside class\n",
    "def get_name(man):\n",
    "    return man.name\n",
    "\n",
    "print(get_name(person1))\n",
    "# what if we want some variables with resticted control so that we can initailize it and not change it in later stages"
   ]
  },
  {
   "cell_type": "code",
   "execution_count": 3,
   "id": "ca605cc6",
   "metadata": {},
   "outputs": [
    {
     "data": {
      "text/plain": [
       "['__class__',\n",
       " '__delattr__',\n",
       " '__dict__',\n",
       " '__dir__',\n",
       " '__doc__',\n",
       " '__eq__',\n",
       " '__format__',\n",
       " '__ge__',\n",
       " '__getattribute__',\n",
       " '__gt__',\n",
       " '__hash__',\n",
       " '__init__',\n",
       " '__init_subclass__',\n",
       " '__le__',\n",
       " '__lt__',\n",
       " '__module__',\n",
       " '__ne__',\n",
       " '__new__',\n",
       " '__reduce__',\n",
       " '__reduce_ex__',\n",
       " '__repr__',\n",
       " '__setattr__',\n",
       " '__sizeof__',\n",
       " '__str__',\n",
       " '__subclasshook__',\n",
       " '__weakref__',\n",
       " 'age',\n",
       " 'name']"
      ]
     },
     "execution_count": 3,
     "metadata": {},
     "output_type": "execute_result"
    }
   ],
   "source": [
    "dir(person1)"
   ]
  },
  {
   "cell_type": "code",
   "execution_count": null,
   "id": "f2cc8b80",
   "metadata": {},
   "outputs": [
    {
     "ename": "AttributeError",
     "evalue": "'Person' object has no attribute '__name'",
     "output_type": "error",
     "traceback": [
      "\u001b[1;31m---------------------------------------------------------------------------\u001b[0m",
      "\u001b[1;31mAttributeError\u001b[0m                            Traceback (most recent call last)",
      "Cell \u001b[1;32mIn[5], line 12\u001b[0m\n\u001b[0;32m      9\u001b[0m \u001b[38;5;28;01mdef\u001b[39;00m\u001b[38;5;250m \u001b[39m\u001b[38;5;21mget_name\u001b[39m(man):\n\u001b[0;32m     10\u001b[0m     \u001b[38;5;28;01mreturn\u001b[39;00m man\u001b[38;5;241m.\u001b[39m__name\n\u001b[1;32m---> 12\u001b[0m \u001b[38;5;28mprint\u001b[39m(\u001b[43mget_name\u001b[49m\u001b[43m(\u001b[49m\u001b[43mperson_pvt\u001b[49m\u001b[43m)\u001b[49m)\n",
      "Cell \u001b[1;32mIn[5], line 10\u001b[0m, in \u001b[0;36mget_name\u001b[1;34m(man)\u001b[0m\n\u001b[0;32m      9\u001b[0m \u001b[38;5;28;01mdef\u001b[39;00m\u001b[38;5;250m \u001b[39m\u001b[38;5;21mget_name\u001b[39m(man):\n\u001b[1;32m---> 10\u001b[0m     \u001b[38;5;28;01mreturn\u001b[39;00m \u001b[43mman\u001b[49m\u001b[38;5;241;43m.\u001b[39;49m\u001b[43m__name\u001b[49m\n",
      "\u001b[1;31mAttributeError\u001b[0m: 'Person' object has no attribute '__name'"
     ]
    }
   ],
   "source": [
    "# creatng private variable\n",
    "class Person:\n",
    "    def __init__(self,name,age,gender):\n",
    "        self.__name = name    # private varible\n",
    "        self.__age = age      # private varible\n",
    "        self.gender = gender  # public variable \n",
    "\n",
    "person_pvt = Person('Krish', 34, \"Male\")\n",
    "def get_name(man):\n",
    "    return man.__name\n",
    "\n",
    "print(get_name(person_pvt))\n",
    "\n",
    "# in encapsulation we are here basiclyy restricting a varible because\n",
    "# these are very important attributes of the class\n",
    "# cannot change these frequently"
   ]
  },
  {
   "cell_type": "code",
   "execution_count": 7,
   "id": "5638f972",
   "metadata": {},
   "outputs": [
    {
     "data": {
      "text/plain": [
       "['_Person__age',\n",
       " '_Person__name',\n",
       " '__class__',\n",
       " '__delattr__',\n",
       " '__dict__',\n",
       " '__dir__',\n",
       " '__doc__',\n",
       " '__eq__',\n",
       " '__format__',\n",
       " '__ge__',\n",
       " '__getattribute__',\n",
       " '__gt__',\n",
       " '__hash__',\n",
       " '__init__',\n",
       " '__init_subclass__',\n",
       " '__le__',\n",
       " '__lt__',\n",
       " '__module__',\n",
       " '__ne__',\n",
       " '__new__',\n",
       " '__reduce__',\n",
       " '__reduce_ex__',\n",
       " '__repr__',\n",
       " '__setattr__',\n",
       " '__sizeof__',\n",
       " '__str__',\n",
       " '__subclasshook__',\n",
       " '__weakref__',\n",
       " 'gender']"
      ]
     },
     "execution_count": 7,
     "metadata": {},
     "output_type": "execute_result"
    }
   ],
   "source": [
    "dir(person_pvt)"
   ]
  },
  {
   "cell_type": "markdown",
   "id": "1e008406",
   "metadata": {},
   "source": [
    "### note:\n",
    "\n",
    "- private attributes is are varible that cannot be accessed outside the class\n",
    "- even cannot be accessed by derived class\n",
    "- can be accessed using only getter and setter inside the class"
   ]
  },
  {
   "cell_type": "markdown",
   "id": "af96ab04",
   "metadata": {},
   "source": [
    "## Protected Variable\n",
    "- can be accessed outside the class but bad practice to do access.\n",
    "- python does not enforce restriction of protected variable outside call\n",
    "- It is just convention between programs not to use it unless you know what you're doing"
   ]
  },
  {
   "cell_type": "code",
   "execution_count": null,
   "id": "daec3dc0",
   "metadata": {},
   "outputs": [],
   "source": [
    "# protected class -> can be accessed outside the class but bad practice to do access\n",
    "# python does not enforce restriction of protected variable outside call\n",
    "# It is just convention between programs not to use it unless you know what you're doing\n",
    "class Person:\n",
    "    def __init__(self,name,age,gender):\n",
    "        self._name = name # protected variable\n",
    "        self._age = age # protected variable\n",
    "        self.gender = gender\n",
    "    \n",
    "class Employee(Person):\n",
    "    def __init__(self,name,age,gender,emnployeeID):\n",
    "        super().__init__(name,age,gender)\n",
    "        self.empoyeeID = emnployeeID\n",
    "\n",
    "employee1 = Employee('krish',32,'gender','E123')\n"
   ]
  },
  {
   "cell_type": "code",
   "execution_count": null,
   "id": "6f876c34",
   "metadata": {},
   "outputs": [
    {
     "name": "stdout",
     "output_type": "stream",
     "text": [
      "E123\n",
      "gender\n",
      "32\n"
     ]
    }
   ],
   "source": [
    "print(employee1.empoyeeID)\n",
    "print(employee1.gender)\n",
    "print(employee1._age)"
   ]
  },
  {
   "cell_type": "code",
   "execution_count": 11,
   "id": "d952e771",
   "metadata": {},
   "outputs": [
    {
     "name": "stdout",
     "output_type": "stream",
     "text": [
      "female\n"
     ]
    }
   ],
   "source": [
    "employee1.gender = 'female'\n",
    "print(employee1.gender)"
   ]
  },
  {
   "cell_type": "code",
   "execution_count": 12,
   "id": "04110e19",
   "metadata": {},
   "outputs": [
    {
     "name": "stdout",
     "output_type": "stream",
     "text": [
      "20\n"
     ]
    }
   ],
   "source": [
    "employee1._age = 20\n",
    "print(employee1._age)"
   ]
  },
  {
   "cell_type": "markdown",
   "id": "84c4e49d",
   "metadata": {},
   "source": [
    "## Encapsulation with getter and setter\n"
   ]
  },
  {
   "cell_type": "code",
   "execution_count": 31,
   "id": "6e364c4b",
   "metadata": {},
   "outputs": [],
   "source": [
    "class Person:\n",
    "    def __init__(self,name,age):\n",
    "        self.__name = name # private variable\n",
    "        self.__age = age # private variable\n",
    "    \n",
    "    # getter method for name\n",
    "    def get_name(self):\n",
    "        return self.__name\n",
    "    \n",
    "    # setter method for name\n",
    "    def set_name(self,name):\n",
    "        self.__name = name\n",
    "        print(f\"name changed to {self.__name}\")\n",
    "    \n",
    "    # get method for age\n",
    "    def get_age(self):\n",
    "        return self.__age\n",
    "    \n",
    "    # setter method for age\n",
    "    def set_age(self,age):\n",
    "        if age<0:\n",
    "            print('invalid age')\n",
    "        else:\n",
    "            self.__age = age\n",
    "            print(\"Age changed\")"
   ]
  },
  {
   "cell_type": "code",
   "execution_count": 32,
   "id": "bb9a63d2",
   "metadata": {},
   "outputs": [],
   "source": [
    "person2 = Person('krish',32)"
   ]
  },
  {
   "cell_type": "code",
   "execution_count": 33,
   "id": "261c4fc1",
   "metadata": {},
   "outputs": [
    {
     "name": "stdout",
     "output_type": "stream",
     "text": [
      "krish\n",
      "name changed to abhishek\n"
     ]
    }
   ],
   "source": [
    "# getter-setter for name\n",
    "print(person2.get_name())\n",
    "\n",
    "person2.set_name('abhishek')"
   ]
  },
  {
   "cell_type": "code",
   "execution_count": 34,
   "id": "4d560541",
   "metadata": {},
   "outputs": [
    {
     "name": "stdout",
     "output_type": "stream",
     "text": [
      "abhishek\n"
     ]
    }
   ],
   "source": [
    "print(person2.get_name())"
   ]
  },
  {
   "cell_type": "code",
   "execution_count": 35,
   "id": "cfdeaf96",
   "metadata": {},
   "outputs": [
    {
     "name": "stdout",
     "output_type": "stream",
     "text": [
      "32\n"
     ]
    }
   ],
   "source": [
    "print(person2.get_age())"
   ]
  },
  {
   "cell_type": "code",
   "execution_count": 36,
   "id": "1287edda",
   "metadata": {},
   "outputs": [
    {
     "name": "stdout",
     "output_type": "stream",
     "text": [
      "invalid age\n"
     ]
    }
   ],
   "source": [
    "person2.set_age(-32)"
   ]
  },
  {
   "cell_type": "code",
   "execution_count": 37,
   "id": "7796b60b",
   "metadata": {},
   "outputs": [
    {
     "data": {
      "text/plain": [
       "{'_Person__name': 'abhishek', '_Person__age': 32}"
      ]
     },
     "execution_count": 37,
     "metadata": {},
     "output_type": "execute_result"
    }
   ],
   "source": [
    "person2.__dict__"
   ]
  },
  {
   "cell_type": "code",
   "execution_count": 38,
   "id": "aa544206",
   "metadata": {},
   "outputs": [
    {
     "data": {
      "text/plain": [
       "{'_Person__name': 'abhishek', '_Person__age': 32, '__age': 20}"
      ]
     },
     "execution_count": 38,
     "metadata": {},
     "output_type": "execute_result"
    }
   ],
   "source": [
    "person2.__age = 20\n",
    "person2.__dict__"
   ]
  },
  {
   "cell_type": "code",
   "execution_count": null,
   "id": "fd964abf",
   "metadata": {},
   "outputs": [],
   "source": []
  }
 ],
 "metadata": {
  "kernelspec": {
   "display_name": "Python 3",
   "language": "python",
   "name": "python3"
  },
  "language_info": {
   "codemirror_mode": {
    "name": "ipython",
    "version": 3
   },
   "file_extension": ".py",
   "mimetype": "text/x-python",
   "name": "python",
   "nbconvert_exporter": "python",
   "pygments_lexer": "ipython3",
   "version": "3.10.18"
  }
 },
 "nbformat": 4,
 "nbformat_minor": 5
}

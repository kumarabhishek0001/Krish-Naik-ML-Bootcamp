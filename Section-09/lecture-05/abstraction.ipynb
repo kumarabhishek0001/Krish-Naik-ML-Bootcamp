{
 "cells": [
  {
   "cell_type": "markdown",
   "id": "4a983e31",
   "metadata": {},
   "source": [
    "# Abstraction\n",
    "- complex of hiding complex implementation details and showing only neccessary features of objects\n"
   ]
  },
  {
   "cell_type": "code",
   "execution_count": 3,
   "id": "8d66d1fc",
   "metadata": {},
   "outputs": [],
   "source": [
    "# abstract base class\n",
    "from abc import ABC,abstractmethod\n",
    "class Vehicle:\n",
    "    def drive(self):\n",
    "        print(\"The vehicle is used for driving\")\n",
    "    \n",
    "    @abstractmethod\n",
    "    def start_engine(self):\n",
    "        pass\n",
    "\n",
    "class Car(Vehicle):\n",
    "    def start_engine(self):\n",
    "        print(\"car engine started\")\n",
    "\n",
    "def operate_vehicle(vehicle):\n",
    "    vehicle.start_engine()\n",
    "    vehicle.drive()"
   ]
  },
  {
   "cell_type": "code",
   "execution_count": 4,
   "id": "e91c9efe",
   "metadata": {},
   "outputs": [
    {
     "name": "stdout",
     "output_type": "stream",
     "text": [
      "car engine started\n",
      "The vehicle is used for driving\n"
     ]
    }
   ],
   "source": [
    "car = Car()\n",
    "operate_vehicle(car)"
   ]
  }
 ],
 "metadata": {
  "kernelspec": {
   "display_name": "Python 3",
   "language": "python",
   "name": "python3"
  },
  "language_info": {
   "codemirror_mode": {
    "name": "ipython",
    "version": 3
   },
   "file_extension": ".py",
   "mimetype": "text/x-python",
   "name": "python",
   "nbconvert_exporter": "python",
   "pygments_lexer": "ipython3",
   "version": "3.10.18"
  }
 },
 "nbformat": 4,
 "nbformat_minor": 5
}

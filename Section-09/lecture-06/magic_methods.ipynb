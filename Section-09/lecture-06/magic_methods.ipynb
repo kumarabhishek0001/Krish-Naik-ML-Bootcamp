{
 "cells": [
  {
   "cell_type": "markdown",
   "id": "50aa2b96",
   "metadata": {},
   "source": [
    "# Magic Methods\n",
    "- Magic Method in python also known as dunder method(double underscore method).\n",
    "- Special methods that start with double underscore.\n",
    "- these methods enable you to define the behahviour objects for built in operations, such as arithmatic operation, comparison and more."
   ]
  },
  {
   "cell_type": "markdown",
   "id": "e8da444e",
   "metadata": {},
   "source": [
    "These are predefined methods that you can overide to change the behaviour of objects.\n",
    "*Example-*\n",
    "- \\_\\_init\\_\\_: Inintialized new instance of class\n",
    "- \\_\\_str\\_\\_: Returns string representaion of objects\n",
    "- \\_\\_repr\\_\\_: Retruns official string representation of object\n",
    "- \\_\\_len\\_\\_: Returns the length of object\n",
    "- \\_\\_get_item\\_\\_: Gets the item form a container\n",
    "- \\_\\_set_item\\_\\_: Sets the item in a container"
   ]
  },
  {
   "cell_type": "code",
   "execution_count": 1,
   "id": "debca268",
   "metadata": {},
   "outputs": [
    {
     "data": {
      "text/plain": [
       "['__class__',\n",
       " '__delattr__',\n",
       " '__dict__',\n",
       " '__dir__',\n",
       " '__doc__',\n",
       " '__eq__',\n",
       " '__format__',\n",
       " '__ge__',\n",
       " '__getattribute__',\n",
       " '__gt__',\n",
       " '__hash__',\n",
       " '__init__',\n",
       " '__init_subclass__',\n",
       " '__le__',\n",
       " '__lt__',\n",
       " '__module__',\n",
       " '__ne__',\n",
       " '__new__',\n",
       " '__reduce__',\n",
       " '__reduce_ex__',\n",
       " '__repr__',\n",
       " '__setattr__',\n",
       " '__sizeof__',\n",
       " '__str__',\n",
       " '__subclasshook__',\n",
       " '__weakref__']"
      ]
     },
     "execution_count": 1,
     "metadata": {},
     "output_type": "execute_result"
    }
   ],
   "source": [
    "class Person:\n",
    "    pass\n",
    "dir(Person)"
   ]
  },
  {
   "cell_type": "code",
   "execution_count": 2,
   "id": "f7918915",
   "metadata": {},
   "outputs": [
    {
     "name": "stdout",
     "output_type": "stream",
     "text": [
      "name: krish\n",
      "age: 32\n"
     ]
    }
   ],
   "source": [
    "class Person:\n",
    "    def __init__(self,name,age):\n",
    "        self.name = name\n",
    "        self.age = age\n",
    "person = Person('krish', 32)\n",
    "print(f\"name: {person.name}\")\n",
    "print(f\"age: {person.age}\")"
   ]
  },
  {
   "cell_type": "code",
   "execution_count": null,
   "id": "b35df368",
   "metadata": {},
   "outputs": [
    {
     "name": "stdout",
     "output_type": "stream",
     "text": [
      "<__main__.Person object at 0x000001785304EB60>\n"
     ]
    }
   ],
   "source": [
    "print(person)\n",
    "# currently returns the location of object, we can overide this"
   ]
  },
  {
   "cell_type": "code",
   "execution_count": 4,
   "id": "f3e0c593",
   "metadata": {},
   "outputs": [
    {
     "name": "stdout",
     "output_type": "stream",
     "text": [
      "krish is 32 years old\n"
     ]
    }
   ],
   "source": [
    "class Person:\n",
    "    def __init__(self,name,age):\n",
    "        self.name = name\n",
    "        self.age = age\n",
    "    def __str__(self):\n",
    "        return f\"{self.name} is {self.age} years old\"\n",
    "\n",
    "person = Person('krish', 32)\n",
    "print(person)"
   ]
  },
  {
   "cell_type": "code",
   "execution_count": 5,
   "id": "272144a3",
   "metadata": {},
   "outputs": [],
   "source": [
    "class Person:\n",
    "    def __init__(self,name,age):\n",
    "        self.name = name\n",
    "        self.age = age\n",
    "    def __str__(self):\n",
    "        return f\"{self.name} is {self.age} years old\"\n",
    "    def __repr__(self):\n",
    "        return f\"Person(name: {self.name}, age: {self.age})\""
   ]
  },
  {
   "cell_type": "code",
   "execution_count": 6,
   "id": "30fb2679",
   "metadata": {},
   "outputs": [
    {
     "name": "stdout",
     "output_type": "stream",
     "text": [
      "Person(name: krish, age: 43)\n"
     ]
    }
   ],
   "source": [
    "person = Person('krish', 43)\n",
    "print(repr(person))"
   ]
  },
  {
   "cell_type": "code",
   "execution_count": 8,
   "id": "ff828978",
   "metadata": {},
   "outputs": [
    {
     "data": {
      "text/plain": [
       "{'name': 'krish', 'age': 43}"
      ]
     },
     "execution_count": 8,
     "metadata": {},
     "output_type": "execute_result"
    }
   ],
   "source": [
    "# show all the attriburtes and there value\n",
    "person.__dict__"
   ]
  }
 ],
 "metadata": {
  "kernelspec": {
   "display_name": "Python 3",
   "language": "python",
   "name": "python3"
  },
  "language_info": {
   "codemirror_mode": {
    "name": "ipython",
    "version": 3
   },
   "file_extension": ".py",
   "mimetype": "text/x-python",
   "name": "python",
   "nbconvert_exporter": "python",
   "pygments_lexer": "ipython3",
   "version": "3.10.18"
  }
 },
 "nbformat": 4,
 "nbformat_minor": 5
}

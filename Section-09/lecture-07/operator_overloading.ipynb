{
 "cells": [
  {
   "cell_type": "markdown",
   "id": "d5fd6603",
   "metadata": {},
   "source": [
    "# Operator Overloading\n",
    "- Allows you define behaviour of operator(+,-,*,/) for custom object. \n",
    "- You acheive this by overriding specific magic method in your class."
   ]
  },
  {
   "cell_type": "code",
   "execution_count": 5,
   "id": "222a2870",
   "metadata": {},
   "outputs": [],
   "source": [
    "# operating on two different vecotr\n",
    "\n",
    "class Vector:\n",
    "    def __init__(self,x,y):\n",
    "        self.x = x\n",
    "        self.y = y\n",
    "\n",
    "    def __add__(self,other):\n",
    "        return Vector(self.x+other.x, self.y+other.y)\n",
    "    def __sub__(self,other):\n",
    "        return Vector(self.x-other.x, self.y-other.y)\n",
    "    def __mul__(self,other):\n",
    "        return Vector(self.x*other, self.y*other)\n",
    "    def __eq__(self,other):\n",
    "        return self.x == other.x and self.y == other.y\n",
    "    def __repr__(self):\n",
    "        return f\"({self.x}, {self.y})\"\n",
    "    \n",
    "v1 = Vector(2,3)\n",
    "v2 = Vector(4,3)\n",
    "\n",
    "\n",
    "    "
   ]
  },
  {
   "cell_type": "code",
   "execution_count": 6,
   "id": "f158f1f3",
   "metadata": {},
   "outputs": [
    {
     "name": "stdout",
     "output_type": "stream",
     "text": [
      "(6, 6)\n",
      "(-2, 0)\n",
      "(6, 9)\n"
     ]
    }
   ],
   "source": [
    "print(v1+v2)\n",
    "print(v1-v2)\n",
    "print(v1*3)\n"
   ]
  },
  {
   "cell_type": "code",
   "execution_count": null,
   "id": "c4d1f711",
   "metadata": {},
   "outputs": [],
   "source": []
  }
 ],
 "metadata": {
  "kernelspec": {
   "display_name": "Python 3",
   "language": "python",
   "name": "python3"
  },
  "language_info": {
   "codemirror_mode": {
    "name": "ipython",
    "version": 3
   },
   "file_extension": ".py",
   "mimetype": "text/x-python",
   "name": "python",
   "nbconvert_exporter": "python",
   "pygments_lexer": "ipython3",
   "version": "3.10.18"
  }
 },
 "nbformat": 4,
 "nbformat_minor": 5
}

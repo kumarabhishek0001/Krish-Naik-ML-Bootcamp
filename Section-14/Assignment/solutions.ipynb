{
 "cells": [
  {
   "cell_type": "code",
   "execution_count": 2,
   "id": "fd380f4e",
   "metadata": {},
   "outputs": [],
   "source": [
    "import sqlite3\n"
   ]
  },
  {
   "cell_type": "code",
   "execution_count": 4,
   "id": "921fb600",
   "metadata": {},
   "outputs": [
    {
     "name": "stdout",
     "output_type": "stream",
     "text": [
      "database created and successfully connected.\n"
     ]
    }
   ],
   "source": [
    "# creat a new db\n",
    "def creat_new_db(dbname):\n",
    "    conn = sqlite3.connect(dbname)\n",
    "    conn.close()\n",
    "    print(\"database created and successfully connected.\")\n",
    "\n",
    "creat_new_db('test.db')\n"
   ]
  },
  {
   "cell_type": "code",
   "execution_count": 6,
   "id": "eed3febf",
   "metadata": {},
   "outputs": [
    {
     "name": "stdout",
     "output_type": "stream",
     "text": [
      "Table employees created successfully.\n"
     ]
    }
   ],
   "source": [
    "def create_table(tableName):\n",
    "    conn = sqlite3.connect('test.db')\n",
    "    cursor = conn.cursor()\n",
    "\n",
    "    cursor.execute(f'''\n",
    "    CREATE TABLE IF NOT EXISTS {tableName}(\n",
    "        id INTEGER PRIMARY KEY,\n",
    "        name TEXT NOT NULL,\n",
    "        age INTEGER,\n",
    "        department TEXT\n",
    "        )\n",
    "    ''')\n",
    "\n",
    "    conn.commit()\n",
    "    conn.close()\n",
    "    print(f\"Table {tableName} created successfully.\")\n",
    "\n",
    "create_table('employees')"
   ]
  },
  {
   "cell_type": "code",
   "execution_count": 9,
   "id": "2c5d1c47",
   "metadata": {},
   "outputs": [
    {
     "name": "stdout",
     "output_type": "stream",
     "text": [
      "Employee inserted Successfully\n"
     ]
    }
   ],
   "source": [
    "def insert_employee_data(name,age,department):\n",
    "    conn = sqlite3.connect('test.db')\n",
    "    cursor = conn.cursor()\n",
    "\n",
    "    cursor.execute('''\n",
    "    INSERT INTO employees(name,age,department)\n",
    "    VALUES (?,?,?)\n",
    "    ''',(name,age,department))\n",
    "\n",
    "    conn.commit()\n",
    "    conn.close()\n",
    "    print(\"Employee inserted Successfully\")\n",
    "\n",
    "insert_employee_data('abhishek', 22, 'engineering')"
   ]
  },
  {
   "cell_type": "code",
   "execution_count": null,
   "id": "3282f8a5",
   "metadata": {},
   "outputs": [
    {
     "name": "stdout",
     "output_type": "stream",
     "text": [
      "Employee inserted Successfully\n",
      "Employee inserted Successfully\n",
      "Employee inserted Successfully\n",
      "Employee inserted Successfully\n"
     ]
    }
   ],
   "source": [
    "insert_employee_data('Bob', 25, 'Engineering')\n",
    "insert_employee_data('Charlie', 28, 'Sales')\n",
    "insert_employee_data('David', 35, 'Marketing')\n",
    "insert_employee_data('Eve', 22, 'HR')"
   ]
  },
  {
   "cell_type": "code",
   "execution_count": 6,
   "id": "6fe8f2bb",
   "metadata": {},
   "outputs": [],
   "source": [
    "def fetch_all_data():\n",
    "    conn = sqlite3.connect('test.db')\n",
    "    cursor = conn.cursor()\n",
    "\n",
    "    cursor.execute('SELECT * FROM employees')\n",
    "    rows = cursor.fetchall()\n",
    "\n",
    "    conn.close()\n",
    "\n",
    "    for row in rows:\n",
    "        print(row)\n",
    "\n",
    "    print(\"Data Retreived.\")\n",
    "\n",
    "# fetch_all_data()\n"
   ]
  },
  {
   "cell_type": "code",
   "execution_count": 17,
   "id": "214d0f6d",
   "metadata": {},
   "outputs": [
    {
     "name": "stdout",
     "output_type": "stream",
     "text": [
      "Employee inserted Successfully\n",
      "Employee inserted Successfully\n",
      "Employee inserted Successfully\n",
      "Employee inserted Successfully\n"
     ]
    }
   ],
   "source": [
    "insert_employee_data('Steve', 29, 'HR')\n",
    "insert_employee_data('Mark', 20, 'HR')\n",
    "insert_employee_data('Robert', 32, 'Sales')\n",
    "insert_employee_data('Chris', 35, 'Sales')"
   ]
  },
  {
   "cell_type": "code",
   "execution_count": 27,
   "id": "24c25633",
   "metadata": {},
   "outputs": [],
   "source": [
    "# filtering basd on departemnt\n",
    "def fetch_employees_by_department(department):\n",
    "    \n",
    "    conn = sqlite3.connect('test.db')\n",
    "    cursor = conn.cursor()\n",
    "\n",
    "    cursor.execute('SELECT * FROM employees')\n",
    "    records = cursor.fetchall()\n",
    "    conn.close()\n",
    "\n",
    "    for record in records:\n",
    "        if record[3] == department:\n",
    "            print(record)\n",
    "        # print(record)"
   ]
  },
  {
   "cell_type": "code",
   "execution_count": 28,
   "id": "8d7b4d40",
   "metadata": {},
   "outputs": [
    {
     "name": "stdout",
     "output_type": "stream",
     "text": [
      "(3, 'Charlie', 28, 'Sales')\n",
      "(8, 'Robert', 32, 'Sales')\n",
      "(9, 'Chris', 35, 'Sales')\n"
     ]
    }
   ],
   "source": [
    "fetch_employees_by_department('Sales')"
   ]
  },
  {
   "cell_type": "code",
   "execution_count": 29,
   "id": "fe12c13e",
   "metadata": {},
   "outputs": [
    {
     "name": "stdout",
     "output_type": "stream",
     "text": [
      "(3, 'Charlie', 28, 'Sales')\n",
      "(8, 'Robert', 32, 'Sales')\n",
      "(9, 'Chris', 35, 'Sales')\n"
     ]
    }
   ],
   "source": [
    "# metod2\n",
    "def fetch_employees_by_department(department):\n",
    "    \n",
    "    conn = sqlite3.connect('test.db')\n",
    "    cursor = conn.cursor()\n",
    "\n",
    "    cursor.execute('SELECT * FROM employees WHERE department = ?', (department,))\n",
    "    records = cursor.fetchall()\n",
    "    conn.close()\n",
    "\n",
    "    for record in records:\n",
    "        # if record[3] == department:\n",
    "        #     print(record)\n",
    "        print(record)\n",
    "\n",
    "fetch_employees_by_department('Sales')"
   ]
  },
  {
   "cell_type": "code",
   "execution_count": 3,
   "id": "2d0dac0c",
   "metadata": {},
   "outputs": [
    {
     "name": "stdout",
     "output_type": "stream",
     "text": [
      "Employee Department Updated Successfully\n"
     ]
    }
   ],
   "source": [
    "# updating department\n",
    "\n",
    "def update_employee_department(employee_id, new_department):\n",
    "    conn = sqlite3.connect('test.db')\n",
    "    cursor = conn.cursor()\n",
    "\n",
    "    cursor.execute('''\n",
    "        UPDATE employees\n",
    "            SET department = ?\n",
    "            WHERE id = ?\n",
    "    ''',(new_department,employee_id))\n",
    "    conn.commit()\n",
    "    conn.close()\n",
    "    print('Employee Department Updated Successfully')\n",
    "\n",
    "# update data\n",
    "update_employee_department(1,'HR')"
   ]
  },
  {
   "cell_type": "code",
   "execution_count": 4,
   "id": "abf5a4ca",
   "metadata": {},
   "outputs": [
    {
     "name": "stdout",
     "output_type": "stream",
     "text": [
      "Employee Department Updated Successfully\n",
      "Employee Department Updated Successfully\n"
     ]
    }
   ],
   "source": [
    "update_employee_department(8,'HR')\n",
    "update_employee_department(9,'HR')"
   ]
  },
  {
   "cell_type": "code",
   "execution_count": 7,
   "id": "14caed45",
   "metadata": {},
   "outputs": [
    {
     "name": "stdout",
     "output_type": "stream",
     "text": [
      "(1, 'abhishek', 22, 'HR')\n",
      "(2, 'Bob', 25, 'Engineering')\n",
      "(3, 'Charlie', 28, 'Sales')\n",
      "(4, 'David', 35, 'Marketing')\n",
      "(5, 'Eve', 22, 'HR')\n",
      "(6, 'Steve', 29, 'HR')\n",
      "(7, 'Mark', 20, 'HR')\n",
      "(8, 'Robert', 32, 'HR')\n",
      "(9, 'Chris', 35, 'HR')\n",
      "Data Retreived.\n"
     ]
    }
   ],
   "source": [
    "fetch_all_data()"
   ]
  },
  {
   "cell_type": "code",
   "execution_count": 12,
   "id": "4f158262",
   "metadata": {},
   "outputs": [
    {
     "name": "stdout",
     "output_type": "stream",
     "text": [
      "Employee Data Deleted\n"
     ]
    }
   ],
   "source": [
    "# Assignment 5\n",
    "def delete_employee_data(employee_id):\n",
    "    conn = sqlite3.connect('test.db')\n",
    "    cursor = conn.cursor()\n",
    "\n",
    "    cursor.execute('''\n",
    "        DELETE FROM employees\n",
    "        WHERE id = ?\n",
    "    ''',(employee_id,))\n",
    "    \n",
    "    conn.commit()\n",
    "    conn.close()\n",
    "    print(\"Employee Data Deleted\")\n",
    "\n",
    "delete_employee_data(1)"
   ]
  },
  {
   "cell_type": "code",
   "execution_count": 14,
   "id": "d3413022",
   "metadata": {},
   "outputs": [
    {
     "name": "stdout",
     "output_type": "stream",
     "text": [
      "Employee Data Deleted\n",
      "(2, 'Bob', 25, 'Engineering')\n",
      "(3, 'Charlie', 28, 'Sales')\n",
      "(4, 'David', 35, 'Marketing')\n",
      "(5, 'Eve', 22, 'HR')\n",
      "(6, 'Steve', 29, 'HR')\n",
      "(7, 'Mark', 20, 'HR')\n",
      "(8, 'Robert', 32, 'HR')\n",
      "Data Retreived.\n"
     ]
    }
   ],
   "source": [
    "delete_employee_data(9)\n",
    "fetch_all_data()"
   ]
  },
  {
   "cell_type": "code",
   "execution_count": 15,
   "id": "21dfc92f",
   "metadata": {},
   "outputs": [
    {
     "name": "stdout",
     "output_type": "stream",
     "text": [
      "(4, 'David', 35, 'Marketing')\n",
      "(8, 'Robert', 32, 'HR')\n"
     ]
    }
   ],
   "source": [
    "# adevance queries\n",
    "def fetch_employees_older_than(age):\n",
    "    conn = sqlite3.connect('test.db')\n",
    "    cursor = conn.cursor()\n",
    "\n",
    "    cursor.execute('SELECT * FROM employees WHERE age>?',(age,))\n",
    "    records = cursor.fetchall()\n",
    "\n",
    "    conn.close()\n",
    "\n",
    "    for record in records:\n",
    "        print(record)\n",
    "fetch_employees_older_than(30)"
   ]
  },
  {
   "cell_type": "code",
   "execution_count": 17,
   "id": "cd876003",
   "metadata": {},
   "outputs": [
    {
     "name": "stdout",
     "output_type": "stream",
     "text": [
      "(4, 'David', 35, 'Marketing')\n"
     ]
    }
   ],
   "source": [
    "def fetch_employees_name_start_with(letter):\n",
    "    conn = sqlite3.connect('test.db')\n",
    "    cursor = conn.cursor()\n",
    "\n",
    "    cursor.execute('SELECT * FROM employees WHERE name LIKE ?',(letter + '%',))\n",
    "    records = cursor.fetchall()\n",
    "\n",
    "    conn.close()\n",
    "    for record in records:\n",
    "        print(record)\n",
    "\n",
    "fetch_employees_name_start_with('D')"
   ]
  },
  {
   "cell_type": "code",
   "execution_count": 24,
   "id": "f3abae91",
   "metadata": {},
   "outputs": [
    {
     "name": "stdout",
     "output_type": "stream",
     "text": [
      "All employees inserted successfully\n",
      "(2, 'Bob', 25, 'Engineering')\n",
      "(3, 'Charlie', 28, 'Sales')\n",
      "(4, 'David', 35, 'Marketing')\n",
      "(5, 'Eve', 22, 'HR')\n",
      "(6, 'Steve', 29, 'HR')\n",
      "(7, 'Mark', 20, 'HR')\n",
      "(8, 'Robert', 32, 'HR')\n",
      "(9, 'Frank', 40, 'Finance')\n",
      "(10, 'Grace', 29, 'Engineering')\n",
      "(11, 'Hannah', 35, 'Marketing')\n",
      "(12, 'Ivan', 38, 'Sales')\n",
      "(13, 'Jack', 45, 'HR')\n",
      "Data Retreived.\n"
     ]
    }
   ],
   "source": [
    "def insert_many_employees(data):\n",
    "    conn = sqlite3.connect('test.db')\n",
    "    cursor = conn.cursor()\n",
    "\n",
    "    try:\n",
    "        cursor.executemany('''\n",
    "            INSERT INTO employees (name,age,department)\n",
    "            VALUES (?,?,?)\n",
    "        ''',data)\n",
    "        conn.commit()\n",
    "        print(\"All employees inserted successfully\")\n",
    "    except Exception as e:\n",
    "        conn.rollback()\n",
    "        print(e)\n",
    "        print(\"Error Occured, transaction rolled back\")\n",
    "    finally:\n",
    "        conn.close()\n",
    "# test\n",
    "employees = [\n",
    "    ('Frank', 40, 'Finance'),\n",
    "    ('Grace', 29, 'Engineering'),\n",
    "    ('Hannah', 35, 'Marketing'),\n",
    "    ('Ivan', 38, 'Sales'),\n",
    "    ('Jack', 45, 'HR')  \n",
    "]\n",
    "\n",
    "insert_many_employees(employees)\n",
    "fetch_all_data()\n"
   ]
  },
  {
   "cell_type": "code",
   "execution_count": 26,
   "id": "9f0cf932",
   "metadata": {},
   "outputs": [
    {
     "name": "stdout",
     "output_type": "stream",
     "text": [
      "All employee ages updated successfully.\n"
     ]
    },
    {
     "data": {
      "text/plain": [
       "<function __main__.fetch_all_data()>"
      ]
     },
     "execution_count": 26,
     "metadata": {},
     "output_type": "execute_result"
    }
   ],
   "source": [
    "def update_multiple_employee_age(update):\n",
    "    conn = sqlite3.connect('test.db')\n",
    "    cursor = conn.cursor()\n",
    "\n",
    "    try:\n",
    "        cursor.executemany('''\n",
    "        UPDATE employees\n",
    "        SET age = ?\n",
    "        WHERE id = ?\n",
    "        ''',update)\n",
    "        conn.commit()\n",
    "        print(\"All employee ages updated successfully.\")\n",
    "    except Exception as e:\n",
    "        conn.rollback()\n",
    "        print(\"Error occured, transaction rolled back\")\n",
    "        print(e)\n",
    "    finally:\n",
    "        conn.close()\n",
    "data = [\n",
    "    (50, 2),\n",
    "    (45, 3),\n",
    "    (40, 13)\n",
    "]\n",
    "\n",
    "update_multiple_employee_age(data)\n",
    "fetch_all_data"
   ]
  },
  {
   "cell_type": "code",
   "execution_count": 27,
   "id": "8f0f910f",
   "metadata": {},
   "outputs": [
    {
     "name": "stdout",
     "output_type": "stream",
     "text": [
      "(2, 'Bob', 50, 'Engineering')\n",
      "(3, 'Charlie', 45, 'Sales')\n",
      "(4, 'David', 35, 'Marketing')\n",
      "(5, 'Eve', 22, 'HR')\n",
      "(6, 'Steve', 29, 'HR')\n",
      "(7, 'Mark', 20, 'HR')\n",
      "(8, 'Robert', 32, 'HR')\n",
      "(9, 'Frank', 40, 'Finance')\n",
      "(10, 'Grace', 29, 'Engineering')\n",
      "(11, 'Hannah', 35, 'Marketing')\n",
      "(12, 'Ivan', 38, 'Sales')\n",
      "(13, 'Jack', 40, 'HR')\n",
      "Data Retreived.\n"
     ]
    }
   ],
   "source": [
    "fetch_all_data()"
   ]
  },
  {
   "cell_type": "code",
   "execution_count": 30,
   "id": "c6ed79f0",
   "metadata": {},
   "outputs": [
    {
     "name": "stdout",
     "output_type": "stream",
     "text": [
      "Table departments created successfully.\n"
     ]
    }
   ],
   "source": [
    "# Assignment 8:\n",
    "def create_table(tableName):\n",
    "    conn = sqlite3.connect('test.db')\n",
    "    cursor = conn.cursor()\n",
    "\n",
    "    cursor.execute(f'''\n",
    "    CREATE TABLE IF NOT EXISTS {tableName}(\n",
    "        id INTEGER PRIMARY KEY,\n",
    "        name TEXT NOT NULL)\n",
    "    ''')\n",
    "\n",
    "    conn.commit()\n",
    "    conn.close()\n",
    "    print(f\"Table {tableName} created successfully.\")\n",
    "\n",
    "create_table('departments')"
   ]
  },
  {
   "cell_type": "code",
   "execution_count": 33,
   "id": "cd855f59",
   "metadata": {},
   "outputs": [
    {
     "name": "stdout",
     "output_type": "stream",
     "text": [
      "Table 'employees' modified successfully\n"
     ]
    }
   ],
   "source": [
    "def add_department_foreign_key():\n",
    "    conn = sqlite3.connect('test.db')\n",
    "    cursor = conn.cursor()\n",
    "\n",
    "    cursor.executescript('''\n",
    "    PRAGMA foreign_keys = OFF;\n",
    "    BEGIN TRANSACTION;\n",
    "\n",
    "    ALTER TABLE employees RENAME TO old_employees;\n",
    "\n",
    "    CREATE TABLE employees(\n",
    "        id INTEGER PRIMARY KEY,\n",
    "        name TEXT NOT NULL,\n",
    "        age INTEGER,\n",
    "        department TEXT,\n",
    "        department_id INTEGER,\n",
    "        FOREIGN KEY(department_id) REFERENCES departments(id)\n",
    "    );\n",
    "\n",
    "    INSERT INTO employees (id, name, age, department)\n",
    "    SELECT id, name, age, department FROM old_employees;\n",
    "\n",
    "    DROP TABLE old_employees;\n",
    "\n",
    "    COMMIT;\n",
    "    PRAGMA foreign_keys = ON;\n",
    "    ''')\n",
    "\n",
    "    conn.close()\n",
    "    print(\"Table 'employees' modified successfully\")\n",
    "# test\n",
    "add_department_foreign_key()"
   ]
  },
  {
   "cell_type": "code",
   "execution_count": 38,
   "id": "93e95ff1",
   "metadata": {},
   "outputs": [],
   "source": [
    "def insert_employee_and_department(department_id, department_name,employee_id, name, age, employee_department):\n",
    "    conn = sqlite3.connect('test.db')\n",
    "    cursor = conn.cursor()\n",
    "\n",
    "    try:\n",
    "        cursor.execute('''\n",
    "            INSERT INTO departments (id, name)\n",
    "            VALUES (?, ?)\n",
    "        ''',(department_id, department_name))\n",
    "\n",
    "        cursor.execute('''\n",
    "            INSERT INTO employees (id,name, age, department, department_id)\n",
    "            VALUES (?,?,?,?,?)\n",
    "        ''',(employee_id,name,age,employee_department,department_id))\n",
    "        conn.commit()\n",
    "    except Exception as e:\n",
    "        conn.rollback()\n",
    "        print('error occured, all changes rolledback, all process aborted')\n",
    "        print(e)\n",
    "    finally:\n",
    "        conn.close()\n",
    "# test\n",
    "insert_employee_and_department(1,'Finance', 16,\"alice\", 28, 'Finance')"
   ]
  },
  {
   "cell_type": "code",
   "execution_count": 39,
   "id": "02abd5fc",
   "metadata": {},
   "outputs": [
    {
     "name": "stdout",
     "output_type": "stream",
     "text": [
      "Index successfully created on name.\n"
     ]
    }
   ],
   "source": [
    "# assignment: 9(1)\n",
    "def create_index_on_name():\n",
    "    conn = sqlite3.connect('test.db')\n",
    "    cursor = conn.cursor()\n",
    "\n",
    "    cursor.execute('CREATE INDEX indx_name ON employees(name)')\n",
    "\n",
    "    conn.commit()\n",
    "    conn.close()\n",
    "\n",
    "    print('Index successfully created on name.')\n",
    "create_index_on_name()"
   ]
  },
  {
   "cell_type": "code",
   "execution_count": 40,
   "id": "5f243265",
   "metadata": {},
   "outputs": [
    {
     "name": "stdout",
     "output_type": "stream",
     "text": [
      "time taken: 0.0 seconds\n",
      "(2, 'Bob', 50, 'Engineering', None)\n"
     ]
    }
   ],
   "source": [
    "# Assignment: 9(2)\n",
    "import time\n",
    "\n",
    "def search_name_with_letter(letter):\n",
    "    conn = sqlite3.connect('test.db')\n",
    "    cursor = conn.cursor()\n",
    "\n",
    "    start = time.time()\n",
    "    cursor.execute('SELECT * FROM employees WHERE name LIKE ?',(letter + '%',))\n",
    "    records = cursor.fetchall()\n",
    "    end = time.time()\n",
    "    conn.close()\n",
    "\n",
    "    print(\"time taken: {} seconds\".format(end - start))\n",
    "\n",
    "    for record in records:\n",
    "        print(record)\n",
    "# test\n",
    "search_name_with_letter('B')"
   ]
  },
  {
   "cell_type": "code",
   "execution_count": 41,
   "id": "b4e8a06e",
   "metadata": {},
   "outputs": [
    {
     "name": "stdout",
     "output_type": "stream",
     "text": [
      "Database backed up successfully.\n"
     ]
    }
   ],
   "source": [
    "# Assignment 10:(1)\n",
    "import shutil\n",
    "def make_backup():\n",
    "    shutil.copy('test.db','backup.db')\n",
    "    print(\"Database backed up successfully.\")\n",
    "\n",
    "# test\n",
    "make_backup()"
   ]
  },
  {
   "cell_type": "code",
   "execution_count": 42,
   "id": "24660a91",
   "metadata": {},
   "outputs": [
    {
     "name": "stdout",
     "output_type": "stream",
     "text": [
      "Database restored successfully.\n"
     ]
    }
   ],
   "source": [
    "def restore_database():\n",
    "    shutil.copy('backup.db', 'test.db')\n",
    "    print(\"Database restored successfully.\")\n",
    "\n",
    "# Test the function\n",
    "restore_database()"
   ]
  },
  {
   "cell_type": "code",
   "execution_count": null,
   "id": "58bfa06a",
   "metadata": {},
   "outputs": [],
   "source": []
  }
 ],
 "metadata": {
  "kernelspec": {
   "display_name": "Python 3",
   "language": "python",
   "name": "python3"
  },
  "language_info": {
   "codemirror_mode": {
    "name": "ipython",
    "version": 3
   },
   "file_extension": ".py",
   "mimetype": "text/x-python",
   "name": "python",
   "nbconvert_exporter": "python",
   "pygments_lexer": "ipython3",
   "version": "3.10.18"
  }
 },
 "nbformat": 4,
 "nbformat_minor": 5
}

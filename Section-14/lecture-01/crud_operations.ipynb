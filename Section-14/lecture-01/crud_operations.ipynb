{
 "cells": [
  {
   "cell_type": "markdown",
   "id": "0d02d5f5",
   "metadata": {},
   "source": [
    "# CRUD Operations With SQLite3 and Python"
   ]
  },
  {
   "cell_type": "code",
   "execution_count": 11,
   "id": "73afaf9d",
   "metadata": {},
   "outputs": [
    {
     "data": {
      "text/plain": [
       "<sqlite3.Connection at 0x1aafa902d40>"
      ]
     },
     "execution_count": 11,
     "metadata": {},
     "output_type": "execute_result"
    }
   ],
   "source": [
    "import sqlite3\n",
    "\n",
    "# connecting to sqlite3 db\n",
    "connection = sqlite3.connect('example.db')\n",
    "connection"
   ]
  },
  {
   "cell_type": "code",
   "execution_count": 12,
   "id": "425dc757",
   "metadata": {},
   "outputs": [],
   "source": [
    "# for iterating through table\n",
    "cursor = connection.cursor()"
   ]
  },
  {
   "cell_type": "code",
   "execution_count": 13,
   "id": "e0014066",
   "metadata": {},
   "outputs": [],
   "source": [
    "# create a table\n",
    "cursor.execute('''\n",
    "Create Table If Not Exists employees(\n",
    "\n",
    "    id Integer Primary Key,\n",
    "    name Text Not Null,\n",
    "    age Integer,\n",
    "    department Text\n",
    "                                  \n",
    "    )\n",
    "''')\n",
    "\n",
    "# commit the changes\n",
    "connection.commit()"
   ]
  },
  {
   "cell_type": "code",
   "execution_count": 16,
   "id": "4375e979",
   "metadata": {},
   "outputs": [
    {
     "data": {
      "text/plain": [
       "<sqlite3.Cursor at 0x1aafbcdda40>"
      ]
     },
     "execution_count": 16,
     "metadata": {},
     "output_type": "execute_result"
    }
   ],
   "source": [
    "# made an error while creating the table so have to drop\n",
    "cursor.execute(\"DROP TABLE IF EXISTS Employees\")"
   ]
  },
  {
   "cell_type": "code",
   "execution_count": 17,
   "id": "e28f8872",
   "metadata": {},
   "outputs": [],
   "source": [
    "connection.commit()\n",
    "\n",
    "cursor.execute('''\n",
    "Create Table If Not Exists employees(\n",
    "\n",
    "    id Integer Primary Key,\n",
    "    name Text Not Null,\n",
    "    age Integer,\n",
    "    department Text\n",
    "                                  \n",
    "    )\n",
    "''')\n",
    "\n",
    "connection.commit()"
   ]
  },
  {
   "cell_type": "code",
   "execution_count": 18,
   "id": "2bd7833b",
   "metadata": {},
   "outputs": [
    {
     "data": {
      "text/plain": [
       "<sqlite3.Cursor at 0x1aafbcdda40>"
      ]
     },
     "execution_count": 18,
     "metadata": {},
     "output_type": "execute_result"
    }
   ],
   "source": [
    "# selecting \n",
    "cursor.execute('''\n",
    "select * from employees\n",
    "''')"
   ]
  },
  {
   "cell_type": "code",
   "execution_count": 19,
   "id": "eac8102a",
   "metadata": {},
   "outputs": [],
   "source": [
    "# inserting data into sqlite\n",
    "cursor.execute('''\n",
    "INSERT INTO Employees(name,age,department)\n",
    "               values(\"Krish\", 32, \"Engineering\")\n",
    "''')\n",
    "\n",
    "cursor.execute('''\n",
    "INSERT INTO Employees(name,age,department)\n",
    "               values(\"Bob\", 28, \"Marketing\")\n",
    "''')\n",
    "\n",
    "cursor.execute('''\n",
    "INSERT INTO Employees(name,age,department)\n",
    "               values(\"Charlie\", 32, \"Finance\")\n",
    "''')\n",
    "\n",
    "# commiting the data\n",
    "connection.commit()"
   ]
  },
  {
   "cell_type": "code",
   "execution_count": null,
   "id": "a8a6f065",
   "metadata": {},
   "outputs": [
    {
     "name": "stdout",
     "output_type": "stream",
     "text": [
      "<class 'list'>\n",
      "(1, 'Krish', 32, 'Engineering')\n",
      "(2, 'Bob', 28, 'Marketing')\n",
      "(3, 'Charlie', 32, 'Finance')\n"
     ]
    }
   ],
   "source": [
    "# printing the data \n",
    "cursor.execute(\"SELECT * from employees\")\n",
    "rows = cursor.fetchall()\n",
    "\n",
    "print(type(rows))\n",
    "\n",
    "for row in rows:\n",
    "    print(row)\n",
    "    "
   ]
  },
  {
   "cell_type": "code",
   "execution_count": 23,
   "id": "87f029c5",
   "metadata": {},
   "outputs": [],
   "source": [
    "# Updating the data\n",
    "cursor.execute('''\n",
    "UPDATE employees\n",
    "               SET age = 20\n",
    "               WHERE name = \"Krish\"\n",
    "\n",
    "''')\n",
    "connection.commit()"
   ]
  },
  {
   "cell_type": "code",
   "execution_count": 24,
   "id": "3d8467da",
   "metadata": {},
   "outputs": [
    {
     "name": "stdout",
     "output_type": "stream",
     "text": [
      "<class 'list'>\n",
      "(1, 'Krish', 20, 'Engineering')\n",
      "(2, 'Bob', 28, 'Marketing')\n",
      "(3, 'Charlie', 32, 'Finance')\n"
     ]
    }
   ],
   "source": [
    "cursor.execute(\"SELECT * from employees\")\n",
    "rows = cursor.fetchall()\n",
    "\n",
    "print(type(rows))\n",
    "\n",
    "for row in rows:\n",
    "    print(row)"
   ]
  },
  {
   "cell_type": "code",
   "execution_count": 26,
   "id": "b3f8f6df",
   "metadata": {},
   "outputs": [],
   "source": [
    "# delete the data from the table\n",
    "cursor.execute('''\n",
    "DELETE FROM employees\n",
    "               WHERE name = 'Bob'\n",
    "''')\n",
    "\n",
    "connection.commit()"
   ]
  },
  {
   "cell_type": "code",
   "execution_count": 27,
   "id": "ca70ceca",
   "metadata": {},
   "outputs": [
    {
     "name": "stdout",
     "output_type": "stream",
     "text": [
      "(1, 'Krish', 20, 'Engineering')\n",
      "(3, 'Charlie', 32, 'Finance')\n"
     ]
    }
   ],
   "source": [
    "cursor.execute('SELECT * FROM employees')\n",
    "rows = cursor.fetchall()\n",
    "\n",
    "for row in rows:\n",
    "    print(row)"
   ]
  },
  {
   "cell_type": "code",
   "execution_count": null,
   "id": "e515636d",
   "metadata": {},
   "outputs": [],
   "source": []
  }
 ],
 "metadata": {
  "kernelspec": {
   "display_name": "Python 3",
   "language": "python",
   "name": "python3"
  },
  "language_info": {
   "codemirror_mode": {
    "name": "ipython",
    "version": 3
   },
   "file_extension": ".py",
   "mimetype": "text/x-python",
   "name": "python",
   "nbconvert_exporter": "python",
   "pygments_lexer": "ipython3",
   "version": "3.10.18"
  }
 },
 "nbformat": 4,
 "nbformat_minor": 5
}

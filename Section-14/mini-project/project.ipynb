{
 "cells": [
  {
   "cell_type": "code",
   "execution_count": 1,
   "id": "078b710f",
   "metadata": {},
   "outputs": [],
   "source": [
    "import sqlite3\n",
    "\n",
    "connection = sqlite3.connect('sales_data.db')\n",
    "cursor = connection.cursor()\n",
    "\n",
    "# Creating table for sales data\n",
    "cursor.execute('''\n",
    "CREATE TABLE IF NOT EXISTS sales(\n",
    "               id INTEGER PRIMARY KEY,\n",
    "               date TEXT NOT NULL,\n",
    "               product TEXT NOT NULL,\n",
    "               sale INTEGER,\n",
    "               region TEXT\n",
    "               )\n",
    "''')\n",
    "connection.commit()"
   ]
  },
  {
   "cell_type": "code",
   "execution_count": 3,
   "id": "89af821f",
   "metadata": {},
   "outputs": [],
   "source": [
    "sales = [\n",
    "    (\"2025-10-01\", \"Laptop\", 5, \"North\"),\n",
    "    (\"2025-10-02\", \"Smartphone\", 10, \"South\"),\n",
    "    (\"2025-10-03\", \"Tablet\", 7, \"East\"),\n",
    "    (\"2025-10-04\", \"Headphones\", 15, \"West\"),\n",
    "    (\"2025-10-05\", \"Smartwatch\", 8, \"North\"),\n",
    "    (\"2025-10-06\", \"Camera\", 4, \"South\"),\n",
    "    (\"2025-10-07\", \"Printer\", 6, \"East\"),\n",
    "    (\"2025-10-08\", \"Monitor\", 3, \"West\"),\n",
    "    (\"2025-10-09\", \"Keyboard\", 12, \"North\"),\n",
    "    (\"2025-10-10\", \"Mouse\", 20, \"South\")\n",
    "]\n",
    "\n",
    "cursor.executemany('''\n",
    "INSERT INTO sales(date,product,sale,region)\n",
    "                   values(?,?,?,?)\n",
    "\n",
    "''',sales)\n",
    "connection.commit()"
   ]
  },
  {
   "cell_type": "code",
   "execution_count": 4,
   "id": "674b93d4",
   "metadata": {},
   "outputs": [
    {
     "name": "stdout",
     "output_type": "stream",
     "text": [
      "(1, '2025-10-01', 'Laptop', 5, 'North')\n",
      "(2, '2025-10-02', 'Smartphone', 10, 'South')\n",
      "(3, '2025-10-03', 'Tablet', 7, 'East')\n",
      "(4, '2025-10-04', 'Headphones', 15, 'West')\n",
      "(5, '2025-10-05', 'Smartwatch', 8, 'North')\n",
      "(6, '2025-10-06', 'Camera', 4, 'South')\n",
      "(7, '2025-10-07', 'Printer', 6, 'East')\n",
      "(8, '2025-10-08', 'Monitor', 3, 'West')\n",
      "(9, '2025-10-09', 'Keyboard', 12, 'North')\n",
      "(10, '2025-10-10', 'Mouse', 20, 'South')\n"
     ]
    }
   ],
   "source": [
    "cursor.execute('SELECT * FROM sales')\n",
    "rows = cursor.fetchall()\n",
    "for row in rows:\n",
    "    print(row)"
   ]
  },
  {
   "cell_type": "code",
   "execution_count": 5,
   "id": "995adc95",
   "metadata": {},
   "outputs": [],
   "source": [
    "# close the connection\n",
    "connection.close()"
   ]
  },
  {
   "cell_type": "code",
   "execution_count": null,
   "id": "c0405074",
   "metadata": {},
   "outputs": [],
   "source": []
  }
 ],
 "metadata": {
  "kernelspec": {
   "display_name": "Python 3",
   "language": "python",
   "name": "python3"
  },
  "language_info": {
   "codemirror_mode": {
    "name": "ipython",
    "version": 3
   },
   "file_extension": ".py",
   "mimetype": "text/x-python",
   "name": "python",
   "nbconvert_exporter": "python",
   "pygments_lexer": "ipython3",
   "version": "3.10.18"
  }
 },
 "nbformat": 4,
 "nbformat_minor": 5
}
